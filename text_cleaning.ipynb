{
 "cells": [
  {
   "cell_type": "code",
   "execution_count": 1,
   "metadata": {
    "cell_id": "00000-0f6f5613-c33e-4cbd-8497-94ac7641a29c",
    "deepnote_cell_type": "code",
    "deepnote_to_be_reexecuted": false,
    "execution_millis": 24916,
    "execution_start": 1617894986291,
    "source_hash": "b287d0e4",
    "tags": []
   },
   "outputs": [],
   "source": [
    "# Data wrangling\n",
    "import pandas as pd\n",
    "pd.options.display.max_colwidth = 3000\n",
    "from unidecode import unidecode\n",
    "import re\n",
    "\n",
    "# Text\n",
    "import nltk  \n",
    "from nltk.tokenize import word_tokenize\n",
    "from nltk.probability import FreqDist\n",
    "from nltk.corpus import stopwords\n",
    "set(stopwords.words('french'))\n",
    "\n",
    "# NLP\n",
    "import spacy.cli\n",
    "nlp = spacy.load(\"fr_core_news_sm\")"
   ]
  },
  {
   "cell_type": "markdown",
   "metadata": {
    "cell_id": "00001-09baf8a3-b9d3-41c6-ac22-9a8ef6f51301",
    "deepnote_cell_type": "text-cell-h2",
    "tags": []
   },
   "source": [
    "## Read and preprocess data"
   ]
  },
  {
   "cell_type": "code",
   "execution_count": 2,
   "metadata": {
    "cell_id": "00007-000705d1-204b-417b-b01d-28de63aed517",
    "deepnote_cell_type": "code",
    "deepnote_to_be_reexecuted": false,
    "execution_millis": 1864,
    "execution_start": 1617895011213,
    "source_hash": "8e81dda",
    "tags": []
   },
   "outputs": [],
   "source": [
    "corpus_complet = pd.read_csv('corpus_FE.csv')"
   ]
  },
  {
   "cell_type": "code",
   "execution_count": 3,
   "metadata": {
    "cell_id": "00007-15e2e32e-baa1-44de-a5e5-16ef99791707",
    "deepnote_cell_type": "code",
    "deepnote_to_be_reexecuted": false,
    "execution_millis": 89,
    "execution_start": 1617895013082,
    "source_hash": "888a7c7b",
    "tags": []
   },
   "outputs": [
    {
     "name": "stdout",
     "output_type": "stream",
     "text": [
      "Total number of records in 2011-2021 dataset:  (47162, 9)\n"
     ]
    }
   ],
   "source": [
    "print('Total number of records in 2011-2021 dataset: ', corpus_complet.shape)"
   ]
  },
  {
   "cell_type": "code",
   "execution_count": 4,
   "metadata": {},
   "outputs": [],
   "source": [
    "pd.options.display.max_colwidth = 3000"
   ]
  },
  {
   "cell_type": "markdown",
   "metadata": {
    "cell_id": "00025-c53571a6-a663-4636-9ab1-c4226db7e454",
    "deepnote_cell_type": "text-cell-h2",
    "tags": []
   },
   "source": [
    "## Word usage "
   ]
  },
  {
   "cell_type": "markdown",
   "metadata": {},
   "source": [
    "#### Preparing text for the analysis: lowercase, removing stopwords, special characters and numbers, lemmatisation"
   ]
  },
  {
   "cell_type": "code",
   "execution_count": 26,
   "metadata": {
    "cell_id": "00032-ab14f4b6-f83b-4bd5-a55c-8d7985d79cf7",
    "deepnote_cell_type": "code",
    "deepnote_to_be_reexecuted": false,
    "execution_millis": 22,
    "execution_start": 1617895021025,
    "source_hash": "4666b11f",
    "tags": []
   },
   "outputs": [],
   "source": [
    "# transfroming to string\n",
    "corpus_complet['text_as_string'] = corpus_complet['content'].astype(str) "
   ]
  },
  {
   "cell_type": "code",
   "execution_count": 29,
   "metadata": {},
   "outputs": [],
   "source": [
    "stop_words = open('stopwords-fr.txt','r', encoding=\"utf-8\").read().split('\\n')"
   ]
  },
  {
   "cell_type": "code",
   "execution_count": 30,
   "metadata": {},
   "outputs": [],
   "source": [
    "def clean_text(text):\n",
    "    # remove accents of text\n",
    "    text=unidecode(text)\n",
    "    # lowercase\n",
    "    text=text.lower()\n",
    "    text = re.sub(r'\\d+', '', text) # remove numbers\n",
    "    # characters\n",
    "    text=re.sub(r'[^\\sa-zA-Z0-9@\\[\\]]',' ', text) # remove characters: punctuation and other special characters\n",
    "    text=re.sub(r\"https*\\S+\", '', text) # remove links\n",
    "    text = re.sub(r\"\\sd\\s\", \" \", text)\n",
    "    text = re.sub(r\"\\sf\\s\", \" \", text)\n",
    "    text = re.sub(r\"\\si\\s\", \" \", text)\n",
    "    text = re.sub(r\"\\sm\\s\", \" \", text)\n",
    "    text = re.sub(r\"\\ss\\s\", \" \", text)\n",
    "    text = re.sub(r\"\\st\\s\", \" \", text)\n",
    "    text = re.sub(r\"\\su\\s\", \" \", text)\n",
    "    text = re.sub(r\"\\sy\\s\", \" \", text)\n",
    "    text = re.sub(r\"\\sl\\s\", \" \", text)\n",
    "    text = re.sub(r\"\\sc\\s\", \" \", text)\n",
    "    text = re.sub(r\"\\sa\\s\", \" \", text)\n",
    "    text = re.sub(r\"\\sn\\s\", \" \", text)\n",
    "    text = re.sub(r\"\\sr\\s\", \" \", text)\n",
    "    text = re.sub(r\"\\se\\s\", \" \", text)\n",
    "    text = ' '.join([word for word in text.split(' ') if word not in stop_words])\n",
    "    text = \" \".join([word for word in text.split()])\n",
    "    # remove stopwords\n",
    "    return text"
   ]
  },
  {
   "cell_type": "code",
   "execution_count": 31,
   "metadata": {},
   "outputs": [],
   "source": [
    "corpus_complet['cleaned_text'] = corpus_complet.text_as_string.apply(lambda x: clean_text(x))"
   ]
  },
  {
   "cell_type": "code",
   "execution_count": 32,
   "metadata": {},
   "outputs": [
    {
     "data": {
      "text/plain": [
       "0     supplement digital nouvelle star xxie siecle elon musk croit capable declencher troisieme guerre mondiale environnement medecine armement partout intelligence artificielle affole partout imperturbable microcosme creation publicitaire putsch demain president betc stephane xiberras exemple question effets annonce joue amalgame veritable intelligence artificielle capable penser automatisation taches analyse donnees instant jamais permis creer constat approuve francois brogi vp creation agence data artefact crois pouvoir emotion surprise audace traits ia suffisamment dotee puisqu base apprentissage existant jean philippe desbiolles vice president ibm watson tranche question considerant saut creatif bel humain actuellement maturite agir systemes supervises crois complementarite createur ia devenant formidable stimulant maniere repondre besoins hyperpersonnalisation consommateur crise confiance outils soutien ia generer acte creatif soutenir aide effective ensemble chaine commencer insights agence vmly exemple aide doctorants semantique finalise actuellement developpement eve ia autoapprenante aider planning strategique analyser contextes clients saisissant nuances emotionnelles langage conversations sociales face quantites exponentielles donnees planneur pouvant agir outils generalisent explique mathieu morgensztern ceo maison mere wpp france marcel publicis groupe met projet intelligence collaborative actuellement test promet connecter collaborateurs assister quotidien reseau social gestion agenda historique clients appel idees debut predit olivier reynaud fondateur teads startupper domaine intelligence artificielle creative creatifs pourront bientot portee main materiaux monde entier theme donne inspirer accompagner etape storyboard techniques pratique cas usage deploiement ciblages precis decouverte nouvelles audiences declinaisons individualisables intelligence artificielle fameux graal precision marketing copy adaptee formats tache repetitive creative intelligences liberent temps instant declinaisons digitales bientot formats publicitaires analyse olivier reynaud renforcer idee publicitaire heure technologies dynamic creative optimization dco tournent bloc capables decliner creation milliers formats online personnalises wpp confesse exemple creation formats campagne pepsico asie agence belge happiness reussit dupliquer exploit offline proposant spots tv casino ligne slotomania grace savoir faire copy writers autour machine matthias ferriere dco manager agence creation biborg reside secret machines binaires saisir nuances comportement utilisateur faut imposer maniere systematique optimisation creative humaine garante esthetique message creatif final automatisation degrader idee publicitaire renforcer breve echeance arts appliques autour creation devraient beneficier innovations algorithmiques connaissent lars von trier laissait machines decider cadrages direktor andre manoukian propose muzeek generateur musiques originales demande effets speci...\n",
       "1     culture tech chine accompli ans difficile comprendre vitesse ralentie rester eveil mobile remettre cause arrive chine annees pays etait puissant scene internationale stephane monsallier avis tranche question entrepreneur services informatiques fonde french tech shanghai chose sure developpements chine devraient poursuivre pays cap ans gouvernement chinois intelligence artificielle axe croissance prioritaire dirigeants devoilaient plan national developpement objectif pays devienne centre innovation monde matiere horizon ia priorite strategique pays chine arrivee retard mobile analyse nicolas cray associe cathay capital fonds franco chinois origine investissements domaine ia permettra creer leadership technologique resoudre probleme productivite systemes productifs digitalises moyen renforcer influence pays monde concurrencer americains etats unis research driven chine applications driven [portes recherche applications] etats unis expert roi chine data reine estime jeriel tan international pr manager deepblue pepite chinoise ia travaillant applications experimentees technologie paiement bus paume main distributeur caisse automatique atteindre objectif chine mise ordre marche principaux geants penches baidu [le google chinois] presente entreprise specialisee ia demain search fera vocal impliquera ia baidu ia appliquee vehicules autonomes travers programme apollo explique patrice nordey dirigeant fabernovel asia groupe conseil creation produits services numeriques cadre presentation marche chinois tendances innovation exemple tencent specialise applications medicales ia gouvernement associe projet fixe domaines explorer ecosysteme entrepreneurial riche implication champions pays appuyer ecosysteme entrepreneurial riche ingenieurs specialises capacite innover facon generale start up creees jour chine rappelle patrice nordey domaine ia attire investissements mondiaux rapport societe cb insights dynamisme secteur pays compte incubateurs ajoute patrice nordey figure chinaccelerator base shanghai specialise thematiques software hardware biotech investit largement intelligence artificielle parallele chine ecosysteme financement developper citer sinovation ventures fonde kai fu lee specialiste ia finance quinzaine licornes fonds cathay capital cote exemple investi momenta societe specialisee conduite autonome pays mis pied evenements envergure internationale domaine waic world artificial intelligence conference tenue fin septembre shanghai joue niveau local chine donne direction cree infrastructures parcs high tech grandes villes capitaux organiser decrit nicolas cray donnees volonte cle succes data point chine dispose volume donnees incomparable dope absence rgpd europe vise mieux encadrer recueil pays compte milliard habitants represente marche millions consommateurs connectes patrice nordey reconnaissance faciale democratisee exemple payer supermarches hema alibaba implique donnees alibaba societe commerce data remarque marge stephane monsallier ajou...\n",
       "2                                                                                                                                                                                                                                                                                                                                                                                                                                                                                                                                                                                                                                                                                                                                                                                                                                                                                                                                                                                                                                                                                                                                                                                                                                                                                                                                                                                                                                                                                                                                                                                                                                                                                                                                                                                                                                                                                                                                                                                                                                                                                                                                                                                                                                                                                                                                                                                                                                                                                                                                                                                                                                                                                                                                                                                                                                                                                                                                                                                                          intelligence artificielle ensemble theories techniques vue realiser machines capables simuler intelligence humaine\n",
       "3                                                                                                                                                                                                                                                                                                                                                                                                                                                                                                                                                                                                                                                                                                                                                                                                                                                                                                                                                                                                                                                                                                                                                                                                                                                                                                                                                                                                                                                                                                                                                                                                                                                                                                                                                                                                                                                                                                                                                                                                                                                                                                                                                                                                                                                                                                                                                                                                                                                                                                                                                                                                                                                                                                                                                                                                                                                                                                                           technologie suffisamment avancee indiscernable magie enoncait troisieme loi clarke loi verifie domaines vie economique sociale droit voir article document reference lien url site heberge cision\n",
       "4                                                                                                                                                                                                                                                                                                                                                                                                                                                                                                                                                                                                                                                                                                                                                                                                                                                                                                                                                                                                                                                                                                                                                                                                                                                                                                                                                                                                                                                                                                                                                                                                                                                                                                                                                                                                                                                                                                                                                                                                                                                                                                                                                                                                                                                                                                                                                                                                                                                                                                                                                                                                                                                                                                                                                                                                                                                                                           watson banquesl intelligence artificielle ibm watson implante banques francaises plan strategique bnp vise milliards euros economies annuelles renforcant numerisation lignes metiers credit mutuel espere economiser jours homme\n",
       "5                                                                                                                                                                                                                                                                                                                                                                                                                                                                                                                                                                                                                                                                                                                                                                                                                                                                                                                                                                                                                                                                                                             algorithme ensemble operations suivies ordre machine obtenir resultat nuage informatique cloud technologie mettre ressources informatiques grands centres donnees datacenters acceder internet abonnement ia gourmande capacite calcul entreprises optent cloud entrainer faire tourner ia donnees coeur developpement ia agit images textes videos chiffres nourrissent algorithmes qualite volume determinent capacites precision intelligence artificielle moteur regles intelligences artificielles simples machine appliquer suite conditions mathematiques predefinies effectuer tache donnee developpeurs type systeme demande puissance calcul resoudre problemes complexes apprentissage automatique machine learning abus langage terme assimile ia categorie particularite autodeterminer chemin decision partir donnees fournies developpeurs etapes premiere entrainement algorithmes obtenir resultat satisfaisant partir corpus donnees entrees machine deuxieme deploiement utilisation modele api service web application usage concret apprentissage profond deep learning branche apprentissage automatique particularite fonctionner reseaux neurones reproduisent facon simplifiee fonctionnement cerveau permettent effectuer grand nombre calculs parallele resoudre problemes complexes methode manque transparence reseaux neurones composent couches observables couche entree donnees fournies machine sortie resultat obtenu eventuels biais donnees traites couches intermediaires viendraient modifier resultat visibles apprentissage profond energivore requiert importantes quantites donnees puissance informatique ia generale intelligence artificielle capable reproduire fonctionnement cerveau humain entreprises recherche fondamentale deepmind rachetee google millions euros openai microsoft investi milliard dollars objectif ultime assure puisse parvenir jour capacites calcul actuelles insuffisantes attendant ideal ia faibles article paru tribune site web\n",
       "6                                                                                                                                                                                                                                                                                                                                                                                                                                                                                                                                                                                                                                                                                                                                                                                                                                                                                                                                                                                                                                                                                                                                                                                                                                                                                                                                                                                                                                                                                                                                                                                                                                                                                                                                                                                                                                                                                                                                                                                                                                                                                                                                                                                                                                                                                                                                                                                                                                                                                                                                                                                                                                                                                                                                                                                                                                                                                                                          business wireeagle eye networks leve millions dollars transformer videosurveillance combinant cloud ialire article complet octobre am voir article document reference lien url site heberge cision\n",
       "7                                                                                                                                                                                                                                                                                                                                                                                                                                                                                                                                                                                                                                                                                                                                                                                                                                                                                                                                                                                                                                                                                                                                                                                                                                                                                                                                                                                                                                                                                                                                                                                                                                                                                                                                                                                                                                                                                                                                                                                                                                                                                                                                                                                                                                                                                                                                                                                                                                                                                                                                                                                                                                                                                                                                                                                                                                                                                                                                                                                                                                                                                   tarification illisible algorithme calcule\n",
       "8     pensez organisations publiques devraient utiliser technologies machine learning amazon web services aws pensons organisations publiques utiliser apprentissage automatique machine learning remplir mieux missions servir efficacement citoyens technologies offrant traitement rapide precis nombre considerable donnees permettant institutions affiner prises decision gagner rapidite action machine learning integre aspects fonctionnement pays economie qualite vie sante education securite transports domaines titre exemple permettre organisations publiques tirer meilleur technologie formation element essentiel aws engage partenariat incubateur politiques publiques sciences po accompagner etudiants utilisation technologies aider mettre oeuvre projets visent resoudre preoccupations citoyens administrations entreprises travers prototypes novateurs operationnels tournes usagers comprenez preoccupations usagers ethique utilisation intelligence artificielle ia machine learning ml espace public oui agit questions importantes devons reflechir lorsqu agit utilisation machine learning secteur public dirigeants amazon passent temps questions equite egalite questions tiennent coeur discutons regulierement clients chercheurs universitaires decideurs acteurs ecosysteme assurer exploiter mieux benefices technologie veillant utilisee maniere equitable responsable dialogue honnete serieux assurer technologie appliquee maniere appropriee continuellement amelioree aws consacrons importantes ressources offrir technologie haute precision minimisant biais utilisant ensembles donnees formation refletent diversite genres ethnies cultures religions engageons informer clients meilleures pratiques garantir perspectives equipes developpement continuerons travailler partenaires industrie gouvernement universites groupes communautaires conviction intelligence artificielle machine learning impact particulierement positif societe aws engage relever defi objectif ia mene institut montaigne think tank independant clients openclassrooms leader francais formation ligne partenariat fondation abeona association defend equite science donnees ambition former fondamentaux ia definition applications concretes regard critique adresse grand public programme formation francais accessible gratuitement site openclassrooms prerequis machine learning debuts clients aws tirent reelle services technologie joue role determinant cas utilisation recherche enfants disparus etude changements climatiques developpement applications educatives amelioration soins sante faire progresser recherche observe changement utilisation technologies ml organisations publiques pandemie crise covid potentiel machine learning confirme aider gouvernements instituts recherche sante publique ong gerer quantite phenomenale donnees produites covid permettre prendre decisions eclairees sauver vies analyse ml revelent outils rapides precis collecter stocker traiter informations impossible faire manuellement rythme technologie machin...\n",
       "9     processeur ia milliards transistors oeuvre cerebras systems doute imposant industrie ventes circuits dedies intelligence artificielle devraient doubler ans conclusion etudes recentes societe analyse abi research consacree composants infrastructures cloud devolus appareils situes extremite reseau edge marche estime milliards dollars atteindre md second atteint milliards dollars croitre an ans venir nature secteurs alimentes circuits distincts cote cloud agit circuits complexes charges calculs apprentissage developper modeles reconnaissance motifs analysant quantites faramineuses donnees type deep learning inference tirer modeles resultats tangibles heure marche domine processeurs graphiques nvidia microprocesseurs intel moindre mesure circuits logiques programmables xilinx altera pionnier secteur nvidia appuie architecture massivement parallele gpu apprehender calculs matrices inherents algorithmes intelligence artificielle americain vient exemple lancer derniers coeurs tensor gpu seconde generation comprenant coeurs turing coeurs cuda delivrent tops format int capables travailler donnees precisions mieux adapter evolutions applications ia classification images detection objet comprehension langage utilises equipements cloud amazon ec soucieux limiter gamme nvidia decline famille composants demarre petits processeurs jetson nano tops poignee watts comprend plateforme logicielle coherente intel mise xeon nervana cote intel appuie position predominante processeurs reseaux vanter processeurs xeon dotes instructions ia numero mondial semi conducteurs vient devoiler processeurs nervana declines versions npp apprentissage training npp inference fabrique technologie fin fet nm americain comprend coeur cpu accelerateurs inference ice mo sram embarquee bloc regulation tension complet adapter budgets thermiques tops simplifier conception systeme npp comptent coeurs tensor developpant tops mo memoire distribuee inter faces pcie gen hbm ensemble represente milliards transistors repartis puces reunies interposeur fabriquees tsmc nm consommation variant fournisseurs fpga clairement oriente dernieres generations circuits applications ia xilinx livre ete premiers membres nouvelle famille versal core dediee intelligence artificielle fabriques nm tsmc circuits combinent coeurs cortex applications cortex rf traitement taches temps reel millions cellules logiques programmables moteurs dsp blocs acceleration algorithmes intelligence artificielle xilinx traitement reseaux neuronaux convolution circuits minima performants processeurs graphiques gamme gourmands energie cote intel adapte derniers fpga agilex nm fonctionnalites tournees intelligence exemple adaptant structure blocs dsp compatibles format bfloat formats entiers basse resolu tion cloche outsider achronix semiconductor speedstert nm embarquent moteurs dedies machine learning instar renesas principaux fournisseurs microcontroleurs proposent outils traduisant frameworks ia usuels code compatible composants ...\n",
       "10                                                                                                                                                                                                                                                                                                                                                                                                                                                                                                                                                                                                                                                                                                                                                                                                                                                                                                                                                                                                                                                                                                                                                                                                                                                                                                                                                                                                                                                                                                                                                                                                                                                                                                                                                                                                                                                                                                                                                                                                                                                                                                                                                                                                                                                                                                                                                                                                                                                                                                                                                       cerclefinance com fabricant americain puces electroniques qualcomm annonce semaine lancement fonds investissement millions dollars destine startups intelligence artificielle revendiquant statut pionnier ia societe californienne precise investissements fonds concerneront nouvelles technologies voitures autonomes robotique plates formes apprentissage automatique qualcomm investi cadre anyvision societe reconnaissance visage corps objets reduit problemes confidentialite copyright cerclefinance com droits reserves article paru abc bourse site web\n",
       "11                                                                                                                                                                                                                                                                                                                                                                                                                                                                                                                                                                                                                                                                                                                                                                                                                                                                                                                                                                                                                                                                                                                                                                                                                                                                                                                                                                                                                                                                                                                                                                                                                                                                                                                                                                                                                                                                                                                                                                                                                                                                                                                                                                                                                                                                                                                                                                                                                                                                                                                                                                                                                                                                     cerclefinance com groupe altran annonce mardi soir cree equipes specialisees science donnees intelligence artificielle ia france italie espagne portugal allemagne equipes partie tessella world class center altran specialise analyse donnees venant renforcer operations existantes amerique nord royaume uni pays precise altran altran acquisition tessella decembre copyright cerclefinance com droits reserves article paru abc bourse site web\n",
       "12                                                                                                                                                                                                                                                                                                                                                                                                                                                                                                                                                                                                                                                                                                                                                                                                                                                                                                                                                                                                                                                                                                                                                                                                                                                                                                                                                                                                                                                                                                                                                                                                                                                                                                                                                                                                                                                                                                                                                                                                                                                                                                                                                                                                                                                                                                                                                                                                                                                                                      cerclefinance com groupe thales associe centech incubateur start up quebec accompagner montee puissance start ups domaine intelligence artificielle partenariat strategique permettra start ups perfectionner concepts prototypes beneficiant expertise technologique numerique commerciale groupe thales precise groupe thales proposera programmes accompagnement programme acceleration start ups evaluer marche viabilite projet duree semaines programme propulsion duree mois vise soutenir start ups developpement produit plan commercialisation copyright cerclefinance com droits reserves article paru abc bourse site web\n",
       "13                                                                                                                                                                                                                                                                                                                                                                                                                                                                                                                                                                                                                                                                                                                                                                                                                                                                                                                                                                                                                                                                                                                                                                                                                                                                                                                                                                                                                                                                                                                                                                                                                                                                                                                                                                                                                                                                                                                                                                                                                                                                                                                                                                                                                                                                                                                                                                                                                                                                                   cerclefinance com telenor annonce jour intention associer importantes entreprises norvegiennes dnb dnv gl equinor groupe kongsberg creer centre national dedie intelligence artificielle open lab extension laboratoire intelligence artificielle telenor ntnu trondheim charge developper solutions repondre besoins partenaires telenor projet appuie initiative commune lancee telenor universite norvegienne sciences technologie ntnu sintef organisation recherche independante domaines intelligence artificielle apprentissage automatique big data copyright cerclefinance com droits reserves article paru abc bourse site web\n",
       "14                                                                                                                                                                                                                                                                                                                                                                                                                                                                                                                                                                                                                                                                                                                                                                                                                                                                                                                                                                                                                                                                                                                                                                                                                                                                                                                                                                                                                                                                                                                                                                                                                                                                                                                                                                                                                                                                                                                                                                                                                                                                                                                                                                                                                                                                                                                                                          cerclefinance com thales annonce lancement premiere plate forme europeenne intelligence artificielle porte commission europeenne projet finance budget millions euros leader projet thales coordonne mise place plateforme aieu commission europeenne cherche tirer meilleur parti revolution ia boostant capacite technologique industrielle europe renforcant competitivite industrielle accelerant progressivement adoption ia ensemble economie indique groupe objectif projet ans federer ecosysteme ia europe favoriser partage usage valorisation nouvelles solutions domaines structurants economie europeenne robotique sante medias agriculture senseurs iot cybersecurite copyright cerclefinance com droits reserves article paru abc bourse site web\n",
       "15                                                                                                                                                                                                                                                                                                                                                                                                                                                                                                                                                                                                                                                                                                                                                                                                                                                                                                                                                                                                                                                                                                                                                                                                                                                                                                                                                                                                                                                                                                                                                                                                                                                                                                                                                                                                                                                                                                                                                                                                                                                                                                                                                                                                                                                                                                                                                                                                                                                                                                                                                                                                                                                                                                                                                                                                                                                                                                essais cliniques phase cours tg vaccin therapeutique individualise combinant expertise transgene matiere vecteurs viraux technologie intelligence artificielle voir article document reference lien url site heberge cision\n",
       "16                                                                                                                                                                                                                                                                                                                                                                                                                                                                                                                                                                                                                                                                                                                                                                                                                                                                                                                                                                                                                                                                                                                                                                                                                                                                                                                                                                                                                                                                                                                                                                                                                                                                                                                                                                                                                                                                                edf annonce communique creation nouvelle start up metroscope mis point logiciel servant intelligence artificielle optimiser production electricite process industriels diagnostic automatique metroscope diagnostic automatique installation industrielle munie prealablement capteurs identifier alea affectant process industriel susceptible generer perte production deterioration durable composant arret simple installation elaboree interne equipe solution deployee temps propres installations edf centrales nucleaires centrales cycles combines gaz deuxieme temps horizon fins commerciales eventail industriels soucieux optimiser process consommation energetique solution innovante enrichir gamme services proposes clients continuer accompagner demain usine futur felicite henri lafontaine directeur executif charge pole clients services action regionale noter metroscope adresse producteurs energies renouvelables puisqu concerne optimisation salle machines energies conventionnelles industriels installations edf beneficieront start up francaises developpent creneau big data service optimisation energetique dernieres date energisme metron energiency this article appeared in greenunivers site web\n",
       "17                                                                                                                                                                                                                                                                                                                                                                                                                                                                                                                                                                                                                                                                                                                                                                                                                                                                                                                                                                                                                                                                                                                                                                                                                                                                                                                                                                    start up girondine specialisee applications predictives dediees mobilite leve bpifrance piinvest business angels incubateur americain urban us premiere augmentation capital permettre societe fondee doubler effectifs compte quinzaine salaries etait remarquer concours cleantech open france accompagnee incubateur bordeaux technowest qucit quantified cities mise applications optimiser fluidifier organisation espace public bikepredict informe disponibilite velos libre service parkpredict determiner places stationnement libres roadpredict calcule probabilite accidentogene troncons heure evenements externes comfortpredict destinee entreprises mesure impact amenagements habitants confort stress securite donnees recyclables outils ete reunis plateforme urban predictive platform planification logistique optimisation investissements amelioration quotidien usagers donnees recoltees utilisables outils trouve moyen faire moteurs predictifs generalisables partir donnees donnees velos libre service ameliorer prediction places stationnement exemple explique raphael cherrier fondateur qucit start up compte clients secteur transports keolis suez vinci egis concentre instant marche francais europeen occasion tester outils new york grace programme acceleration urban incubateur urban us qucit entreprise lancee intelligence artificielle service mobilite citons ween mis pied solution prediction temps reel arrivee utilisateurs lieu dediee optimisation charge vehicules electriques start up aixoise recu innovation award cadre vegas distinction forum europeen energy for smart mobility organise greenunivers pole competitivite capenergies marseille annee article paru greenunivers site web\n",
       "18                                                                                                                                                                                                                                                                                                                                                                                                                                                                                                                                                                                                                                                                                                                                                                                                                                                                                                                                                                                                                                                                                                                                                                                                                                                                                                                   connaissait geothermie associee grands batiments version augmentee hiver calories classiquement prelevees sol sondes profondes ete excedents chaleur batiments stockes sondes recuperes mois tard accenta start up palaiseau essonne plateau saclay travaille moment commercialisation procede issu travaux centre efficacite energetique systemes mines paristech armines brgm bureau recherches geologiques minieres geothermie marche solution cours deploiement projets immobiliers industriels instant association entreprises services energetiques bureaux etudes annonce pierre tremolieres fondateur accenta anticipe commandes fermes mois viennent solution gourmande capex geothermie conventionnelle peine moment trouve portee augmentation taxe carbone prix investissement chaufferie gaz geothermie investissement ans inferieur duree bail immobilier annees ia embarquee denommee borehole thermal energy storage btes technologie prelever calories hiver temperature situe cdeg grace chaleur fournie climatisation ete general perdue btes booste calories panneaux solaires thermiques excedentaires ete accenta developpe procede propose outils alimentation pompes chaleur panneaux solaires reseau moment opportun bonne prise compte inertie batiment appuye deuxieme grosse originalite jeune societe pilotage energetique batiment grace analyse donnees milieu consommations meteo prix electricite recours faire intelligence artificielle nouvelle generation start up efficacite energetique thermique innovant numerique cri accenta leve meur investisseurs prives annee ludovic moan createur sigfox thierry roussel co fondateur direct energie laureate concours start up collecte autour meur financements publics innovation article paru greenunivers site web\n",
       "19                                                                                                                                                                                                                                                                                                                                                                                                                                                                                                                                                                                                                                                                                                                                                                                                                                                                                                                                                                                                                                                                                                                                                                                                                                                                                                                                                                                                                                                                                                                                                                                      intelligence artificielle ia service consommation energetique industriels positionnement start up parisienne metron vient finaliser deuxieme tour table meur bnp paribas financiere fonds prives investisseur italien breed reply entrent capital actionnaires minoritaires premiere partie levee fonds breed reply ete realisee mars tour meur ete boucle airflux specialiste solutions gestion production air comprime industriel demarrer commercialisation solution ans collectons donnees internes externes usine donnees meteorologiques marches energetiques facturation decrit vincent sciandra ceo co fondateur start up fondee donnees ensuite traitees algorithmes mieux parametrer machines produire quantite qualite reduisant consommation energie production consommation exemple metron aide verriers optimiser consommation fours indiquons operateur parametres pilotage issus ia optimisation obtenons centaines milliers euros difference declare vincent sciadra idem usines danone metron optimise consommation vapeur parties process reduire consommation energie danone communique eur an economies meur ca metron compte developper international represente activite societe presente bresil colombie dubai italie singapour conclu partenariats strategiques coree sud japon compte implanter mexique coree sud russie metron travaille developper produits secteur electromobilite integration energies renouvelables process industriels faire passer collaborateurs article paru greenunivers site web\n",
       "Name: cleaned_text, dtype: object"
      ]
     },
     "execution_count": 32,
     "metadata": {},
     "output_type": "execute_result"
    }
   ],
   "source": [
    "corpus_complet['cleaned_text'].head(20)"
   ]
  },
  {
   "cell_type": "code",
   "execution_count": 33,
   "metadata": {},
   "outputs": [],
   "source": [
    "corpus_complet.to_csv('corpus_clean.csv')"
   ]
  },
  {
   "cell_type": "markdown",
   "metadata": {},
   "source": [
    "## Visualization of the word usage"
   ]
  },
  {
   "cell_type": "code",
   "execution_count": 34,
   "metadata": {},
   "outputs": [],
   "source": [
    "mylist = []\n",
    "for string in corpus_complet['cleaned_text']:\n",
    "    mylist.append(string)\n",
    "mylist\n",
    "\n",
    "new_text = str(mylist)"
   ]
  },
  {
   "cell_type": "code",
   "execution_count": 35,
   "metadata": {},
   "outputs": [],
   "source": [
    "# Tokenization\n",
    "txt_tokens = word_tokenize(new_text)\n",
    "txt_tokens = [word.lower() for word in txt_tokens if word.isalpha()]\n",
    "txt_tokens = [word for word in txt_tokens if not word in stop_words]"
   ]
  },
  {
   "cell_type": "code",
   "execution_count": 36,
   "metadata": {},
   "outputs": [],
   "source": [
    "# Creation of the frequency list\n",
    "fdist = FreqDist(txt_tokens)"
   ]
  },
  {
   "cell_type": "code",
   "execution_count": 37,
   "metadata": {},
   "outputs": [
    {
     "data": {
      "text/html": [
       "<div>\n",
       "<style scoped>\n",
       "    .dataframe tbody tr th:only-of-type {\n",
       "        vertical-align: middle;\n",
       "    }\n",
       "\n",
       "    .dataframe tbody tr th {\n",
       "        vertical-align: top;\n",
       "    }\n",
       "\n",
       "    .dataframe thead th {\n",
       "        text-align: right;\n",
       "    }\n",
       "</style>\n",
       "<table border=\"1\" class=\"dataframe\">\n",
       "  <thead>\n",
       "    <tr style=\"text-align: right;\">\n",
       "      <th></th>\n",
       "      <th>word</th>\n",
       "      <th>frequency</th>\n",
       "    </tr>\n",
       "  </thead>\n",
       "  <tbody>\n",
       "    <tr>\n",
       "      <th>17</th>\n",
       "      <td>intelligence</td>\n",
       "      <td>74925</td>\n",
       "    </tr>\n",
       "    <tr>\n",
       "      <th>18</th>\n",
       "      <td>artificielle</td>\n",
       "      <td>69147</td>\n",
       "    </tr>\n",
       "    <tr>\n",
       "      <th>60</th>\n",
       "      <td>ia</td>\n",
       "      <td>53336</td>\n",
       "    </tr>\n",
       "    <tr>\n",
       "      <th>41</th>\n",
       "      <td>donnees</td>\n",
       "      <td>47891</td>\n",
       "    </tr>\n",
       "    <tr>\n",
       "      <th>644</th>\n",
       "      <td>ete</td>\n",
       "      <td>34386</td>\n",
       "    </tr>\n",
       "    <tr>\n",
       "      <th>240</th>\n",
       "      <td>faire</td>\n",
       "      <td>33356</td>\n",
       "    </tr>\n",
       "    <tr>\n",
       "      <th>139</th>\n",
       "      <td>france</td>\n",
       "      <td>30334</td>\n",
       "    </tr>\n",
       "    <tr>\n",
       "      <th>609</th>\n",
       "      <td>entreprises</td>\n",
       "      <td>25435</td>\n",
       "    </tr>\n",
       "    <tr>\n",
       "      <th>174</th>\n",
       "      <td>monde</td>\n",
       "      <td>24840</td>\n",
       "    </tr>\n",
       "    <tr>\n",
       "      <th>370</th>\n",
       "      <td>ans</td>\n",
       "      <td>24080</td>\n",
       "    </tr>\n",
       "    <tr>\n",
       "      <th>205</th>\n",
       "      <td>temps</td>\n",
       "      <td>23225</td>\n",
       "    </tr>\n",
       "    <tr>\n",
       "      <th>469</th>\n",
       "      <td>google</td>\n",
       "      <td>22280</td>\n",
       "    </tr>\n",
       "    <tr>\n",
       "      <th>442</th>\n",
       "      <td>recherche</td>\n",
       "      <td>22198</td>\n",
       "    </tr>\n",
       "    <tr>\n",
       "      <th>365</th>\n",
       "      <td>site</td>\n",
       "      <td>21711</td>\n",
       "    </tr>\n",
       "    <tr>\n",
       "      <th>471</th>\n",
       "      <td>entreprise</td>\n",
       "      <td>20870</td>\n",
       "    </tr>\n",
       "    <tr>\n",
       "      <th>589</th>\n",
       "      <td>millions</td>\n",
       "      <td>18915</td>\n",
       "    </tr>\n",
       "    <tr>\n",
       "      <th>243</th>\n",
       "      <td>machine</td>\n",
       "      <td>18823</td>\n",
       "    </tr>\n",
       "    <tr>\n",
       "      <th>211</th>\n",
       "      <td>technologies</td>\n",
       "      <td>18604</td>\n",
       "    </tr>\n",
       "    <tr>\n",
       "      <th>362</th>\n",
       "      <td>article</td>\n",
       "      <td>18206</td>\n",
       "    </tr>\n",
       "    <tr>\n",
       "      <th>30</th>\n",
       "      <td>exemple</td>\n",
       "      <td>17795</td>\n",
       "    </tr>\n",
       "    <tr>\n",
       "      <th>298</th>\n",
       "      <td>up</td>\n",
       "      <td>17619</td>\n",
       "    </tr>\n",
       "    <tr>\n",
       "      <th>297</th>\n",
       "      <td>start</td>\n",
       "      <td>17511</td>\n",
       "    </tr>\n",
       "    <tr>\n",
       "      <th>119</th>\n",
       "      <td>clients</td>\n",
       "      <td>17467</td>\n",
       "    </tr>\n",
       "    <tr>\n",
       "      <th>825</th>\n",
       "      <td>algorithme</td>\n",
       "      <td>17146</td>\n",
       "    </tr>\n",
       "    <tr>\n",
       "      <th>682</th>\n",
       "      <td>euros</td>\n",
       "      <td>17063</td>\n",
       "    </tr>\n",
       "    <tr>\n",
       "      <th>1063</th>\n",
       "      <td>numerique</td>\n",
       "      <td>16930</td>\n",
       "    </tr>\n",
       "    <tr>\n",
       "      <th>238</th>\n",
       "      <td>grace</td>\n",
       "      <td>16819</td>\n",
       "    </tr>\n",
       "    <tr>\n",
       "      <th>464</th>\n",
       "      <td>marche</td>\n",
       "      <td>16811</td>\n",
       "    </tr>\n",
       "    <tr>\n",
       "      <th>366</th>\n",
       "      <td>web</td>\n",
       "      <td>16750</td>\n",
       "    </tr>\n",
       "    <tr>\n",
       "      <th>455</th>\n",
       "      <td>technologie</td>\n",
       "      <td>16477</td>\n",
       "    </tr>\n",
       "    <tr>\n",
       "      <th>517</th>\n",
       "      <td>societe</td>\n",
       "      <td>16426</td>\n",
       "    </tr>\n",
       "    <tr>\n",
       "      <th>738</th>\n",
       "      <td>systeme</td>\n",
       "      <td>15678</td>\n",
       "    </tr>\n",
       "    <tr>\n",
       "      <th>142</th>\n",
       "      <td>groupe</td>\n",
       "      <td>15372</td>\n",
       "    </tr>\n",
       "    <tr>\n",
       "      <th>1879</th>\n",
       "      <td>place</td>\n",
       "      <td>15243</td>\n",
       "    </tr>\n",
       "    <tr>\n",
       "      <th>255</th>\n",
       "      <td>faut</td>\n",
       "      <td>15064</td>\n",
       "    </tr>\n",
       "    <tr>\n",
       "      <th>132</th>\n",
       "      <td>explique</td>\n",
       "      <td>14877</td>\n",
       "    </tr>\n",
       "    <tr>\n",
       "      <th>52</th>\n",
       "      <td>data</td>\n",
       "      <td>14862</td>\n",
       "    </tr>\n",
       "    <tr>\n",
       "      <th>348</th>\n",
       "      <td>travail</td>\n",
       "      <td>14724</td>\n",
       "    </tr>\n",
       "    <tr>\n",
       "      <th>389</th>\n",
       "      <td>services</td>\n",
       "      <td>14717</td>\n",
       "    </tr>\n",
       "    <tr>\n",
       "      <th>111</th>\n",
       "      <td>developpement</td>\n",
       "      <td>14595</td>\n",
       "    </tr>\n",
       "    <tr>\n",
       "      <th>382</th>\n",
       "      <td>etait</td>\n",
       "      <td>14507</td>\n",
       "    </tr>\n",
       "    <tr>\n",
       "      <th>184</th>\n",
       "      <td>cas</td>\n",
       "      <td>14447</td>\n",
       "    </tr>\n",
       "    <tr>\n",
       "      <th>1</th>\n",
       "      <td>nouvelle</td>\n",
       "      <td>14319</td>\n",
       "    </tr>\n",
       "    <tr>\n",
       "      <th>721</th>\n",
       "      <td>algorithmes</td>\n",
       "      <td>13782</td>\n",
       "    </tr>\n",
       "    <tr>\n",
       "      <th>850</th>\n",
       "      <td>sante</td>\n",
       "      <td>13762</td>\n",
       "    </tr>\n",
       "    <tr>\n",
       "      <th>1966</th>\n",
       "      <td>in</td>\n",
       "      <td>13646</td>\n",
       "    </tr>\n",
       "    <tr>\n",
       "      <th>2049</th>\n",
       "      <td>annee</td>\n",
       "      <td>13479</td>\n",
       "    </tr>\n",
       "    <tr>\n",
       "      <th>380</th>\n",
       "      <td>annees</td>\n",
       "      <td>13428</td>\n",
       "    </tr>\n",
       "    <tr>\n",
       "      <th>144</th>\n",
       "      <td>projet</td>\n",
       "      <td>13297</td>\n",
       "    </tr>\n",
       "    <tr>\n",
       "      <th>761</th>\n",
       "      <td>service</td>\n",
       "      <td>13236</td>\n",
       "    </tr>\n",
       "  </tbody>\n",
       "</table>\n",
       "</div>"
      ],
      "text/plain": [
       "               word  frequency\n",
       "17     intelligence      74925\n",
       "18     artificielle      69147\n",
       "60               ia      53336\n",
       "41          donnees      47891\n",
       "644             ete      34386\n",
       "240           faire      33356\n",
       "139          france      30334\n",
       "609     entreprises      25435\n",
       "174           monde      24840\n",
       "370             ans      24080\n",
       "205           temps      23225\n",
       "469          google      22280\n",
       "442       recherche      22198\n",
       "365            site      21711\n",
       "471      entreprise      20870\n",
       "589        millions      18915\n",
       "243         machine      18823\n",
       "211    technologies      18604\n",
       "362         article      18206\n",
       "30          exemple      17795\n",
       "298              up      17619\n",
       "297           start      17511\n",
       "119         clients      17467\n",
       "825      algorithme      17146\n",
       "682           euros      17063\n",
       "1063      numerique      16930\n",
       "238           grace      16819\n",
       "464          marche      16811\n",
       "366             web      16750\n",
       "455     technologie      16477\n",
       "517         societe      16426\n",
       "738         systeme      15678\n",
       "142          groupe      15372\n",
       "1879          place      15243\n",
       "255            faut      15064\n",
       "132        explique      14877\n",
       "52             data      14862\n",
       "348         travail      14724\n",
       "389        services      14717\n",
       "111   developpement      14595\n",
       "382           etait      14507\n",
       "184             cas      14447\n",
       "1          nouvelle      14319\n",
       "721     algorithmes      13782\n",
       "850           sante      13762\n",
       "1966             in      13646\n",
       "2049          annee      13479\n",
       "380          annees      13428\n",
       "144          projet      13297\n",
       "761         service      13236"
      ]
     },
     "execution_count": 37,
     "metadata": {},
     "output_type": "execute_result"
    }
   ],
   "source": [
    "# Frequency Distribution Plot\n",
    "df_fdist = pd.DataFrame(fdist.items(), columns=['word', 'frequency'])\n",
    "\n",
    "#top 30 words \n",
    "df_fdist30 = df_fdist.sort_values(['frequency'], ascending=False).head(50)\n",
    "df_fdist30"
   ]
  },
  {
   "cell_type": "markdown",
   "metadata": {},
   "source": [
    "## Bigrams"
   ]
  },
  {
   "cell_type": "code",
   "execution_count": 125,
   "metadata": {},
   "outputs": [
    {
     "name": "stderr",
     "output_type": "stream",
     "text": [
      "/Users/iuliia/opt/anaconda3/lib/python3.8/site-packages/ipykernel/ipkernel.py:287: DeprecationWarning:\n",
      "\n",
      "`should_run_async` will not call `transform_cell` automatically in the future. Please pass the result to `transformed_cell` argument and any exception that happen during thetransform in `preprocessing_exc_tuple` in IPython 7.17 and above.\n",
      "\n"
     ]
    }
   ],
   "source": [
    "# Creation of the bigrams dataframe\n",
    "bigrams_series = (pd.Series(nltk.ngrams(txt_tokens, 2)).value_counts())\n",
    "bigrams = pd.DataFrame(bigrams_series.sort_values(ascending=False))\n",
    "bigrams = bigrams_top.reset_index().rename(columns={'index': 'bigram', 0:'count'})"
   ]
  },
  {
   "cell_type": "code",
   "execution_count": 126,
   "metadata": {},
   "outputs": [
    {
     "name": "stderr",
     "output_type": "stream",
     "text": [
      "/Users/iuliia/opt/anaconda3/lib/python3.8/site-packages/ipykernel/ipkernel.py:287: DeprecationWarning:\n",
      "\n",
      "`should_run_async` will not call `transform_cell` automatically in the future. Please pass the result to `transformed_cell` argument and any exception that happen during thetransform in `preprocessing_exc_tuple` in IPython 7.17 and above.\n",
      "\n"
     ]
    },
    {
     "data": {
      "text/html": [
       "<div>\n",
       "<style scoped>\n",
       "    .dataframe tbody tr th:only-of-type {\n",
       "        vertical-align: middle;\n",
       "    }\n",
       "\n",
       "    .dataframe tbody tr th {\n",
       "        vertical-align: top;\n",
       "    }\n",
       "\n",
       "    .dataframe thead th {\n",
       "        text-align: right;\n",
       "    }\n",
       "</style>\n",
       "<table border=\"1\" class=\"dataframe\">\n",
       "  <thead>\n",
       "    <tr style=\"text-align: right;\">\n",
       "      <th></th>\n",
       "      <th>bigram</th>\n",
       "      <th>count</th>\n",
       "    </tr>\n",
       "  </thead>\n",
       "  <tbody>\n",
       "    <tr>\n",
       "      <th>0</th>\n",
       "      <td>(intelligence, artificielle)</td>\n",
       "      <td>68015</td>\n",
       "    </tr>\n",
       "    <tr>\n",
       "      <th>1</th>\n",
       "      <td>(start, up)</td>\n",
       "      <td>16752</td>\n",
       "    </tr>\n",
       "    <tr>\n",
       "      <th>2</th>\n",
       "      <td>(etats, unis)</td>\n",
       "      <td>10105</td>\n",
       "    </tr>\n",
       "    <tr>\n",
       "      <th>3</th>\n",
       "      <td>(machine, learning)</td>\n",
       "      <td>6933</td>\n",
       "    </tr>\n",
       "    <tr>\n",
       "      <th>4</th>\n",
       "      <td>(millions, euros)</td>\n",
       "      <td>6572</td>\n",
       "    </tr>\n",
       "    <tr>\n",
       "      <th>5</th>\n",
       "      <td>(artificielle, ia)</td>\n",
       "      <td>5014</td>\n",
       "    </tr>\n",
       "    <tr>\n",
       "      <th>6</th>\n",
       "      <td>(temps, reel)</td>\n",
       "      <td>4951</td>\n",
       "    </tr>\n",
       "    <tr>\n",
       "      <th>7</th>\n",
       "      <td>(big, data)</td>\n",
       "      <td>4771</td>\n",
       "    </tr>\n",
       "    <tr>\n",
       "      <th>8</th>\n",
       "      <td>(chiffre, affaires)</td>\n",
       "      <td>4344</td>\n",
       "    </tr>\n",
       "    <tr>\n",
       "      <th>9</th>\n",
       "      <td>(reseaux, sociaux)</td>\n",
       "      <td>4048</td>\n",
       "    </tr>\n",
       "    <tr>\n",
       "      <th>10</th>\n",
       "      <td>(deep, learning)</td>\n",
       "      <td>3930</td>\n",
       "    </tr>\n",
       "    <tr>\n",
       "      <th>11</th>\n",
       "      <td>(nouvelles, technologies)</td>\n",
       "      <td>3703</td>\n",
       "    </tr>\n",
       "    <tr>\n",
       "      <th>12</th>\n",
       "      <td>(milliards, dollars)</td>\n",
       "      <td>3550</td>\n",
       "    </tr>\n",
       "    <tr>\n",
       "      <th>13</th>\n",
       "      <td>(plate, forme)</td>\n",
       "      <td>3113</td>\n",
       "    </tr>\n",
       "    <tr>\n",
       "      <th>14</th>\n",
       "      <td>(millions, dollars)</td>\n",
       "      <td>2913</td>\n",
       "    </tr>\n",
       "    <tr>\n",
       "      <th>15</th>\n",
       "      <td>(directeur, general)</td>\n",
       "      <td>2831</td>\n",
       "    </tr>\n",
       "    <tr>\n",
       "      <th>16</th>\n",
       "      <td>(reconnaissance, faciale)</td>\n",
       "      <td>2475</td>\n",
       "    </tr>\n",
       "    <tr>\n",
       "      <th>17</th>\n",
       "      <td>(objets, connectes)</td>\n",
       "      <td>2415</td>\n",
       "    </tr>\n",
       "    <tr>\n",
       "      <th>18</th>\n",
       "      <td>(new, york)</td>\n",
       "      <td>2330</td>\n",
       "    </tr>\n",
       "    <tr>\n",
       "      <th>19</th>\n",
       "      <td>(reseau, social)</td>\n",
       "      <td>2280</td>\n",
       "    </tr>\n",
       "  </tbody>\n",
       "</table>\n",
       "</div>"
      ],
      "text/plain": [
       "                          bigram  count\n",
       "0   (intelligence, artificielle)  68015\n",
       "1                    (start, up)  16752\n",
       "2                  (etats, unis)  10105\n",
       "3            (machine, learning)   6933\n",
       "4              (millions, euros)   6572\n",
       "5             (artificielle, ia)   5014\n",
       "6                  (temps, reel)   4951\n",
       "7                    (big, data)   4771\n",
       "8            (chiffre, affaires)   4344\n",
       "9             (reseaux, sociaux)   4048\n",
       "10              (deep, learning)   3930\n",
       "11     (nouvelles, technologies)   3703\n",
       "12          (milliards, dollars)   3550\n",
       "13                (plate, forme)   3113\n",
       "14           (millions, dollars)   2913\n",
       "15          (directeur, general)   2831\n",
       "16     (reconnaissance, faciale)   2475\n",
       "17           (objets, connectes)   2415\n",
       "18                   (new, york)   2330\n",
       "19              (reseau, social)   2280"
      ]
     },
     "execution_count": 126,
     "metadata": {},
     "output_type": "execute_result"
    }
   ],
   "source": [
    "bigrams_top.head(20)"
   ]
  },
  {
   "cell_type": "code",
   "execution_count": 130,
   "metadata": {},
   "outputs": [
    {
     "name": "stderr",
     "output_type": "stream",
     "text": [
      "/Users/iuliia/opt/anaconda3/lib/python3.8/site-packages/ipykernel/ipkernel.py:287: DeprecationWarning:\n",
      "\n",
      "`should_run_async` will not call `transform_cell` automatically in the future. Please pass the result to `transformed_cell` argument and any exception that happen during thetransform in `preprocessing_exc_tuple` in IPython 7.17 and above.\n",
      "\n"
     ]
    }
   ],
   "source": [
    "bigrams['bigram'] = bigrams['bigram'].astype(str)"
   ]
  },
  {
   "cell_type": "code",
   "execution_count": 134,
   "metadata": {},
   "outputs": [
    {
     "name": "stderr",
     "output_type": "stream",
     "text": [
      "/Users/iuliia/opt/anaconda3/lib/python3.8/site-packages/ipykernel/ipkernel.py:287: DeprecationWarning:\n",
      "\n",
      "`should_run_async` will not call `transform_cell` automatically in the future. Please pass the result to `transformed_cell` argument and any exception that happen during thetransform in `preprocessing_exc_tuple` in IPython 7.17 and above.\n",
      "\n",
      "<ipython-input-134-506aa5591629>:1: FutureWarning:\n",
      "\n",
      "The default value of regex will change from True to False in a future version. In addition, single character regular expressions will*not* be treated as literal strings when regex=True.\n",
      "\n",
      "<ipython-input-134-506aa5591629>:2: FutureWarning:\n",
      "\n",
      "The default value of regex will change from True to False in a future version. In addition, single character regular expressions will*not* be treated as literal strings when regex=True.\n",
      "\n"
     ]
    }
   ],
   "source": [
    "bigrams['bigram'] = bigrams['bigram'].str.replace(\"(\", '')\n",
    "bigrams'bigram'] = bigrams['bigram'].str.replace(\")\", '')\n",
    "bigrams['bigram'] = bigrams['bigram'].str.replace(\",\", '_')\n",
    "bigrams['bigram'] = bigrams['bigram'].str.replace(\" \", '')\n",
    "bigrams['bigram'] = bigrams['bigram'].str.replace(\"'\", '')"
   ]
  },
  {
   "cell_type": "code",
   "execution_count": 137,
   "metadata": {},
   "outputs": [
    {
     "name": "stderr",
     "output_type": "stream",
     "text": [
      "/Users/iuliia/opt/anaconda3/lib/python3.8/site-packages/ipykernel/ipkernel.py:287: DeprecationWarning:\n",
      "\n",
      "`should_run_async` will not call `transform_cell` automatically in the future. Please pass the result to `transformed_cell` argument and any exception that happen during thetransform in `preprocessing_exc_tuple` in IPython 7.17 and above.\n",
      "\n"
     ]
    }
   ],
   "source": [
    "bigrams = bigrams.drop([bigrams.index[0] , bigrams.index[5]])"
   ]
  },
  {
   "cell_type": "code",
   "execution_count": 141,
   "metadata": {},
   "outputs": [
    {
     "name": "stderr",
     "output_type": "stream",
     "text": [
      "/Users/iuliia/opt/anaconda3/lib/python3.8/site-packages/ipykernel/ipkernel.py:287: DeprecationWarning:\n",
      "\n",
      "`should_run_async` will not call `transform_cell` automatically in the future. Please pass the result to `transformed_cell` argument and any exception that happen during thetransform in `preprocessing_exc_tuple` in IPython 7.17 and above.\n",
      "\n"
     ]
    },
    {
     "data": {
      "application/vnd.plotly.v1+json": {
       "config": {
        "plotlyServerURL": "https://plot.ly"
       },
       "data": [
        {
         "alignmentgroup": "True",
         "hovertemplate": "count=%{x}<br>bigram=%{y}<extra></extra>",
         "legendgroup": "",
         "marker": {
          "color": "#636efa"
         },
         "name": "",
         "offsetgroup": "",
         "orientation": "h",
         "showlegend": false,
         "textposition": "auto",
         "type": "bar",
         "x": [
          16752,
          10105,
          6933,
          6572,
          4951,
          4771,
          4344,
          4048,
          3930,
          3703,
          3550,
          3113,
          2913,
          2831,
          2475,
          2415,
          2330,
          2280,
          2271,
          2262,
          2253,
          2246,
          2228,
          2172,
          2093,
          2081,
          2029,
          1972,
          1902,
          1872,
          1843,
          1820,
          1812,
          1794,
          1775,
          1762,
          1700,
          1697,
          1697,
          1681
         ],
         "xaxis": "x",
         "y": [
          "start_up",
          "etats_unis",
          "machine_learning",
          "millions_euros",
          "temps_reel",
          "big_data",
          "chiffre_affaires",
          "reseaux_sociaux",
          "deep_learning",
          "nouvelles_technologies",
          "milliards_dollars",
          "plate_forme",
          "millions_dollars",
          "directeur_general",
          "reconnaissance_faciale",
          "objets_connectes",
          "new_york",
          "reseau_social",
          "apprentissage_automatique",
          "milliards_euros",
          "donnees_personnelles",
          "grand_public",
          "levee_fonds",
          "mise_place",
          "dernieres_annees",
          "mis_point",
          "royaume_uni",
          "relation_client",
          "realite_virtuelle",
          "base_donnees",
          "emmanuel_macron",
          "silicon_valley",
          "moteur_recherche",
          "science_fiction",
          "vie_privee",
          "mettre_place",
          "analyse_donnees",
          "vice_president",
          "experience_client",
          "reseaux_neurones"
         ],
         "yaxis": "y"
        }
       ],
       "layout": {
        "barmode": "relative",
        "legend": {
         "tracegroupgap": 0
        },
        "template": {
         "data": {
          "bar": [
           {
            "error_x": {
             "color": "#2a3f5f"
            },
            "error_y": {
             "color": "#2a3f5f"
            },
            "marker": {
             "line": {
              "color": "white",
              "width": 0.5
             }
            },
            "type": "bar"
           }
          ],
          "barpolar": [
           {
            "marker": {
             "line": {
              "color": "white",
              "width": 0.5
             }
            },
            "type": "barpolar"
           }
          ],
          "carpet": [
           {
            "aaxis": {
             "endlinecolor": "#2a3f5f",
             "gridcolor": "#C8D4E3",
             "linecolor": "#C8D4E3",
             "minorgridcolor": "#C8D4E3",
             "startlinecolor": "#2a3f5f"
            },
            "baxis": {
             "endlinecolor": "#2a3f5f",
             "gridcolor": "#C8D4E3",
             "linecolor": "#C8D4E3",
             "minorgridcolor": "#C8D4E3",
             "startlinecolor": "#2a3f5f"
            },
            "type": "carpet"
           }
          ],
          "choropleth": [
           {
            "colorbar": {
             "outlinewidth": 0,
             "ticks": ""
            },
            "type": "choropleth"
           }
          ],
          "contour": [
           {
            "colorbar": {
             "outlinewidth": 0,
             "ticks": ""
            },
            "colorscale": [
             [
              0,
              "#0d0887"
             ],
             [
              0.1111111111111111,
              "#46039f"
             ],
             [
              0.2222222222222222,
              "#7201a8"
             ],
             [
              0.3333333333333333,
              "#9c179e"
             ],
             [
              0.4444444444444444,
              "#bd3786"
             ],
             [
              0.5555555555555556,
              "#d8576b"
             ],
             [
              0.6666666666666666,
              "#ed7953"
             ],
             [
              0.7777777777777778,
              "#fb9f3a"
             ],
             [
              0.8888888888888888,
              "#fdca26"
             ],
             [
              1,
              "#f0f921"
             ]
            ],
            "type": "contour"
           }
          ],
          "contourcarpet": [
           {
            "colorbar": {
             "outlinewidth": 0,
             "ticks": ""
            },
            "type": "contourcarpet"
           }
          ],
          "heatmap": [
           {
            "colorbar": {
             "outlinewidth": 0,
             "ticks": ""
            },
            "colorscale": [
             [
              0,
              "#0d0887"
             ],
             [
              0.1111111111111111,
              "#46039f"
             ],
             [
              0.2222222222222222,
              "#7201a8"
             ],
             [
              0.3333333333333333,
              "#9c179e"
             ],
             [
              0.4444444444444444,
              "#bd3786"
             ],
             [
              0.5555555555555556,
              "#d8576b"
             ],
             [
              0.6666666666666666,
              "#ed7953"
             ],
             [
              0.7777777777777778,
              "#fb9f3a"
             ],
             [
              0.8888888888888888,
              "#fdca26"
             ],
             [
              1,
              "#f0f921"
             ]
            ],
            "type": "heatmap"
           }
          ],
          "heatmapgl": [
           {
            "colorbar": {
             "outlinewidth": 0,
             "ticks": ""
            },
            "colorscale": [
             [
              0,
              "#0d0887"
             ],
             [
              0.1111111111111111,
              "#46039f"
             ],
             [
              0.2222222222222222,
              "#7201a8"
             ],
             [
              0.3333333333333333,
              "#9c179e"
             ],
             [
              0.4444444444444444,
              "#bd3786"
             ],
             [
              0.5555555555555556,
              "#d8576b"
             ],
             [
              0.6666666666666666,
              "#ed7953"
             ],
             [
              0.7777777777777778,
              "#fb9f3a"
             ],
             [
              0.8888888888888888,
              "#fdca26"
             ],
             [
              1,
              "#f0f921"
             ]
            ],
            "type": "heatmapgl"
           }
          ],
          "histogram": [
           {
            "marker": {
             "colorbar": {
              "outlinewidth": 0,
              "ticks": ""
             }
            },
            "type": "histogram"
           }
          ],
          "histogram2d": [
           {
            "colorbar": {
             "outlinewidth": 0,
             "ticks": ""
            },
            "colorscale": [
             [
              0,
              "#0d0887"
             ],
             [
              0.1111111111111111,
              "#46039f"
             ],
             [
              0.2222222222222222,
              "#7201a8"
             ],
             [
              0.3333333333333333,
              "#9c179e"
             ],
             [
              0.4444444444444444,
              "#bd3786"
             ],
             [
              0.5555555555555556,
              "#d8576b"
             ],
             [
              0.6666666666666666,
              "#ed7953"
             ],
             [
              0.7777777777777778,
              "#fb9f3a"
             ],
             [
              0.8888888888888888,
              "#fdca26"
             ],
             [
              1,
              "#f0f921"
             ]
            ],
            "type": "histogram2d"
           }
          ],
          "histogram2dcontour": [
           {
            "colorbar": {
             "outlinewidth": 0,
             "ticks": ""
            },
            "colorscale": [
             [
              0,
              "#0d0887"
             ],
             [
              0.1111111111111111,
              "#46039f"
             ],
             [
              0.2222222222222222,
              "#7201a8"
             ],
             [
              0.3333333333333333,
              "#9c179e"
             ],
             [
              0.4444444444444444,
              "#bd3786"
             ],
             [
              0.5555555555555556,
              "#d8576b"
             ],
             [
              0.6666666666666666,
              "#ed7953"
             ],
             [
              0.7777777777777778,
              "#fb9f3a"
             ],
             [
              0.8888888888888888,
              "#fdca26"
             ],
             [
              1,
              "#f0f921"
             ]
            ],
            "type": "histogram2dcontour"
           }
          ],
          "mesh3d": [
           {
            "colorbar": {
             "outlinewidth": 0,
             "ticks": ""
            },
            "type": "mesh3d"
           }
          ],
          "parcoords": [
           {
            "line": {
             "colorbar": {
              "outlinewidth": 0,
              "ticks": ""
             }
            },
            "type": "parcoords"
           }
          ],
          "pie": [
           {
            "automargin": true,
            "type": "pie"
           }
          ],
          "scatter": [
           {
            "marker": {
             "colorbar": {
              "outlinewidth": 0,
              "ticks": ""
             }
            },
            "type": "scatter"
           }
          ],
          "scatter3d": [
           {
            "line": {
             "colorbar": {
              "outlinewidth": 0,
              "ticks": ""
             }
            },
            "marker": {
             "colorbar": {
              "outlinewidth": 0,
              "ticks": ""
             }
            },
            "type": "scatter3d"
           }
          ],
          "scattercarpet": [
           {
            "marker": {
             "colorbar": {
              "outlinewidth": 0,
              "ticks": ""
             }
            },
            "type": "scattercarpet"
           }
          ],
          "scattergeo": [
           {
            "marker": {
             "colorbar": {
              "outlinewidth": 0,
              "ticks": ""
             }
            },
            "type": "scattergeo"
           }
          ],
          "scattergl": [
           {
            "marker": {
             "colorbar": {
              "outlinewidth": 0,
              "ticks": ""
             }
            },
            "type": "scattergl"
           }
          ],
          "scattermapbox": [
           {
            "marker": {
             "colorbar": {
              "outlinewidth": 0,
              "ticks": ""
             }
            },
            "type": "scattermapbox"
           }
          ],
          "scatterpolar": [
           {
            "marker": {
             "colorbar": {
              "outlinewidth": 0,
              "ticks": ""
             }
            },
            "type": "scatterpolar"
           }
          ],
          "scatterpolargl": [
           {
            "marker": {
             "colorbar": {
              "outlinewidth": 0,
              "ticks": ""
             }
            },
            "type": "scatterpolargl"
           }
          ],
          "scatterternary": [
           {
            "marker": {
             "colorbar": {
              "outlinewidth": 0,
              "ticks": ""
             }
            },
            "type": "scatterternary"
           }
          ],
          "surface": [
           {
            "colorbar": {
             "outlinewidth": 0,
             "ticks": ""
            },
            "colorscale": [
             [
              0,
              "#0d0887"
             ],
             [
              0.1111111111111111,
              "#46039f"
             ],
             [
              0.2222222222222222,
              "#7201a8"
             ],
             [
              0.3333333333333333,
              "#9c179e"
             ],
             [
              0.4444444444444444,
              "#bd3786"
             ],
             [
              0.5555555555555556,
              "#d8576b"
             ],
             [
              0.6666666666666666,
              "#ed7953"
             ],
             [
              0.7777777777777778,
              "#fb9f3a"
             ],
             [
              0.8888888888888888,
              "#fdca26"
             ],
             [
              1,
              "#f0f921"
             ]
            ],
            "type": "surface"
           }
          ],
          "table": [
           {
            "cells": {
             "fill": {
              "color": "#EBF0F8"
             },
             "line": {
              "color": "white"
             }
            },
            "header": {
             "fill": {
              "color": "#C8D4E3"
             },
             "line": {
              "color": "white"
             }
            },
            "type": "table"
           }
          ]
         },
         "layout": {
          "annotationdefaults": {
           "arrowcolor": "#2a3f5f",
           "arrowhead": 0,
           "arrowwidth": 1
          },
          "autotypenumbers": "strict",
          "coloraxis": {
           "colorbar": {
            "outlinewidth": 0,
            "ticks": ""
           }
          },
          "colorscale": {
           "diverging": [
            [
             0,
             "#8e0152"
            ],
            [
             0.1,
             "#c51b7d"
            ],
            [
             0.2,
             "#de77ae"
            ],
            [
             0.3,
             "#f1b6da"
            ],
            [
             0.4,
             "#fde0ef"
            ],
            [
             0.5,
             "#f7f7f7"
            ],
            [
             0.6,
             "#e6f5d0"
            ],
            [
             0.7,
             "#b8e186"
            ],
            [
             0.8,
             "#7fbc41"
            ],
            [
             0.9,
             "#4d9221"
            ],
            [
             1,
             "#276419"
            ]
           ],
           "sequential": [
            [
             0,
             "#0d0887"
            ],
            [
             0.1111111111111111,
             "#46039f"
            ],
            [
             0.2222222222222222,
             "#7201a8"
            ],
            [
             0.3333333333333333,
             "#9c179e"
            ],
            [
             0.4444444444444444,
             "#bd3786"
            ],
            [
             0.5555555555555556,
             "#d8576b"
            ],
            [
             0.6666666666666666,
             "#ed7953"
            ],
            [
             0.7777777777777778,
             "#fb9f3a"
            ],
            [
             0.8888888888888888,
             "#fdca26"
            ],
            [
             1,
             "#f0f921"
            ]
           ],
           "sequentialminus": [
            [
             0,
             "#0d0887"
            ],
            [
             0.1111111111111111,
             "#46039f"
            ],
            [
             0.2222222222222222,
             "#7201a8"
            ],
            [
             0.3333333333333333,
             "#9c179e"
            ],
            [
             0.4444444444444444,
             "#bd3786"
            ],
            [
             0.5555555555555556,
             "#d8576b"
            ],
            [
             0.6666666666666666,
             "#ed7953"
            ],
            [
             0.7777777777777778,
             "#fb9f3a"
            ],
            [
             0.8888888888888888,
             "#fdca26"
            ],
            [
             1,
             "#f0f921"
            ]
           ]
          },
          "colorway": [
           "#636efa",
           "#EF553B",
           "#00cc96",
           "#ab63fa",
           "#FFA15A",
           "#19d3f3",
           "#FF6692",
           "#B6E880",
           "#FF97FF",
           "#FECB52"
          ],
          "font": {
           "color": "#2a3f5f"
          },
          "geo": {
           "bgcolor": "white",
           "lakecolor": "white",
           "landcolor": "white",
           "showlakes": true,
           "showland": true,
           "subunitcolor": "#C8D4E3"
          },
          "hoverlabel": {
           "align": "left"
          },
          "hovermode": "closest",
          "mapbox": {
           "style": "light"
          },
          "paper_bgcolor": "white",
          "plot_bgcolor": "white",
          "polar": {
           "angularaxis": {
            "gridcolor": "#EBF0F8",
            "linecolor": "#EBF0F8",
            "ticks": ""
           },
           "bgcolor": "white",
           "radialaxis": {
            "gridcolor": "#EBF0F8",
            "linecolor": "#EBF0F8",
            "ticks": ""
           }
          },
          "scene": {
           "xaxis": {
            "backgroundcolor": "white",
            "gridcolor": "#DFE8F3",
            "gridwidth": 2,
            "linecolor": "#EBF0F8",
            "showbackground": true,
            "ticks": "",
            "zerolinecolor": "#EBF0F8"
           },
           "yaxis": {
            "backgroundcolor": "white",
            "gridcolor": "#DFE8F3",
            "gridwidth": 2,
            "linecolor": "#EBF0F8",
            "showbackground": true,
            "ticks": "",
            "zerolinecolor": "#EBF0F8"
           },
           "zaxis": {
            "backgroundcolor": "white",
            "gridcolor": "#DFE8F3",
            "gridwidth": 2,
            "linecolor": "#EBF0F8",
            "showbackground": true,
            "ticks": "",
            "zerolinecolor": "#EBF0F8"
           }
          },
          "shapedefaults": {
           "line": {
            "color": "#2a3f5f"
           }
          },
          "ternary": {
           "aaxis": {
            "gridcolor": "#DFE8F3",
            "linecolor": "#A2B1C6",
            "ticks": ""
           },
           "baxis": {
            "gridcolor": "#DFE8F3",
            "linecolor": "#A2B1C6",
            "ticks": ""
           },
           "bgcolor": "white",
           "caxis": {
            "gridcolor": "#DFE8F3",
            "linecolor": "#A2B1C6",
            "ticks": ""
           }
          },
          "title": {
           "x": 0.05
          },
          "xaxis": {
           "automargin": true,
           "gridcolor": "#EBF0F8",
           "linecolor": "#EBF0F8",
           "ticks": "",
           "title": {
            "standoff": 15
           },
           "zerolinecolor": "#EBF0F8",
           "zerolinewidth": 2
          },
          "yaxis": {
           "automargin": true,
           "gridcolor": "#EBF0F8",
           "linecolor": "#EBF0F8",
           "ticks": "",
           "title": {
            "standoff": 15
           },
           "zerolinecolor": "#EBF0F8",
           "zerolinewidth": 2
          }
         }
        },
        "title": {
         "text": "Counts of top bigrams"
        },
        "xaxis": {
         "anchor": "y",
         "domain": [
          0,
          1
         ],
         "title": {
          "text": "count"
         }
        },
        "yaxis": {
         "anchor": "x",
         "domain": [
          0,
          1
         ],
         "title": {
          "text": "bigram"
         }
        }
       }
      },
      "text/html": [
       "<div>                            <div id=\"d28e5407-43d6-4487-a7d3-4dc022b81270\" class=\"plotly-graph-div\" style=\"height:525px; width:100%;\"></div>            <script type=\"text/javascript\">                require([\"plotly\"], function(Plotly) {                    window.PLOTLYENV=window.PLOTLYENV || {};                                    if (document.getElementById(\"d28e5407-43d6-4487-a7d3-4dc022b81270\")) {                    Plotly.newPlot(                        \"d28e5407-43d6-4487-a7d3-4dc022b81270\",                        [{\"alignmentgroup\": \"True\", \"hovertemplate\": \"count=%{x}<br>bigram=%{y}<extra></extra>\", \"legendgroup\": \"\", \"marker\": {\"color\": \"#636efa\"}, \"name\": \"\", \"offsetgroup\": \"\", \"orientation\": \"h\", \"showlegend\": false, \"textposition\": \"auto\", \"type\": \"bar\", \"x\": [16752, 10105, 6933, 6572, 4951, 4771, 4344, 4048, 3930, 3703, 3550, 3113, 2913, 2831, 2475, 2415, 2330, 2280, 2271, 2262, 2253, 2246, 2228, 2172, 2093, 2081, 2029, 1972, 1902, 1872, 1843, 1820, 1812, 1794, 1775, 1762, 1700, 1697, 1697, 1681], \"xaxis\": \"x\", \"y\": [\"start_up\", \"etats_unis\", \"machine_learning\", \"millions_euros\", \"temps_reel\", \"big_data\", \"chiffre_affaires\", \"reseaux_sociaux\", \"deep_learning\", \"nouvelles_technologies\", \"milliards_dollars\", \"plate_forme\", \"millions_dollars\", \"directeur_general\", \"reconnaissance_faciale\", \"objets_connectes\", \"new_york\", \"reseau_social\", \"apprentissage_automatique\", \"milliards_euros\", \"donnees_personnelles\", \"grand_public\", \"levee_fonds\", \"mise_place\", \"dernieres_annees\", \"mis_point\", \"royaume_uni\", \"relation_client\", \"realite_virtuelle\", \"base_donnees\", \"emmanuel_macron\", \"silicon_valley\", \"moteur_recherche\", \"science_fiction\", \"vie_privee\", \"mettre_place\", \"analyse_donnees\", \"vice_president\", \"experience_client\", \"reseaux_neurones\"], \"yaxis\": \"y\"}],                        {\"barmode\": \"relative\", \"legend\": {\"tracegroupgap\": 0}, \"template\": {\"data\": {\"bar\": [{\"error_x\": {\"color\": \"#2a3f5f\"}, \"error_y\": {\"color\": \"#2a3f5f\"}, \"marker\": {\"line\": {\"color\": \"white\", \"width\": 0.5}}, \"type\": \"bar\"}], \"barpolar\": [{\"marker\": {\"line\": {\"color\": \"white\", \"width\": 0.5}}, \"type\": \"barpolar\"}], \"carpet\": [{\"aaxis\": {\"endlinecolor\": \"#2a3f5f\", \"gridcolor\": \"#C8D4E3\", \"linecolor\": \"#C8D4E3\", \"minorgridcolor\": \"#C8D4E3\", \"startlinecolor\": \"#2a3f5f\"}, \"baxis\": {\"endlinecolor\": \"#2a3f5f\", \"gridcolor\": \"#C8D4E3\", \"linecolor\": \"#C8D4E3\", \"minorgridcolor\": \"#C8D4E3\", \"startlinecolor\": \"#2a3f5f\"}, \"type\": \"carpet\"}], \"choropleth\": [{\"colorbar\": {\"outlinewidth\": 0, \"ticks\": \"\"}, \"type\": \"choropleth\"}], \"contour\": [{\"colorbar\": {\"outlinewidth\": 0, \"ticks\": \"\"}, \"colorscale\": [[0.0, \"#0d0887\"], [0.1111111111111111, \"#46039f\"], [0.2222222222222222, \"#7201a8\"], [0.3333333333333333, \"#9c179e\"], [0.4444444444444444, \"#bd3786\"], [0.5555555555555556, \"#d8576b\"], [0.6666666666666666, \"#ed7953\"], [0.7777777777777778, \"#fb9f3a\"], [0.8888888888888888, \"#fdca26\"], [1.0, \"#f0f921\"]], \"type\": \"contour\"}], \"contourcarpet\": [{\"colorbar\": {\"outlinewidth\": 0, \"ticks\": \"\"}, \"type\": \"contourcarpet\"}], \"heatmap\": [{\"colorbar\": {\"outlinewidth\": 0, \"ticks\": \"\"}, \"colorscale\": [[0.0, \"#0d0887\"], [0.1111111111111111, \"#46039f\"], [0.2222222222222222, \"#7201a8\"], [0.3333333333333333, \"#9c179e\"], [0.4444444444444444, \"#bd3786\"], [0.5555555555555556, \"#d8576b\"], [0.6666666666666666, \"#ed7953\"], [0.7777777777777778, \"#fb9f3a\"], [0.8888888888888888, \"#fdca26\"], [1.0, \"#f0f921\"]], \"type\": \"heatmap\"}], \"heatmapgl\": [{\"colorbar\": {\"outlinewidth\": 0, \"ticks\": \"\"}, \"colorscale\": [[0.0, \"#0d0887\"], [0.1111111111111111, \"#46039f\"], [0.2222222222222222, \"#7201a8\"], [0.3333333333333333, \"#9c179e\"], [0.4444444444444444, \"#bd3786\"], [0.5555555555555556, \"#d8576b\"], [0.6666666666666666, \"#ed7953\"], [0.7777777777777778, \"#fb9f3a\"], [0.8888888888888888, \"#fdca26\"], [1.0, \"#f0f921\"]], \"type\": \"heatmapgl\"}], \"histogram\": [{\"marker\": {\"colorbar\": {\"outlinewidth\": 0, \"ticks\": \"\"}}, \"type\": \"histogram\"}], \"histogram2d\": [{\"colorbar\": {\"outlinewidth\": 0, \"ticks\": \"\"}, \"colorscale\": [[0.0, \"#0d0887\"], [0.1111111111111111, \"#46039f\"], [0.2222222222222222, \"#7201a8\"], [0.3333333333333333, \"#9c179e\"], [0.4444444444444444, \"#bd3786\"], [0.5555555555555556, \"#d8576b\"], [0.6666666666666666, \"#ed7953\"], [0.7777777777777778, \"#fb9f3a\"], [0.8888888888888888, \"#fdca26\"], [1.0, \"#f0f921\"]], \"type\": \"histogram2d\"}], \"histogram2dcontour\": [{\"colorbar\": {\"outlinewidth\": 0, \"ticks\": \"\"}, \"colorscale\": [[0.0, \"#0d0887\"], [0.1111111111111111, \"#46039f\"], [0.2222222222222222, \"#7201a8\"], [0.3333333333333333, \"#9c179e\"], [0.4444444444444444, \"#bd3786\"], [0.5555555555555556, \"#d8576b\"], [0.6666666666666666, \"#ed7953\"], [0.7777777777777778, \"#fb9f3a\"], [0.8888888888888888, \"#fdca26\"], [1.0, \"#f0f921\"]], \"type\": \"histogram2dcontour\"}], \"mesh3d\": [{\"colorbar\": {\"outlinewidth\": 0, \"ticks\": \"\"}, \"type\": \"mesh3d\"}], \"parcoords\": [{\"line\": {\"colorbar\": {\"outlinewidth\": 0, \"ticks\": \"\"}}, \"type\": \"parcoords\"}], \"pie\": [{\"automargin\": true, \"type\": \"pie\"}], \"scatter\": [{\"marker\": {\"colorbar\": {\"outlinewidth\": 0, \"ticks\": \"\"}}, \"type\": \"scatter\"}], \"scatter3d\": [{\"line\": {\"colorbar\": {\"outlinewidth\": 0, \"ticks\": \"\"}}, \"marker\": {\"colorbar\": {\"outlinewidth\": 0, \"ticks\": \"\"}}, \"type\": \"scatter3d\"}], \"scattercarpet\": [{\"marker\": {\"colorbar\": {\"outlinewidth\": 0, \"ticks\": \"\"}}, \"type\": \"scattercarpet\"}], \"scattergeo\": [{\"marker\": {\"colorbar\": {\"outlinewidth\": 0, \"ticks\": \"\"}}, \"type\": \"scattergeo\"}], \"scattergl\": [{\"marker\": {\"colorbar\": {\"outlinewidth\": 0, \"ticks\": \"\"}}, \"type\": \"scattergl\"}], \"scattermapbox\": [{\"marker\": {\"colorbar\": {\"outlinewidth\": 0, \"ticks\": \"\"}}, \"type\": \"scattermapbox\"}], \"scatterpolar\": [{\"marker\": {\"colorbar\": {\"outlinewidth\": 0, \"ticks\": \"\"}}, \"type\": \"scatterpolar\"}], \"scatterpolargl\": [{\"marker\": {\"colorbar\": {\"outlinewidth\": 0, \"ticks\": \"\"}}, \"type\": \"scatterpolargl\"}], \"scatterternary\": [{\"marker\": {\"colorbar\": {\"outlinewidth\": 0, \"ticks\": \"\"}}, \"type\": \"scatterternary\"}], \"surface\": [{\"colorbar\": {\"outlinewidth\": 0, \"ticks\": \"\"}, \"colorscale\": [[0.0, \"#0d0887\"], [0.1111111111111111, \"#46039f\"], [0.2222222222222222, \"#7201a8\"], [0.3333333333333333, \"#9c179e\"], [0.4444444444444444, \"#bd3786\"], [0.5555555555555556, \"#d8576b\"], [0.6666666666666666, \"#ed7953\"], [0.7777777777777778, \"#fb9f3a\"], [0.8888888888888888, \"#fdca26\"], [1.0, \"#f0f921\"]], \"type\": \"surface\"}], \"table\": [{\"cells\": {\"fill\": {\"color\": \"#EBF0F8\"}, \"line\": {\"color\": \"white\"}}, \"header\": {\"fill\": {\"color\": \"#C8D4E3\"}, \"line\": {\"color\": \"white\"}}, \"type\": \"table\"}]}, \"layout\": {\"annotationdefaults\": {\"arrowcolor\": \"#2a3f5f\", \"arrowhead\": 0, \"arrowwidth\": 1}, \"autotypenumbers\": \"strict\", \"coloraxis\": {\"colorbar\": {\"outlinewidth\": 0, \"ticks\": \"\"}}, \"colorscale\": {\"diverging\": [[0, \"#8e0152\"], [0.1, \"#c51b7d\"], [0.2, \"#de77ae\"], [0.3, \"#f1b6da\"], [0.4, \"#fde0ef\"], [0.5, \"#f7f7f7\"], [0.6, \"#e6f5d0\"], [0.7, \"#b8e186\"], [0.8, \"#7fbc41\"], [0.9, \"#4d9221\"], [1, \"#276419\"]], \"sequential\": [[0.0, \"#0d0887\"], [0.1111111111111111, \"#46039f\"], [0.2222222222222222, \"#7201a8\"], [0.3333333333333333, \"#9c179e\"], [0.4444444444444444, \"#bd3786\"], [0.5555555555555556, \"#d8576b\"], [0.6666666666666666, \"#ed7953\"], [0.7777777777777778, \"#fb9f3a\"], [0.8888888888888888, \"#fdca26\"], [1.0, \"#f0f921\"]], \"sequentialminus\": [[0.0, \"#0d0887\"], [0.1111111111111111, \"#46039f\"], [0.2222222222222222, \"#7201a8\"], [0.3333333333333333, \"#9c179e\"], [0.4444444444444444, \"#bd3786\"], [0.5555555555555556, \"#d8576b\"], [0.6666666666666666, \"#ed7953\"], [0.7777777777777778, \"#fb9f3a\"], [0.8888888888888888, \"#fdca26\"], [1.0, \"#f0f921\"]]}, \"colorway\": [\"#636efa\", \"#EF553B\", \"#00cc96\", \"#ab63fa\", \"#FFA15A\", \"#19d3f3\", \"#FF6692\", \"#B6E880\", \"#FF97FF\", \"#FECB52\"], \"font\": {\"color\": \"#2a3f5f\"}, \"geo\": {\"bgcolor\": \"white\", \"lakecolor\": \"white\", \"landcolor\": \"white\", \"showlakes\": true, \"showland\": true, \"subunitcolor\": \"#C8D4E3\"}, \"hoverlabel\": {\"align\": \"left\"}, \"hovermode\": \"closest\", \"mapbox\": {\"style\": \"light\"}, \"paper_bgcolor\": \"white\", \"plot_bgcolor\": \"white\", \"polar\": {\"angularaxis\": {\"gridcolor\": \"#EBF0F8\", \"linecolor\": \"#EBF0F8\", \"ticks\": \"\"}, \"bgcolor\": \"white\", \"radialaxis\": {\"gridcolor\": \"#EBF0F8\", \"linecolor\": \"#EBF0F8\", \"ticks\": \"\"}}, \"scene\": {\"xaxis\": {\"backgroundcolor\": \"white\", \"gridcolor\": \"#DFE8F3\", \"gridwidth\": 2, \"linecolor\": \"#EBF0F8\", \"showbackground\": true, \"ticks\": \"\", \"zerolinecolor\": \"#EBF0F8\"}, \"yaxis\": {\"backgroundcolor\": \"white\", \"gridcolor\": \"#DFE8F3\", \"gridwidth\": 2, \"linecolor\": \"#EBF0F8\", \"showbackground\": true, \"ticks\": \"\", \"zerolinecolor\": \"#EBF0F8\"}, \"zaxis\": {\"backgroundcolor\": \"white\", \"gridcolor\": \"#DFE8F3\", \"gridwidth\": 2, \"linecolor\": \"#EBF0F8\", \"showbackground\": true, \"ticks\": \"\", \"zerolinecolor\": \"#EBF0F8\"}}, \"shapedefaults\": {\"line\": {\"color\": \"#2a3f5f\"}}, \"ternary\": {\"aaxis\": {\"gridcolor\": \"#DFE8F3\", \"linecolor\": \"#A2B1C6\", \"ticks\": \"\"}, \"baxis\": {\"gridcolor\": \"#DFE8F3\", \"linecolor\": \"#A2B1C6\", \"ticks\": \"\"}, \"bgcolor\": \"white\", \"caxis\": {\"gridcolor\": \"#DFE8F3\", \"linecolor\": \"#A2B1C6\", \"ticks\": \"\"}}, \"title\": {\"x\": 0.05}, \"xaxis\": {\"automargin\": true, \"gridcolor\": \"#EBF0F8\", \"linecolor\": \"#EBF0F8\", \"ticks\": \"\", \"title\": {\"standoff\": 15}, \"zerolinecolor\": \"#EBF0F8\", \"zerolinewidth\": 2}, \"yaxis\": {\"automargin\": true, \"gridcolor\": \"#EBF0F8\", \"linecolor\": \"#EBF0F8\", \"ticks\": \"\", \"title\": {\"standoff\": 15}, \"zerolinecolor\": \"#EBF0F8\", \"zerolinewidth\": 2}}}, \"title\": {\"text\": \"Counts of top bigrams\"}, \"xaxis\": {\"anchor\": \"y\", \"domain\": [0.0, 1.0], \"title\": {\"text\": \"count\"}}, \"yaxis\": {\"anchor\": \"x\", \"domain\": [0.0, 1.0], \"title\": {\"text\": \"bigram\"}}},                        {\"responsive\": true}                    ).then(function(){\n",
       "                            \n",
       "var gd = document.getElementById('d28e5407-43d6-4487-a7d3-4dc022b81270');\n",
       "var x = new MutationObserver(function (mutations, observer) {{\n",
       "        var display = window.getComputedStyle(gd).display;\n",
       "        if (!display || display === 'none') {{\n",
       "            console.log([gd, 'removed!']);\n",
       "            Plotly.purge(gd);\n",
       "            observer.disconnect();\n",
       "        }}\n",
       "}});\n",
       "\n",
       "// Listen for the removal of the full notebook cells\n",
       "var notebookContainer = gd.closest('#notebook-container');\n",
       "if (notebookContainer) {{\n",
       "    x.observe(notebookContainer, {childList: true});\n",
       "}}\n",
       "\n",
       "// Listen for the clearing of the current output cell\n",
       "var outputEl = gd.closest('.output');\n",
       "if (outputEl) {{\n",
       "    x.observe(outputEl, {childList: true});\n",
       "}}\n",
       "\n",
       "                        })                };                });            </script>        </div>"
      ]
     },
     "metadata": {},
     "output_type": "display_data"
    }
   ],
   "source": [
    "fig = px.bar(bigrams[:40], x='count', y='bigram', title='Counts of top bigrams', template='plotly_white')\n",
    "fig.show()"
   ]
  },
  {
   "cell_type": "markdown",
   "metadata": {},
   "source": [
    "## Additional cleaning - Text lemmatization"
   ]
  },
  {
   "cell_type": "code",
   "execution_count": 40,
   "metadata": {},
   "outputs": [],
   "source": [
    "corpus_sample = corpus_complet.sample(n = 200)"
   ]
  },
  {
   "cell_type": "code",
   "execution_count": 46,
   "metadata": {},
   "outputs": [],
   "source": [
    "mylist = []\n",
    "for string in corpus_complet['cleaned_text']:\n",
    "    mylist.append(string)\n",
    "mylist\n",
    "\n",
    "new_text = str(mylist)"
   ]
  },
  {
   "cell_type": "code",
   "execution_count": 42,
   "metadata": {},
   "outputs": [],
   "source": [
    "doc = nlp(new_text)"
   ]
  },
  {
   "cell_type": "code",
   "execution_count": null,
   "metadata": {},
   "outputs": [],
   "source": [
    "corpus_complet['lemmatized'] = corpus_complet.cleaned_text.apply(lambda x: \" \".join([y.lemma_ for y in nlp(x)]))"
   ]
  },
  {
   "cell_type": "code",
   "execution_count": 47,
   "metadata": {},
   "outputs": [],
   "source": [
    "corpus_sample['lemmatized'] = corpus_sample.cleaned_text.apply(lambda x: \" \".join([y.lemma_ for y in nlp(x)]))"
   ]
  },
  {
   "cell_type": "code",
   "execution_count": 45,
   "metadata": {},
   "outputs": [
    {
     "name": "stdout",
     "output_type": "stream",
     "text": [
      "                                                                                                   content  \\\n",
      "32298  Le Carré Michelet à La Défense, détenu par Gecina    On rembobine les actus de la semaine. Comme...   \n",
      "5624   L'IA, un nouvel arrivant qui dérange L'adoption de l'IA soulève plusieurs challenges. Tout d'abo...   \n",
      "17157  Après l'expert rennais de la chimie verte Demeta, lundi, c'est la start-up grenobloise TiHive, s...   \n",
      "15106  1Gagner du temps grâce à Locat'me Locat'me, qui fonctionne comme un site de rencontres, met en r...   \n",
      "2331   Cet article est issu du magazine Sciences et Avenir n°880, daté juin 2020  Covid-19 : ce que l'o...   \n",
      "\n",
      "                                                                                              cleaned_text  \\\n",
      "32298  carre michelet defense detenu gecina rembobine actus semaine vendredis cfnews immo infra passe r...   \n",
      "5624   ia nouvel arrivant derange adoption ia souleve challenges idee opinion humain peur superiorite r...   \n",
      "17157  expert rennais chimie verte demeta lundi start up grenobloise tihive specialisee cameras teraher...   \n",
      "15106  gagner temps grace locat locat fonctionne site rencontres met relation locataires proprietaires ...   \n",
      "2331   article issu magazine sciences avenir ndeg date juin covid decouvrir lit hopital patiente incapa...   \n",
      "\n",
      "                                                                                                lemmatized  \n",
      "32298  carr michelet defense detenu gecina rembobin actualité semain vendredis cfnew immo infra passer ...  \n",
      "5624   ia nouveau arriver derang adoption ia souleve challenge idee opinion humain peur superiorite rap...  \n",
      "17157  expert rennais chimie vert demeta lundi start up grenoblois tihiv specialise camera terahertz vo...  \n",
      "15106  gagner temps grac locat locat fonctionne site rencontre mettre relation locataire proprietaire g...  \n",
      "2331   article issu magazine science avenir ndeg date juin covid decouvrir lit hopital patient incapaci...  \n"
     ]
    }
   ],
   "source": [
    "pd.options.display.max_colwidth = 100\n",
    "print(corpus_sample[['content', 'cleaned_text','lemmatized']].head(5))"
   ]
  },
  {
   "cell_type": "code",
   "execution_count": null,
   "metadata": {},
   "outputs": [],
   "source": []
  }
 ],
 "metadata": {
  "deepnote": {},
  "deepnote_execution_queue": [],
  "deepnote_notebook_id": "da3ad944-47d0-4e1b-9931-f65d4e1f7758",
  "kernelspec": {
   "display_name": "Python 3",
   "language": "python",
   "name": "python3"
  },
  "language_info": {
   "codemirror_mode": {
    "name": "ipython",
    "version": 3
   },
   "file_extension": ".py",
   "mimetype": "text/x-python",
   "name": "python",
   "nbconvert_exporter": "python",
   "pygments_lexer": "ipython3",
   "version": "3.8.5"
  }
 },
 "nbformat": 4,
 "nbformat_minor": 2
}
