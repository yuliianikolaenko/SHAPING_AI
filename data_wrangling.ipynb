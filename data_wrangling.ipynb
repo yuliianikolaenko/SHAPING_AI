{
 "cells": [
  {
   "cell_type": "code",
   "execution_count": 57,
   "metadata": {
    "cell_id": "00000-0f6f5613-c33e-4cbd-8497-94ac7641a29c",
    "deepnote_cell_type": "code",
    "deepnote_to_be_reexecuted": false,
    "execution_millis": 24916,
    "execution_start": 1617894986291,
    "source_hash": "b287d0e4",
    "tags": []
   },
   "outputs": [],
   "source": [
    "# Working with data\n",
    "import pandas as pd\n",
    "import random\n",
    "\n",
    "# Data visualization\n",
    "import seaborn as sns\n",
    "import matplotlib.pyplot as plt\n",
    "get_ipython().run_line_magic('matplotlib', 'inline')\n",
    "import plotly.express as px\n",
    "\n",
    "# Text analysis\n",
    "import nltk  \n",
    "stopword_list = nltk.corpus.stopwords.words('french')\n",
    "\n",
    "# NLP\n",
    "import spacy.cli\n",
    "nlp = spacy.load(\"fr_core_news_sm\")\n",
    "\n",
    "# Hide warnings \n",
    "import warnings \n",
    "warnings.filterwarnings(\"ignore\", category=DeprecationWarning)"
   ]
  },
  {
   "cell_type": "markdown",
   "metadata": {
    "cell_id": "00001-09baf8a3-b9d3-41c6-ac22-9a8ef6f51301",
    "deepnote_cell_type": "text-cell-h2",
    "tags": []
   },
   "source": [
    "## Read data"
   ]
  },
  {
   "cell_type": "code",
   "execution_count": 58,
   "metadata": {
    "cell_id": "00007-000705d1-204b-417b-b01d-28de63aed517",
    "deepnote_cell_type": "code",
    "deepnote_to_be_reexecuted": false,
    "execution_millis": 1864,
    "execution_start": 1617895011213,
    "source_hash": "8e81dda",
    "tags": []
   },
   "outputs": [],
   "source": [
    "# Corpus with key words in the title\n",
    "corpus_title = pd.read_csv('Corpus_Title.csv')\n",
    "# Corpus with key words in the lead paragraph\n",
    "corpus_lead = pd.read_csv('Corpus_Lead.csv')"
   ]
  },
  {
   "cell_type": "code",
   "execution_count": 59,
   "metadata": {},
   "outputs": [
    {
     "name": "stdout",
     "output_type": "stream",
     "text": [
      "Total number of records in the title dataset: (12783, 6)\n"
     ]
    }
   ],
   "source": [
    "print('Total number of records in the title dataset:', corpus_title.shape)"
   ]
  },
  {
   "cell_type": "code",
   "execution_count": 60,
   "metadata": {},
   "outputs": [
    {
     "name": "stdout",
     "output_type": "stream",
     "text": [
      "Total number of records in the lead dataset: (35628, 6)\n"
     ]
    }
   ],
   "source": [
    "print('Total number of records in the lead dataset:', corpus_lead.shape)"
   ]
  },
  {
   "cell_type": "markdown",
   "metadata": {},
   "source": [
    "## Feature engineering and pre-processing"
   ]
  },
  {
   "cell_type": "code",
   "execution_count": 61,
   "metadata": {},
   "outputs": [],
   "source": [
    "# Creating new column which indicate the key words search\n",
    "corpus_title['key_words'] = 'title'\n",
    "corpus_lead['key_words'] = 'lead'"
   ]
  },
  {
   "cell_type": "code",
   "execution_count": 62,
   "metadata": {},
   "outputs": [],
   "source": [
    "# Merging two datasets\n",
    "corpus = corpus_title.append(corpus_lead)"
   ]
  },
  {
   "cell_type": "code",
   "execution_count": 63,
   "metadata": {},
   "outputs": [],
   "source": [
    "# Saving datasets as csv file\n",
    "corpus.to_csv('corpus_full.csv', index = False, header=True)"
   ]
  },
  {
   "cell_type": "code",
   "execution_count": 64,
   "metadata": {
    "cell_id": "00007-15e2e32e-baa1-44de-a5e5-16ef99791707",
    "deepnote_cell_type": "code",
    "deepnote_to_be_reexecuted": false,
    "execution_millis": 89,
    "execution_start": 1617895013082,
    "source_hash": "888a7c7b",
    "tags": []
   },
   "outputs": [
    {
     "name": "stdout",
     "output_type": "stream",
     "text": [
      "Total number of records in the dataset: (48411, 7)\n"
     ]
    }
   ],
   "source": [
    "print('Total number of records in the dataset:', corpus.shape)"
   ]
  },
  {
   "cell_type": "markdown",
   "metadata": {},
   "source": [
    "### Missing values"
   ]
  },
  {
   "cell_type": "code",
   "execution_count": 65,
   "metadata": {},
   "outputs": [
    {
     "data": {
      "text/plain": [
       "262"
      ]
     },
     "execution_count": 65,
     "metadata": {},
     "output_type": "execute_result"
    }
   ],
   "source": [
    "# Detecting the number of NA articles\n",
    "corpus['content'].isna().sum()"
   ]
  },
  {
   "cell_type": "code",
   "execution_count": 66,
   "metadata": {},
   "outputs": [],
   "source": [
    "# Deleting the NA datapoints from the dataset\n",
    "corpus_complet = corpus[corpus['content'].notna()]"
   ]
  },
  {
   "cell_type": "markdown",
   "metadata": {},
   "source": [
    "### Duplicates"
   ]
  },
  {
   "cell_type": "code",
   "execution_count": 67,
   "metadata": {},
   "outputs": [
    {
     "data": {
      "text/html": [
       "<div>\n",
       "<style scoped>\n",
       "    .dataframe tbody tr th:only-of-type {\n",
       "        vertical-align: middle;\n",
       "    }\n",
       "\n",
       "    .dataframe tbody tr th {\n",
       "        vertical-align: top;\n",
       "    }\n",
       "\n",
       "    .dataframe thead th {\n",
       "        text-align: right;\n",
       "    }\n",
       "</style>\n",
       "<table border=\"1\" class=\"dataframe\">\n",
       "  <thead>\n",
       "    <tr style=\"text-align: right;\">\n",
       "      <th></th>\n",
       "      <th>content</th>\n",
       "      <th>author</th>\n",
       "      <th>journal</th>\n",
       "      <th>title</th>\n",
       "      <th>date</th>\n",
       "      <th>ID</th>\n",
       "      <th>key_words</th>\n",
       "    </tr>\n",
       "  </thead>\n",
       "  <tbody>\n",
       "    <tr>\n",
       "      <th>273</th>\n",
       "      <td>Business WireCognigy et Telekom s’associent da...</td>\n",
       "      <td>NaN</td>\n",
       "      <td>Yahoo!-France-(site-web-réf.)---Yahoo-France</td>\n",
       "      <td>Cognigy-et-Telekom-s’associent-dans-le-domaine...</td>\n",
       "      <td>2020-12-17</td>\n",
       "      <td>Cognigy-et-Telekom-s’associent-dans-le-domaine...</td>\n",
       "      <td>title</td>\n",
       "    </tr>\n",
       "    <tr>\n",
       "      <th>274</th>\n",
       "      <td>Business WireCognigy et Telekom s’associent da...</td>\n",
       "      <td>NaN</td>\n",
       "      <td>Yahoo!-Finance-France-(site-web-réf.)---Yahoo!...</td>\n",
       "      <td>Cognigy-et-Telekom-s’associent-dans-le-domaine...</td>\n",
       "      <td>2020-12-17</td>\n",
       "      <td>Cognigy-et-Telekom-s’associent-dans-le-domaine...</td>\n",
       "      <td>title</td>\n",
       "    </tr>\n",
       "    <tr>\n",
       "      <th>305</th>\n",
       "      <td>Cet article est paru dans Acteurs Publics</td>\n",
       "      <td>NaN</td>\n",
       "      <td>Acteurs-Publics</td>\n",
       "      <td>Le-gouvernement-incite-les-administrations-à-e...</td>\n",
       "      <td>2018-06-14</td>\n",
       "      <td>Le-gouvernement-incite-les-administrations-à-e...</td>\n",
       "      <td>title</td>\n",
       "    </tr>\n",
       "    <tr>\n",
       "      <th>306</th>\n",
       "      <td>Cet article est paru dans Acteurs Publics</td>\n",
       "      <td>NaN</td>\n",
       "      <td>Acteurs-Publics</td>\n",
       "      <td>Rapprochement-franco-britannique-sur-l'IA-et-l...</td>\n",
       "      <td>2018-07-05</td>\n",
       "      <td>Rapprochement-franco-britannique-sur-l'IA-et-l...</td>\n",
       "      <td>title</td>\n",
       "    </tr>\n",
       "    <tr>\n",
       "      <th>307</th>\n",
       "      <td>Cet article est paru dans Europe 1 (site web)</td>\n",
       "      <td>Europe1-.fr-avec-AFP</td>\n",
       "      <td>Europe-1-(site-web)</td>\n",
       "      <td>Google-inaugure-un-laboratoire-d'intelligence-...</td>\n",
       "      <td>2018-09-18</td>\n",
       "      <td>Google-inaugure-un-laboratoire-d'intelligence-...</td>\n",
       "      <td>title</td>\n",
       "    </tr>\n",
       "    <tr>\n",
       "      <th>...</th>\n",
       "      <td>...</td>\n",
       "      <td>...</td>\n",
       "      <td>...</td>\n",
       "      <td>...</td>\n",
       "      <td>...</td>\n",
       "      <td>...</td>\n",
       "      <td>...</td>\n",
       "    </tr>\n",
       "    <tr>\n",
       "      <th>34649</th>\n",
       "      <td>« Imaginez : vous faites votre jogging le dima...</td>\n",
       "      <td>NaN</td>\n",
       "      <td>Le-Parisien--Edition-Principale;-Paris;-Oise;-...</td>\n",
       "      <td>Mon-médecin-du-sport-personnel</td>\n",
       "      <td>2016-10-03</td>\n",
       "      <td>Mon-médecin-du-sport-personnelLe-Parisien--Edi...</td>\n",
       "      <td>lead</td>\n",
       "    </tr>\n",
       "    <tr>\n",
       "      <th>35245</th>\n",
       "      <td>À l'heure de l'intelligence artificielle, KONE...</td>\n",
       "      <td>NaN</td>\n",
       "      <td>LSA-(site-web)</td>\n",
       "      <td>Révolution-:-les-services-connectés-de-KONE-po...</td>\n",
       "      <td>2018-10-01</td>\n",
       "      <td>Révolution-:-les-services-connectés-de-KONE-po...</td>\n",
       "      <td>lead</td>\n",
       "    </tr>\n",
       "    <tr>\n",
       "      <th>35246</th>\n",
       "      <td>À l'heure de l'intelligence artificielle, KONE...</td>\n",
       "      <td>NaN</td>\n",
       "      <td>LSA-(site-web)</td>\n",
       "      <td>Révolution-:-les-services-connectés-de-KONE-po...</td>\n",
       "      <td>2018-09-10</td>\n",
       "      <td>Révolution-:-les-services-connectés-de-KONE-po...</td>\n",
       "      <td>lead</td>\n",
       "    </tr>\n",
       "    <tr>\n",
       "      <th>35572</th>\n",
       "      <td>États-Unis Une immigrée clandestine femme de m...</td>\n",
       "      <td>NaN</td>\n",
       "      <td>L'Union-(France)--Vitry</td>\n",
       "      <td>Insolites</td>\n",
       "      <td>2018-12-09</td>\n",
       "      <td>InsolitesL'Union-(France)--Vitry2018-12-09</td>\n",
       "      <td>lead</td>\n",
       "    </tr>\n",
       "    <tr>\n",
       "      <th>35573</th>\n",
       "      <td>États-Unis Une immigrée clandestine femme de m...</td>\n",
       "      <td>NaN</td>\n",
       "      <td>Nord-Littoral</td>\n",
       "      <td>Insolites</td>\n",
       "      <td>2018-12-09</td>\n",
       "      <td>InsolitesNord-Littoral2018-12-09</td>\n",
       "      <td>lead</td>\n",
       "    </tr>\n",
       "  </tbody>\n",
       "</table>\n",
       "<p>974 rows × 7 columns</p>\n",
       "</div>"
      ],
      "text/plain": [
       "                                                 content  \\\n",
       "273    Business WireCognigy et Telekom s’associent da...   \n",
       "274    Business WireCognigy et Telekom s’associent da...   \n",
       "305            Cet article est paru dans Acteurs Publics   \n",
       "306            Cet article est paru dans Acteurs Publics   \n",
       "307        Cet article est paru dans Europe 1 (site web)   \n",
       "...                                                  ...   \n",
       "34649  « Imaginez : vous faites votre jogging le dima...   \n",
       "35245  À l'heure de l'intelligence artificielle, KONE...   \n",
       "35246  À l'heure de l'intelligence artificielle, KONE...   \n",
       "35572  États-Unis Une immigrée clandestine femme de m...   \n",
       "35573  États-Unis Une immigrée clandestine femme de m...   \n",
       "\n",
       "                     author  \\\n",
       "273                     NaN   \n",
       "274                     NaN   \n",
       "305                     NaN   \n",
       "306                     NaN   \n",
       "307    Europe1-.fr-avec-AFP   \n",
       "...                     ...   \n",
       "34649                   NaN   \n",
       "35245                   NaN   \n",
       "35246                   NaN   \n",
       "35572                   NaN   \n",
       "35573                   NaN   \n",
       "\n",
       "                                                 journal  \\\n",
       "273         Yahoo!-France-(site-web-réf.)---Yahoo-France   \n",
       "274    Yahoo!-Finance-France-(site-web-réf.)---Yahoo!...   \n",
       "305                                      Acteurs-Publics   \n",
       "306                                      Acteurs-Publics   \n",
       "307                                  Europe-1-(site-web)   \n",
       "...                                                  ...   \n",
       "34649  Le-Parisien--Edition-Principale;-Paris;-Oise;-...   \n",
       "35245                                     LSA-(site-web)   \n",
       "35246                                     LSA-(site-web)   \n",
       "35572                            L'Union-(France)--Vitry   \n",
       "35573                                      Nord-Littoral   \n",
       "\n",
       "                                                   title        date  \\\n",
       "273    Cognigy-et-Telekom-s’associent-dans-le-domaine...  2020-12-17   \n",
       "274    Cognigy-et-Telekom-s’associent-dans-le-domaine...  2020-12-17   \n",
       "305    Le-gouvernement-incite-les-administrations-à-e...  2018-06-14   \n",
       "306    Rapprochement-franco-britannique-sur-l'IA-et-l...  2018-07-05   \n",
       "307    Google-inaugure-un-laboratoire-d'intelligence-...  2018-09-18   \n",
       "...                                                  ...         ...   \n",
       "34649                     Mon-médecin-du-sport-personnel  2016-10-03   \n",
       "35245  Révolution-:-les-services-connectés-de-KONE-po...  2018-10-01   \n",
       "35246  Révolution-:-les-services-connectés-de-KONE-po...  2018-09-10   \n",
       "35572                                          Insolites  2018-12-09   \n",
       "35573                                          Insolites  2018-12-09   \n",
       "\n",
       "                                                      ID key_words  \n",
       "273    Cognigy-et-Telekom-s’associent-dans-le-domaine...     title  \n",
       "274    Cognigy-et-Telekom-s’associent-dans-le-domaine...     title  \n",
       "305    Le-gouvernement-incite-les-administrations-à-e...     title  \n",
       "306    Rapprochement-franco-britannique-sur-l'IA-et-l...     title  \n",
       "307    Google-inaugure-un-laboratoire-d'intelligence-...     title  \n",
       "...                                                  ...       ...  \n",
       "34649  Mon-médecin-du-sport-personnelLe-Parisien--Edi...      lead  \n",
       "35245  Révolution-:-les-services-connectés-de-KONE-po...      lead  \n",
       "35246  Révolution-:-les-services-connectés-de-KONE-po...      lead  \n",
       "35572         InsolitesL'Union-(France)--Vitry2018-12-09      lead  \n",
       "35573                   InsolitesNord-Littoral2018-12-09      lead  \n",
       "\n",
       "[974 rows x 7 columns]"
      ]
     },
     "execution_count": 67,
     "metadata": {},
     "output_type": "execute_result"
    }
   ],
   "source": [
    "# Detecting the duplicates in the content column \n",
    "corpus_complet[corpus_complet.duplicated(['content'], keep=False)]"
   ]
  },
  {
   "cell_type": "code",
   "execution_count": 69,
   "metadata": {},
   "outputs": [
    {
     "name": "stderr",
     "output_type": "stream",
     "text": [
      "<ipython-input-69-3ba7b45d5e6e>:2: SettingWithCopyWarning:\n",
      "\n",
      "\n",
      "A value is trying to be set on a copy of a slice from a DataFrame\n",
      "\n",
      "See the caveats in the documentation: https://pandas.pydata.org/pandas-docs/stable/user_guide/indexing.html#returning-a-view-versus-a-copy\n",
      "\n"
     ]
    }
   ],
   "source": [
    "# Deleting the duplicates\n",
    "corpus_complet.drop_duplicates(subset =\"content\",\n",
    "                     keep = False, inplace = True)"
   ]
  },
  {
   "cell_type": "code",
   "execution_count": 70,
   "metadata": {},
   "outputs": [
    {
     "name": "stdout",
     "output_type": "stream",
     "text": [
      "Total number of records in the cleaned dataset: (47175, 7)\n"
     ]
    }
   ],
   "source": [
    "print('Total number of records in the cleaned dataset:', corpus_complet.shape)"
   ]
  },
  {
   "cell_type": "markdown",
   "metadata": {
    "cell_id": "00005-86485ba5-1819-44b4-88f6-7c48e3be4919",
    "deepnote_cell_type": "text-cell-h3",
    "tags": []
   },
   "source": [
    "### Time stamps"
   ]
  },
  {
   "cell_type": "code",
   "execution_count": 71,
   "metadata": {
    "cell_id": "00011-6415baaa-765d-4bde-b3ca-f8a37abf59bd",
    "deepnote_cell_type": "code",
    "deepnote_to_be_reexecuted": false,
    "execution_millis": 1645,
    "execution_start": 1617895013413,
    "source_hash": "74b8b951",
    "tags": []
   },
   "outputs": [
    {
     "name": "stderr",
     "output_type": "stream",
     "text": [
      "<ipython-input-71-15915e968254>:2: SettingWithCopyWarning:\n",
      "\n",
      "\n",
      "A value is trying to be set on a copy of a slice from a DataFrame.\n",
      "Try using .loc[row_indexer,col_indexer] = value instead\n",
      "\n",
      "See the caveats in the documentation: https://pandas.pydata.org/pandas-docs/stable/user_guide/indexing.html#returning-a-view-versus-a-copy\n",
      "\n",
      "<ipython-input-71-15915e968254>:3: SettingWithCopyWarning:\n",
      "\n",
      "\n",
      "A value is trying to be set on a copy of a slice from a DataFrame.\n",
      "Try using .loc[row_indexer,col_indexer] = value instead\n",
      "\n",
      "See the caveats in the documentation: https://pandas.pydata.org/pandas-docs/stable/user_guide/indexing.html#returning-a-view-versus-a-copy\n",
      "\n",
      "<ipython-input-71-15915e968254>:4: SettingWithCopyWarning:\n",
      "\n",
      "\n",
      "A value is trying to be set on a copy of a slice from a DataFrame.\n",
      "Try using .loc[row_indexer,col_indexer] = value instead\n",
      "\n",
      "See the caveats in the documentation: https://pandas.pydata.org/pandas-docs/stable/user_guide/indexing.html#returning-a-view-versus-a-copy\n",
      "\n"
     ]
    }
   ],
   "source": [
    "# Creating timestamps and new varibles for the timeframe analysis\n",
    "corpus_complet['date_time'] = pd.to_datetime(corpus_complet['date'])\n",
    "corpus_complet['date_month'] = corpus_complet['date_time'].dt.strftime('%Y-%m')\n",
    "corpus_complet['date_year'] = corpus_complet['date_time'].dt.strftime('%Y')"
   ]
  },
  {
   "cell_type": "code",
   "execution_count": 72,
   "metadata": {},
   "outputs": [],
   "source": [
    "# Droping the few values from 2021 year\n",
    "corpus_complet = corpus_complet[corpus_complet.date_year != '2021']"
   ]
  },
  {
   "cell_type": "code",
   "execution_count": 73,
   "metadata": {
    "cell_id": "00017-e85f096d-dfcc-48f7-86a3-fc756463bbf4",
    "deepnote_cell_type": "code",
    "deepnote_to_be_reexecuted": false,
    "execution_millis": 3,
    "execution_start": 1617895015285,
    "source_hash": "be80cd02",
    "tags": []
   },
   "outputs": [],
   "source": [
    "# Creating the distribution dataframe by month\n",
    "dist_month = corpus_complet['date_month'].value_counts(ascending=True)\n",
    "dist_month = dist_month.sort_index()"
   ]
  },
  {
   "cell_type": "code",
   "execution_count": 74,
   "metadata": {
    "cell_id": "00018-efef6b4b-24ab-4ecc-908d-d213bd0c9034",
    "deepnote_cell_type": "code",
    "deepnote_to_be_reexecuted": false,
    "execution_millis": 3375,
    "execution_start": 1617895015291,
    "source_hash": "13d9dc72",
    "tags": []
   },
   "outputs": [
    {
     "name": "stderr",
     "output_type": "stream",
     "text": [
      "/Users/iuliia/opt/anaconda3/lib/python3.8/site-packages/seaborn/_decorators.py:36: FutureWarning:\n",
      "\n",
      "Pass the following variables as keyword args: x, y. From version 0.12, the only valid positional argument will be `data`, and passing other arguments without an explicit keyword will result in an error or misinterpretation.\n",
      "\n"
     ]
    },
    {
     "data": {
      "image/png": "[encoded data removed]",
      "text/plain": [
       "<Figure size 2160x720 with 1 Axes>"
      ]
     },
     "metadata": {
      "needs_background": "light"
     },
     "output_type": "display_data"
    }
   ],
   "source": [
    "# Plot the distribution\n",
    "plt.figure(figsize=(30,10))\n",
    "sns.barplot(dist_month.index, dist_month.values, alpha=0.8, color='lightblue')\n",
    "plt.xticks(rotation='vertical')\n",
    "plt.xlabel('Date', fontsize=12)\n",
    "plt.ylabel('Number of articles', fontsize=12)\n",
    "plt.title(\"Distribution of the articles according to publishing dates 2011-2021 by months\")\n",
    "plt.show()"
   ]
  },
  {
   "cell_type": "code",
   "execution_count": 75,
   "metadata": {
    "cell_id": "00022-f034be6e-74e2-4a83-abe1-672f427b9aa4",
    "deepnote_cell_type": "code",
    "deepnote_to_be_reexecuted": false,
    "execution_millis": 3,
    "execution_start": 1617895018671,
    "source_hash": "69cd0cfc",
    "tags": []
   },
   "outputs": [],
   "source": [
    "# Creating the distribution dataframe by year\n",
    "dist_year = corpus_complet['date_year'].value_counts(ascending=True)\n",
    "dist_year = dist_year.sort_index()"
   ]
  },
  {
   "cell_type": "code",
   "execution_count": 76,
   "metadata": {
    "cell_id": "00023-8790e914-d717-4b88-821f-2c62d24a78f3",
    "deepnote_cell_type": "code",
    "deepnote_to_be_reexecuted": false,
    "execution_millis": 332,
    "execution_start": 1617895018676,
    "source_hash": "b54a9085",
    "tags": []
   },
   "outputs": [
    {
     "name": "stderr",
     "output_type": "stream",
     "text": [
      "/Users/iuliia/opt/anaconda3/lib/python3.8/site-packages/seaborn/_decorators.py:36: FutureWarning:\n",
      "\n",
      "Pass the following variables as keyword args: x, y. From version 0.12, the only valid positional argument will be `data`, and passing other arguments without an explicit keyword will result in an error or misinterpretation.\n",
      "\n"
     ]
    },
    {
     "data": {
      "image/png": "[encoded data removed]",
      "text/plain": [
       "<Figure size 1512x720 with 1 Axes>"
      ]
     },
     "metadata": {
      "needs_background": "light"
     },
     "output_type": "display_data"
    }
   ],
   "source": [
    "# Plot the distribution\n",
    "plt.figure(figsize=(21,10))\n",
    "sns.barplot(dist_year.index, dist_year.values, alpha=0.8, color='lightblue')\n",
    "plt.xticks(rotation='vertical')\n",
    "plt.xlabel('Date', fontsize=12)\n",
    "plt.ylabel('Number of articles', fontsize=12)\n",
    "plt.title(\"Distribution of the articles according to publishing dates by years 2011-2021\")\n",
    "plt.show()"
   ]
  },
  {
   "cell_type": "markdown",
   "metadata": {
    "cell_id": "00020-c01f9dd8-040d-47a9-9afe-8d13fe4cb535",
    "deepnote_cell_type": "text-cell-h3",
    "tags": []
   },
   "source": [
    "### Distribution of the articles by media"
   ]
  },
  {
   "cell_type": "code",
   "execution_count": 77,
   "metadata": {
    "cell_id": "00021-68b4fcd2-9a52-49fe-87c1-ff3d53433ad8",
    "deepnote_cell_type": "code",
    "deepnote_to_be_reexecuted": false,
    "execution_millis": 165,
    "execution_start": 1617895018942,
    "source_hash": "e680dc12",
    "tags": []
   },
   "outputs": [
    {
     "data": {
      "text/plain": [
       "7198"
      ]
     },
     "execution_count": 77,
     "metadata": {},
     "output_type": "execute_result"
    }
   ],
   "source": [
    "# Display total number of unique media names\n",
    "corpus_complet['journal'].nunique()"
   ]
  },
  {
   "cell_type": "code",
   "execution_count": 78,
   "metadata": {},
   "outputs": [
    {
     "name": "stderr",
     "output_type": "stream",
     "text": [
      "<ipython-input-78-f099407db127>:3: FutureWarning:\n",
      "\n",
      "The default value of regex will change from True to False in a future version. In addition, single character regular expressions will*not* be treated as literal strings when regex=True.\n",
      "\n",
      "<ipython-input-78-f099407db127>:4: FutureWarning:\n",
      "\n",
      "The default value of regex will change from True to False in a future version. In addition, single character regular expressions will*not* be treated as literal strings when regex=True.\n",
      "\n",
      "<ipython-input-78-f099407db127>:6: FutureWarning:\n",
      "\n",
      "The default value of regex will change from True to False in a future version.\n",
      "\n",
      "<ipython-input-78-f099407db127>:7: FutureWarning:\n",
      "\n",
      "The default value of regex will change from True to False in a future version.\n",
      "\n",
      "<ipython-input-78-f099407db127>:9: FutureWarning:\n",
      "\n",
      "The default value of regex will change from True to False in a future version.\n",
      "\n",
      "<ipython-input-78-f099407db127>:11: FutureWarning:\n",
      "\n",
      "The default value of regex will change from True to False in a future version.\n",
      "\n",
      "<ipython-input-78-f099407db127>:12: FutureWarning:\n",
      "\n",
      "The default value of regex will change from True to False in a future version.\n",
      "\n",
      "<ipython-input-78-f099407db127>:13: FutureWarning:\n",
      "\n",
      "The default value of regex will change from True to False in a future version.\n",
      "\n",
      "<ipython-input-78-f099407db127>:14: FutureWarning:\n",
      "\n",
      "The default value of regex will change from True to False in a future version.\n",
      "\n",
      "<ipython-input-78-f099407db127>:15: FutureWarning:\n",
      "\n",
      "The default value of regex will change from True to False in a future version.\n",
      "\n",
      "<ipython-input-78-f099407db127>:16: FutureWarning:\n",
      "\n",
      "The default value of regex will change from True to False in a future version.\n",
      "\n",
      "<ipython-input-78-f099407db127>:17: FutureWarning:\n",
      "\n",
      "The default value of regex will change from True to False in a future version.\n",
      "\n",
      "<ipython-input-78-f099407db127>:18: FutureWarning:\n",
      "\n",
      "The default value of regex will change from True to False in a future version.\n",
      "\n",
      "<ipython-input-78-f099407db127>:19: FutureWarning:\n",
      "\n",
      "The default value of regex will change from True to False in a future version.\n",
      "\n",
      "<ipython-input-78-f099407db127>:20: FutureWarning:\n",
      "\n",
      "The default value of regex will change from True to False in a future version.\n",
      "\n",
      "<ipython-input-78-f099407db127>:21: FutureWarning:\n",
      "\n",
      "The default value of regex will change from True to False in a future version.\n",
      "\n",
      "<ipython-input-78-f099407db127>:22: FutureWarning:\n",
      "\n",
      "The default value of regex will change from True to False in a future version.\n",
      "\n",
      "<ipython-input-78-f099407db127>:23: FutureWarning:\n",
      "\n",
      "The default value of regex will change from True to False in a future version.\n",
      "\n",
      "<ipython-input-78-f099407db127>:24: FutureWarning:\n",
      "\n",
      "The default value of regex will change from True to False in a future version.\n",
      "\n",
      "<ipython-input-78-f099407db127>:25: FutureWarning:\n",
      "\n",
      "The default value of regex will change from True to False in a future version.\n",
      "\n",
      "<ipython-input-78-f099407db127>:26: FutureWarning:\n",
      "\n",
      "The default value of regex will change from True to False in a future version.\n",
      "\n",
      "<ipython-input-78-f099407db127>:27: FutureWarning:\n",
      "\n",
      "The default value of regex will change from True to False in a future version.\n",
      "\n",
      "<ipython-input-78-f099407db127>:28: FutureWarning:\n",
      "\n",
      "The default value of regex will change from True to False in a future version.\n",
      "\n",
      "<ipython-input-78-f099407db127>:29: FutureWarning:\n",
      "\n",
      "The default value of regex will change from True to False in a future version.\n",
      "\n",
      "<ipython-input-78-f099407db127>:30: FutureWarning:\n",
      "\n",
      "The default value of regex will change from True to False in a future version.\n",
      "\n"
     ]
    }
   ],
   "source": [
    "# Transforming media names to the same format\n",
    "corpus_complet['journal_clean'] = corpus_complet['journal'].str.replace(\"--\", '')\n",
    "corpus_complet['journal_clean'] = corpus_complet['journal_clean'].str.replace(\"(\", '')\n",
    "corpus_complet['journal_clean'] = corpus_complet['journal_clean'].str.replace(\")\", '')\n",
    "corpus_complet['journal_clean'] = corpus_complet['journal_clean'].str.replace(\"-site-web\", '')\n",
    "corpus_complet['journal_clean'] = corpus_complet['journal_clean'].str.replace(\".fr\", '')\n",
    "corpus_complet['journal_clean'] = corpus_complet['journal_clean'].str.replace(\".com\", '')\n",
    "corpus_complet['journal_clean'] = corpus_complet['journal_clean'].str.replace(\"-\", ' ')\n",
    "corpus_complet['journal_clean'] = corpus_complet['journal_clean'].str.replace(r'\\,.+','')\n",
    "\n",
    "corpus_complet['journal_clean'] = corpus_complet['journal_clean'].str.replace(r'(?<=Echos).*$','')\n",
    "corpus_complet['journal_clean'] = corpus_complet['journal_clean'].str.replace(r'(?<=Monde).*$','')\n",
    "corpus_complet['journal_clean'] = corpus_complet['journal_clean'].str.replace(r'(?<=Tribune).*$','')\n",
    "corpus_complet['journal_clean'] = corpus_complet['journal_clean'].str.replace(r'(?<=AGEFI).*$','')\n",
    "corpus_complet['journal_clean'] = corpus_complet['journal_clean'].str.replace(r'(?<=Parisien).*$','')\n",
    "corpus_complet['journal_clean'] = corpus_complet['journal_clean'].str.replace(r'(?<=Sud Ouest).*$','')\n",
    "corpus_complet['journal_clean'] = corpus_complet['journal_clean'].str.replace(r'(?<=La Provence).*$','')\n",
    "corpus_complet['journal_clean'] = corpus_complet['journal_clean'].str.replace(r'(?<=Paris Normandie).*$','')\n",
    "corpus_complet['journal_clean'] = corpus_complet['journal_clean'].str.replace(r'(?<=Le Huffington Post).*$','')\n",
    "corpus_complet['journal_clean'] = corpus_complet['journal_clean'].str.replace(r'(?<=Presse Océan).*$','')\n",
    "corpus_complet['journal_clean'] = corpus_complet['journal_clean'].str.replace(r'(?<=La Croix).*$','')\n",
    "corpus_complet['journal_clean'] = corpus_complet['journal_clean'].str.replace(r'(?<=Ouest France).*$','')\n",
    "corpus_complet['journal_clean'] = corpus_complet['journal_clean'].str.replace(r'(?<=Midi Libre).*$','')\n",
    "corpus_complet['journal_clean'] = corpus_complet['journal_clean'].str.replace(r'(?<=Le Progrès Lyon).*$','')\n",
    "corpus_complet['journal_clean'] = corpus_complet['journal_clean'].str.replace(r'(?<=Corse Matin).*$','')\n",
    "corpus_complet['journal_clean'] = corpus_complet['journal_clean'].str.replace(r'(?<=La Montagne).*$','')\n",
    "corpus_complet['journal_clean'] = corpus_complet['journal_clean'].str.replace(r'(?<=Républicain).*$','')\n",
    "corpus_complet['journal_clean'] = corpus_complet['journal_clean'].str.replace(r'(?<=La République du Centre).*$','')\n",
    "corpus_complet['journal_clean'] = corpus_complet['journal_clean'].str.replace(r'(?<=Indépendant).*$','')\n",
    "corpus_complet['journal_clean'] = corpus_complet['journal_clean'].str.replace(r'(?<=Le Courrier de lOuest).*$','')"
   ]
  },
  {
   "cell_type": "code",
   "execution_count": 79,
   "metadata": {},
   "outputs": [
    {
     "data": {
      "text/plain": [
       "707"
      ]
     },
     "execution_count": 79,
     "metadata": {},
     "output_type": "execute_result"
    }
   ],
   "source": [
    "# Total number of media sources after cleaning\n",
    "corpus_complet['journal_clean'].nunique()"
   ]
  },
  {
   "cell_type": "code",
   "execution_count": 80,
   "metadata": {
    "cell_id": "00021-b5efaabc-b03d-4c9e-ba6a-1cf1c69e2471",
    "deepnote_cell_type": "code",
    "deepnote_to_be_reexecuted": false,
    "execution_millis": 153,
    "execution_start": 1617895018954,
    "source_hash": "b0a24ecd",
    "tags": []
   },
   "outputs": [
    {
     "data": {
      "text/plain": [
       "Les Echos                            3696\n",
       "L'Usine Nouvelle                     3110\n",
       "La Tribune                           1984\n",
       "Le Figaro                            1683\n",
       "Le Monde                             1675\n",
       "Ouest France                         1395\n",
       "IT for Business                       891\n",
       "Sciences et Avenir                    879\n",
       "L'AGEFI                               818\n",
       "Sud Ouest                             799\n",
       "Aujourd'hui en France                 776\n",
       "Industrie et Technologies             728\n",
       "Le Point                              727\n",
       "Libération                            675\n",
       "Midi Libre                            656\n",
       "La Provence                           584\n",
       "Boursier                              541\n",
       "Challenges                            536\n",
       "Le Télégramme Bretagne                529\n",
       "L'Obs                                 523\n",
       "Le Progrès Lyon                       501\n",
       "20 Minutes                            475\n",
       "La Correspondance de la Publicité     464\n",
       "E marketing                           461\n",
       "Stratégies                            445\n",
       "mind Health                           427\n",
       "LSA                                   420\n",
       "L'Express                             411\n",
       "Capital Finance                       408\n",
       "Le Journal du Net JDN                 403\n",
       "Le Parisien                           396\n",
       "ElectroniqueS                         381\n",
       "L'Est Républicain                     370\n",
       "Le Quotidien du Médecin               356\n",
       "Option Finance                        351\n",
       "L'Indépendant                         338\n",
       "La Croix                              337\n",
       "Atlantico                             316\n",
       "AFP Infos Economiques                 282\n",
       "Cercle Finance                        280\n",
       "01 net                                263\n",
       "Relation Client                       262\n",
       "L'Argus de l'assurance                256\n",
       "La Montagne                           249\n",
       "Silicon                               241\n",
       "Emerce                                239\n",
       "mind Fintech                          231\n",
       "Télérama                              209\n",
       "TOM                                   196\n",
       "Agence Option Finance AOF             186\n",
       "Name: journal_clean, dtype: int64"
      ]
     },
     "execution_count": 80,
     "metadata": {},
     "output_type": "execute_result"
    }
   ],
   "source": [
    "# Creating the media distribution dataframe by number of articles published\n",
    "dist_media = corpus_complet['journal_clean'].value_counts()\n",
    "# top 50 most active media\n",
    "dist_media50 = dist_media.head(50)\n",
    "dist_media50"
   ]
  },
  {
   "cell_type": "code",
   "execution_count": 81,
   "metadata": {},
   "outputs": [],
   "source": [
    "# Top 30 most active media\n",
    "dist_media30 = dist_media.head(30)"
   ]
  },
  {
   "cell_type": "code",
   "execution_count": 82,
   "metadata": {
    "cell_id": "00022-c2b6d7ff-b322-4434-a261-2d2433bb16c2",
    "deepnote_cell_type": "code",
    "deepnote_to_be_reexecuted": false,
    "execution_millis": 621,
    "execution_start": 1617895018965,
    "source_hash": "881b430b",
    "tags": []
   },
   "outputs": [
    {
     "name": "stderr",
     "output_type": "stream",
     "text": [
      "/Users/iuliia/opt/anaconda3/lib/python3.8/site-packages/seaborn/_decorators.py:36: FutureWarning:\n",
      "\n",
      "Pass the following variables as keyword args: x, y. From version 0.12, the only valid positional argument will be `data`, and passing other arguments without an explicit keyword will result in an error or misinterpretation.\n",
      "\n"
     ]
    },
    {
     "data": {
      "image/png": "[encoded data removed]",
      "text/plain": [
       "<Figure size 1512x720 with 1 Axes>"
      ]
     },
     "metadata": {
      "needs_background": "light"
     },
     "output_type": "display_data"
    }
   ],
   "source": [
    "# Media distribution visualization\n",
    "plt.figure(figsize=(21,10))\n",
    "sns.barplot(dist_media30.values, dist_media30.index, color='lightblue')\n",
    "plt.xticks(rotation='horizontal')\n",
    "plt.xlabel('Number of articles', fontsize=20)\n",
    "plt.ylabel('Media', fontsize=20)\n",
    "plt.title(\"Top 30 media\")\n",
    "plt.show()"
   ]
  },
  {
   "cell_type": "markdown",
   "metadata": {},
   "source": [
    "#### Matching dataframe with media cathegories"
   ]
  },
  {
   "cell_type": "code",
   "execution_count": 83,
   "metadata": {},
   "outputs": [
    {
     "data": {
      "text/html": [
       "<div>\n",
       "<style scoped>\n",
       "    .dataframe tbody tr th:only-of-type {\n",
       "        vertical-align: middle;\n",
       "    }\n",
       "\n",
       "    .dataframe tbody tr th {\n",
       "        vertical-align: top;\n",
       "    }\n",
       "\n",
       "    .dataframe thead th {\n",
       "        text-align: right;\n",
       "    }\n",
       "</style>\n",
       "<table border=\"1\" class=\"dataframe\">\n",
       "  <thead>\n",
       "    <tr style=\"text-align: right;\">\n",
       "      <th></th>\n",
       "      <th>journal</th>\n",
       "      <th>category</th>\n",
       "    </tr>\n",
       "  </thead>\n",
       "  <tbody>\n",
       "    <tr>\n",
       "      <th>0</th>\n",
       "      <td>01 net</td>\n",
       "      <td>national</td>\n",
       "    </tr>\n",
       "    <tr>\n",
       "      <th>1</th>\n",
       "      <td>20 Minutes</td>\n",
       "      <td>national</td>\n",
       "    </tr>\n",
       "    <tr>\n",
       "      <th>2</th>\n",
       "      <td>ABC Bourse</td>\n",
       "      <td>national</td>\n",
       "    </tr>\n",
       "    <tr>\n",
       "      <th>3</th>\n",
       "      <td>Acta Endoscopica</td>\n",
       "      <td>national</td>\n",
       "    </tr>\n",
       "    <tr>\n",
       "      <th>4</th>\n",
       "      <td>Acteurs Publics</td>\n",
       "      <td>national</td>\n",
       "    </tr>\n",
       "    <tr>\n",
       "      <th>5</th>\n",
       "      <td>Action Co</td>\n",
       "      <td>national</td>\n",
       "    </tr>\n",
       "    <tr>\n",
       "      <th>6</th>\n",
       "      <td>Actu Labo</td>\n",
       "      <td>national</td>\n",
       "    </tr>\n",
       "    <tr>\n",
       "      <th>7</th>\n",
       "      <td>Actualités Sociales Hebdo - Numéros juridiques</td>\n",
       "      <td>national</td>\n",
       "    </tr>\n",
       "    <tr>\n",
       "      <th>8</th>\n",
       "      <td>Actualités Sociales Hebdomadaires</td>\n",
       "      <td>national</td>\n",
       "    </tr>\n",
       "    <tr>\n",
       "      <th>9</th>\n",
       "      <td>Actu-Environnement</td>\n",
       "      <td>national</td>\n",
       "    </tr>\n",
       "  </tbody>\n",
       "</table>\n",
       "</div>"
      ],
      "text/plain": [
       "                                           journal  category\n",
       "0                                          01 net   national\n",
       "1                                      20 Minutes   national\n",
       "2                                      ABC Bourse   national\n",
       "3                                Acta Endoscopica   national\n",
       "4                                 Acteurs Publics   national\n",
       "5                                       Action Co   national\n",
       "6                                       Actu Labo   national\n",
       "7  Actualités Sociales Hebdo - Numéros juridiques   national\n",
       "8               Actualités Sociales Hebdomadaires   national\n",
       "9                              Actu-Environnement   national"
      ]
     },
     "execution_count": 83,
     "metadata": {},
     "output_type": "execute_result"
    }
   ],
   "source": [
    "# Dataframe with media cathegories extracted from Europress\n",
    "media_df = pd.read_excel('media_cat.xls')\n",
    "#media_df.rename(columns = {'name':'journal'}, inplace = True)\n",
    "media_df.head(10)"
   ]
  },
  {
   "cell_type": "code",
   "execution_count": 84,
   "metadata": {},
   "outputs": [],
   "source": [
    "media_df['journal_clean'] = media_df['journal'].astype(str) "
   ]
  },
  {
   "cell_type": "code",
   "execution_count": 85,
   "metadata": {},
   "outputs": [
    {
     "name": "stderr",
     "output_type": "stream",
     "text": [
      "<ipython-input-85-48b2ecb6e3b3>:3: FutureWarning:\n",
      "\n",
      "The default value of regex will change from True to False in a future version. In addition, single character regular expressions will*not* be treated as literal strings when regex=True.\n",
      "\n",
      "<ipython-input-85-48b2ecb6e3b3>:4: FutureWarning:\n",
      "\n",
      "The default value of regex will change from True to False in a future version. In addition, single character regular expressions will*not* be treated as literal strings when regex=True.\n",
      "\n",
      "<ipython-input-85-48b2ecb6e3b3>:6: FutureWarning:\n",
      "\n",
      "The default value of regex will change from True to False in a future version.\n",
      "\n",
      "<ipython-input-85-48b2ecb6e3b3>:8: FutureWarning:\n",
      "\n",
      "The default value of regex will change from True to False in a future version.\n",
      "\n",
      "<ipython-input-85-48b2ecb6e3b3>:9: FutureWarning:\n",
      "\n",
      "The default value of regex will change from True to False in a future version.\n",
      "\n",
      "<ipython-input-85-48b2ecb6e3b3>:10: FutureWarning:\n",
      "\n",
      "The default value of regex will change from True to False in a future version.\n",
      "\n",
      "<ipython-input-85-48b2ecb6e3b3>:11: FutureWarning:\n",
      "\n",
      "The default value of regex will change from True to False in a future version.\n",
      "\n",
      "<ipython-input-85-48b2ecb6e3b3>:12: FutureWarning:\n",
      "\n",
      "The default value of regex will change from True to False in a future version.\n",
      "\n",
      "<ipython-input-85-48b2ecb6e3b3>:13: FutureWarning:\n",
      "\n",
      "The default value of regex will change from True to False in a future version.\n",
      "\n",
      "<ipython-input-85-48b2ecb6e3b3>:14: FutureWarning:\n",
      "\n",
      "The default value of regex will change from True to False in a future version.\n",
      "\n",
      "<ipython-input-85-48b2ecb6e3b3>:15: FutureWarning:\n",
      "\n",
      "The default value of regex will change from True to False in a future version.\n",
      "\n",
      "<ipython-input-85-48b2ecb6e3b3>:16: FutureWarning:\n",
      "\n",
      "The default value of regex will change from True to False in a future version.\n",
      "\n",
      "<ipython-input-85-48b2ecb6e3b3>:17: FutureWarning:\n",
      "\n",
      "The default value of regex will change from True to False in a future version.\n",
      "\n",
      "<ipython-input-85-48b2ecb6e3b3>:18: FutureWarning:\n",
      "\n",
      "The default value of regex will change from True to False in a future version.\n",
      "\n",
      "<ipython-input-85-48b2ecb6e3b3>:19: FutureWarning:\n",
      "\n",
      "The default value of regex will change from True to False in a future version.\n",
      "\n",
      "<ipython-input-85-48b2ecb6e3b3>:20: FutureWarning:\n",
      "\n",
      "The default value of regex will change from True to False in a future version.\n",
      "\n",
      "<ipython-input-85-48b2ecb6e3b3>:21: FutureWarning:\n",
      "\n",
      "The default value of regex will change from True to False in a future version.\n",
      "\n",
      "<ipython-input-85-48b2ecb6e3b3>:22: FutureWarning:\n",
      "\n",
      "The default value of regex will change from True to False in a future version.\n",
      "\n",
      "<ipython-input-85-48b2ecb6e3b3>:23: FutureWarning:\n",
      "\n",
      "The default value of regex will change from True to False in a future version.\n",
      "\n",
      "<ipython-input-85-48b2ecb6e3b3>:24: FutureWarning:\n",
      "\n",
      "The default value of regex will change from True to False in a future version.\n",
      "\n",
      "<ipython-input-85-48b2ecb6e3b3>:25: FutureWarning:\n",
      "\n",
      "The default value of regex will change from True to False in a future version.\n",
      "\n",
      "<ipython-input-85-48b2ecb6e3b3>:26: FutureWarning:\n",
      "\n",
      "The default value of regex will change from True to False in a future version.\n",
      "\n",
      "<ipython-input-85-48b2ecb6e3b3>:27: FutureWarning:\n",
      "\n",
      "The default value of regex will change from True to False in a future version.\n",
      "\n",
      "<ipython-input-85-48b2ecb6e3b3>:28: FutureWarning:\n",
      "\n",
      "The default value of regex will change from True to False in a future version.\n",
      "\n"
     ]
    }
   ],
   "source": [
    "# Cleaning the media names values\n",
    "media_df['journal_clean'] = media_df['journal_clean'].str.replace(\"--\", '')\n",
    "media_df['journal_clean'] = media_df['journal_clean'].str.replace(\"(\", '')\n",
    "media_df['journal_clean'] = media_df['journal_clean'].str.replace(\")\", '')\n",
    "media_df['journal_clean'] = media_df['journal_clean'].str.replace(\"-site-web\", '')\n",
    "media_df['journal_clean'] = media_df['journal_clean'].str.replace(\".fr\", '')\n",
    "media_df['journal_clean'] = media_df['journal_clean'].str.replace(\"-\", ' ')\n",
    "media_df['journal_clean'] = media_df['journal_clean'].str.replace(r'\\,.+','')\n",
    "media_df['journal_clean'] = media_df['journal_clean'].str.replace(r'(?<=Echos).*$','')\n",
    "media_df['journal_clean'] = media_df['journal_clean'].str.replace(r'(?<=Monde).*$','')\n",
    "media_df['journal_clean'] = media_df['journal_clean'].str.replace(r'(?<=Tribune).*$','')\n",
    "media_df['journal_clean'] = media_df['journal_clean'].str.replace(r'(?<=AGEFI).*$','')\n",
    "media_df['journal_clean'] = media_df['journal_clean'].str.replace(r'(?<=Parisien).*$','')\n",
    "media_df['journal_clean'] = media_df['journal_clean'].str.replace(r'(?<=Sud Ouest).*$','')\n",
    "media_df['journal_clean'] = media_df['journal_clean'].str.replace(r'(?<=La Provence).*$','')\n",
    "media_df['journal_clean'] = media_df['journal_clean'].str.replace(r'(?<=Paris Normandie).*$','')\n",
    "media_df['journal_clean'] = media_df['journal_clean'].str.replace(r'(?<=Le Huffington Post).*$','')\n",
    "media_df['journal_clean'] = media_df['journal_clean'].str.replace(r'(?<=Presse Océan).*$','')\n",
    "media_df['journal_clean'] = media_df['journal_clean'].str.replace(r'(?<=La Croix).*$','')\n",
    "media_df['journal_clean'] = media_df['journal_clean'].str.replace(r'(?<=Ouest France).*$','')\n",
    "media_df['journal_clean'] = media_df['journal_clean'].str.replace(r'(?<=Midi Libre).*$','')\n",
    "media_df['journal_clean'] = media_df['journal_clean'].str.replace(r'(?<=Le Progrès Lyon).*$','')\n",
    "media_df['journal_clean'] = media_df['journal_clean'].str.replace(r'(?<=Corse Matin).*$','')\n",
    "media_df['journal_clean'] = media_df['journal_clean'].str.replace(r'(?<=La Montagne).*$','')\n",
    "media_df['journal_clean'] = media_df['journal_clean'].str.replace(r'(?<=Républicain).*$','')\n",
    "media_df['journal_clean'] = media_df['journal_clean'].str.replace(r'(?<=La République du Centre).*$','')\n",
    "media_df['journal_clean'] = media_df['journal_clean'].str.replace(r'(?<=Indépendant).*$','')\n",
    "media_df['journal_clean'] = media_df['journal_clean'].str.replace(r'(?<=Le Courrier de lOuest).*$','')"
   ]
  },
  {
   "cell_type": "code",
   "execution_count": 86,
   "metadata": {},
   "outputs": [],
   "source": [
    "# Merging two dataframes\n",
    "df = pd.merge(corpus_complet, media_df, on='journal_clean')"
   ]
  },
  {
   "cell_type": "code",
   "execution_count": 87,
   "metadata": {},
   "outputs": [],
   "source": [
    "# Creating the dataframe for the media types distribution\n",
    "df[\"date_year\"] = df.date_year.astype(int)\n",
    "media_cat = df.value_counts([\"category\", \"date_year\"])\n",
    "media_cat = media_cat.reset_index().rename(columns={'category': 'category', 0:'count'})"
   ]
  },
  {
   "cell_type": "code",
   "execution_count": 88,
   "metadata": {},
   "outputs": [
    {
     "data": {
      "application/vnd.plotly.v1+json": {
       "config": {
        "plotlyServerURL": "https://plot.ly"
       },
       "data": [
        {
         "hovertemplate": "category=national<br>date_year=%{x}<br>count=%{y}<extra></extra>",
         "legendgroup": "national",
         "line": {
          "color": "#636efa"
         },
         "mode": "lines",
         "name": "national",
         "orientation": "v",
         "showlegend": true,
         "stackgroup": "1",
         "type": "scatter",
         "x": [
          2018,
          2019,
          2017,
          2020,
          2016,
          2015,
          2014,
          2012,
          2011,
          2013
         ],
         "xaxis": "x",
         "y": [
          14615,
          11138,
          9365,
          6608,
          4447,
          2070,
          1203,
          440,
          397,
          377
         ],
         "yaxis": "y"
        },
        {
         "hovertemplate": "category=regional<br>date_year=%{x}<br>count=%{y}<extra></extra>",
         "legendgroup": "regional",
         "line": {
          "color": "#EF553B"
         },
         "mode": "lines",
         "name": "regional",
         "orientation": "v",
         "showlegend": true,
         "stackgroup": "1",
         "type": "scatter",
         "x": [
          2019,
          2018,
          2017,
          2020,
          2016,
          2015,
          2014,
          2011,
          2012,
          2013
         ],
         "xaxis": "x",
         "y": [
          8452,
          8189,
          5926,
          4130,
          3106,
          2741,
          1485,
          694,
          599,
          590
         ],
         "yaxis": "y"
        },
        {
         "hovertemplate": "category=international<br>date_year=%{x}<br>count=%{y}<extra></extra>",
         "legendgroup": "international",
         "line": {
          "color": "#00cc96"
         },
         "mode": "lines",
         "name": "international",
         "orientation": "v",
         "showlegend": true,
         "stackgroup": "1",
         "type": "scatter",
         "x": [
          2018,
          2017,
          2019,
          2016,
          2020,
          2015,
          2014,
          2012,
          2013,
          2011
         ],
         "xaxis": "x",
         "y": [
          1984,
          1710,
          1384,
          1176,
          812,
          596,
          411,
          155,
          126,
          120
         ],
         "yaxis": "y"
        }
       ],
       "layout": {
        "legend": {
         "title": {
          "text": "category"
         },
         "tracegroupgap": 0
        },
        "template": {
         "data": {
          "bar": [
           {
            "error_x": {
             "color": "#2a3f5f"
            },
            "error_y": {
             "color": "#2a3f5f"
            },
            "marker": {
             "line": {
              "color": "#E5ECF6",
              "width": 0.5
             }
            },
            "type": "bar"
           }
          ],
          "barpolar": [
           {
            "marker": {
             "line": {
              "color": "#E5ECF6",
              "width": 0.5
             }
            },
            "type": "barpolar"
           }
          ],
          "carpet": [
           {
            "aaxis": {
             "endlinecolor": "#2a3f5f",
             "gridcolor": "white",
             "linecolor": "white",
             "minorgridcolor": "white",
             "startlinecolor": "#2a3f5f"
            },
            "baxis": {
             "endlinecolor": "#2a3f5f",
             "gridcolor": "white",
             "linecolor": "white",
             "minorgridcolor": "white",
             "startlinecolor": "#2a3f5f"
            },
            "type": "carpet"
           }
          ],
          "choropleth": [
           {
            "colorbar": {
             "outlinewidth": 0,
             "ticks": ""
            },
            "type": "choropleth"
           }
          ],
          "contour": [
           {
            "colorbar": {
             "outlinewidth": 0,
             "ticks": ""
            },
            "colorscale": [
             [
              0,
              "#0d0887"
             ],
             [
              0.1111111111111111,
              "#46039f"
             ],
             [
              0.2222222222222222,
              "#7201a8"
             ],
             [
              0.3333333333333333,
              "#9c179e"
             ],
             [
              0.4444444444444444,
              "#bd3786"
             ],
             [
              0.5555555555555556,
              "#d8576b"
             ],
             [
              0.6666666666666666,
              "#ed7953"
             ],
             [
              0.7777777777777778,
              "#fb9f3a"
             ],
             [
              0.8888888888888888,
              "#fdca26"
             ],
             [
              1,
              "#f0f921"
             ]
            ],
            "type": "contour"
           }
          ],
          "contourcarpet": [
           {
            "colorbar": {
             "outlinewidth": 0,
             "ticks": ""
            },
            "type": "contourcarpet"
           }
          ],
          "heatmap": [
           {
            "colorbar": {
             "outlinewidth": 0,
             "ticks": ""
            },
            "colorscale": [
             [
              0,
              "#0d0887"
             ],
             [
              0.1111111111111111,
              "#46039f"
             ],
             [
              0.2222222222222222,
              "#7201a8"
             ],
             [
              0.3333333333333333,
              "#9c179e"
             ],
             [
              0.4444444444444444,
              "#bd3786"
             ],
             [
              0.5555555555555556,
              "#d8576b"
             ],
             [
              0.6666666666666666,
              "#ed7953"
             ],
             [
              0.7777777777777778,
              "#fb9f3a"
             ],
             [
              0.8888888888888888,
              "#fdca26"
             ],
             [
              1,
              "#f0f921"
             ]
            ],
            "type": "heatmap"
           }
          ],
          "heatmapgl": [
           {
            "colorbar": {
             "outlinewidth": 0,
             "ticks": ""
            },
            "colorscale": [
             [
              0,
              "#0d0887"
             ],
             [
              0.1111111111111111,
              "#46039f"
             ],
             [
              0.2222222222222222,
              "#7201a8"
             ],
             [
              0.3333333333333333,
              "#9c179e"
             ],
             [
              0.4444444444444444,
              "#bd3786"
             ],
             [
              0.5555555555555556,
              "#d8576b"
             ],
             [
              0.6666666666666666,
              "#ed7953"
             ],
             [
              0.7777777777777778,
              "#fb9f3a"
             ],
             [
              0.8888888888888888,
              "#fdca26"
             ],
             [
              1,
              "#f0f921"
             ]
            ],
            "type": "heatmapgl"
           }
          ],
          "histogram": [
           {
            "marker": {
             "colorbar": {
              "outlinewidth": 0,
              "ticks": ""
             }
            },
            "type": "histogram"
           }
          ],
          "histogram2d": [
           {
            "colorbar": {
             "outlinewidth": 0,
             "ticks": ""
            },
            "colorscale": [
             [
              0,
              "#0d0887"
             ],
             [
              0.1111111111111111,
              "#46039f"
             ],
             [
              0.2222222222222222,
              "#7201a8"
             ],
             [
              0.3333333333333333,
              "#9c179e"
             ],
             [
              0.4444444444444444,
              "#bd3786"
             ],
             [
              0.5555555555555556,
              "#d8576b"
             ],
             [
              0.6666666666666666,
              "#ed7953"
             ],
             [
              0.7777777777777778,
              "#fb9f3a"
             ],
             [
              0.8888888888888888,
              "#fdca26"
             ],
             [
              1,
              "#f0f921"
             ]
            ],
            "type": "histogram2d"
           }
          ],
          "histogram2dcontour": [
           {
            "colorbar": {
             "outlinewidth": 0,
             "ticks": ""
            },
            "colorscale": [
             [
              0,
              "#0d0887"
             ],
             [
              0.1111111111111111,
              "#46039f"
             ],
             [
              0.2222222222222222,
              "#7201a8"
             ],
             [
              0.3333333333333333,
              "#9c179e"
             ],
             [
              0.4444444444444444,
              "#bd3786"
             ],
             [
              0.5555555555555556,
              "#d8576b"
             ],
             [
              0.6666666666666666,
              "#ed7953"
             ],
             [
              0.7777777777777778,
              "#fb9f3a"
             ],
             [
              0.8888888888888888,
              "#fdca26"
             ],
             [
              1,
              "#f0f921"
             ]
            ],
            "type": "histogram2dcontour"
           }
          ],
          "mesh3d": [
           {
            "colorbar": {
             "outlinewidth": 0,
             "ticks": ""
            },
            "type": "mesh3d"
           }
          ],
          "parcoords": [
           {
            "line": {
             "colorbar": {
              "outlinewidth": 0,
              "ticks": ""
             }
            },
            "type": "parcoords"
           }
          ],
          "pie": [
           {
            "automargin": true,
            "type": "pie"
           }
          ],
          "scatter": [
           {
            "marker": {
             "colorbar": {
              "outlinewidth": 0,
              "ticks": ""
             }
            },
            "type": "scatter"
           }
          ],
          "scatter3d": [
           {
            "line": {
             "colorbar": {
              "outlinewidth": 0,
              "ticks": ""
             }
            },
            "marker": {
             "colorbar": {
              "outlinewidth": 0,
              "ticks": ""
             }
            },
            "type": "scatter3d"
           }
          ],
          "scattercarpet": [
           {
            "marker": {
             "colorbar": {
              "outlinewidth": 0,
              "ticks": ""
             }
            },
            "type": "scattercarpet"
           }
          ],
          "scattergeo": [
           {
            "marker": {
             "colorbar": {
              "outlinewidth": 0,
              "ticks": ""
             }
            },
            "type": "scattergeo"
           }
          ],
          "scattergl": [
           {
            "marker": {
             "colorbar": {
              "outlinewidth": 0,
              "ticks": ""
             }
            },
            "type": "scattergl"
           }
          ],
          "scattermapbox": [
           {
            "marker": {
             "colorbar": {
              "outlinewidth": 0,
              "ticks": ""
             }
            },
            "type": "scattermapbox"
           }
          ],
          "scatterpolar": [
           {
            "marker": {
             "colorbar": {
              "outlinewidth": 0,
              "ticks": ""
             }
            },
            "type": "scatterpolar"
           }
          ],
          "scatterpolargl": [
           {
            "marker": {
             "colorbar": {
              "outlinewidth": 0,
              "ticks": ""
             }
            },
            "type": "scatterpolargl"
           }
          ],
          "scatterternary": [
           {
            "marker": {
             "colorbar": {
              "outlinewidth": 0,
              "ticks": ""
             }
            },
            "type": "scatterternary"
           }
          ],
          "surface": [
           {
            "colorbar": {
             "outlinewidth": 0,
             "ticks": ""
            },
            "colorscale": [
             [
              0,
              "#0d0887"
             ],
             [
              0.1111111111111111,
              "#46039f"
             ],
             [
              0.2222222222222222,
              "#7201a8"
             ],
             [
              0.3333333333333333,
              "#9c179e"
             ],
             [
              0.4444444444444444,
              "#bd3786"
             ],
             [
              0.5555555555555556,
              "#d8576b"
             ],
             [
              0.6666666666666666,
              "#ed7953"
             ],
             [
              0.7777777777777778,
              "#fb9f3a"
             ],
             [
              0.8888888888888888,
              "#fdca26"
             ],
             [
              1,
              "#f0f921"
             ]
            ],
            "type": "surface"
           }
          ],
          "table": [
           {
            "cells": {
             "fill": {
              "color": "#EBF0F8"
             },
             "line": {
              "color": "white"
             }
            },
            "header": {
             "fill": {
              "color": "#C8D4E3"
             },
             "line": {
              "color": "white"
             }
            },
            "type": "table"
           }
          ]
         },
         "layout": {
          "annotationdefaults": {
           "arrowcolor": "#2a3f5f",
           "arrowhead": 0,
           "arrowwidth": 1
          },
          "autotypenumbers": "strict",
          "coloraxis": {
           "colorbar": {
            "outlinewidth": 0,
            "ticks": ""
           }
          },
          "colorscale": {
           "diverging": [
            [
             0,
             "#8e0152"
            ],
            [
             0.1,
             "#c51b7d"
            ],
            [
             0.2,
             "#de77ae"
            ],
            [
             0.3,
             "#f1b6da"
            ],
            [
             0.4,
             "#fde0ef"
            ],
            [
             0.5,
             "#f7f7f7"
            ],
            [
             0.6,
             "#e6f5d0"
            ],
            [
             0.7,
             "#b8e186"
            ],
            [
             0.8,
             "#7fbc41"
            ],
            [
             0.9,
             "#4d9221"
            ],
            [
             1,
             "#276419"
            ]
           ],
           "sequential": [
            [
             0,
             "#0d0887"
            ],
            [
             0.1111111111111111,
             "#46039f"
            ],
            [
             0.2222222222222222,
             "#7201a8"
            ],
            [
             0.3333333333333333,
             "#9c179e"
            ],
            [
             0.4444444444444444,
             "#bd3786"
            ],
            [
             0.5555555555555556,
             "#d8576b"
            ],
            [
             0.6666666666666666,
             "#ed7953"
            ],
            [
             0.7777777777777778,
             "#fb9f3a"
            ],
            [
             0.8888888888888888,
             "#fdca26"
            ],
            [
             1,
             "#f0f921"
            ]
           ],
           "sequentialminus": [
            [
             0,
             "#0d0887"
            ],
            [
             0.1111111111111111,
             "#46039f"
            ],
            [
             0.2222222222222222,
             "#7201a8"
            ],
            [
             0.3333333333333333,
             "#9c179e"
            ],
            [
             0.4444444444444444,
             "#bd3786"
            ],
            [
             0.5555555555555556,
             "#d8576b"
            ],
            [
             0.6666666666666666,
             "#ed7953"
            ],
            [
             0.7777777777777778,
             "#fb9f3a"
            ],
            [
             0.8888888888888888,
             "#fdca26"
            ],
            [
             1,
             "#f0f921"
            ]
           ]
          },
          "colorway": [
           "#636efa",
           "#EF553B",
           "#00cc96",
           "#ab63fa",
           "#FFA15A",
           "#19d3f3",
           "#FF6692",
           "#B6E880",
           "#FF97FF",
           "#FECB52"
          ],
          "font": {
           "color": "#2a3f5f"
          },
          "geo": {
           "bgcolor": "white",
           "lakecolor": "white",
           "landcolor": "#E5ECF6",
           "showlakes": true,
           "showland": true,
           "subunitcolor": "white"
          },
          "hoverlabel": {
           "align": "left"
          },
          "hovermode": "closest",
          "mapbox": {
           "style": "light"
          },
          "paper_bgcolor": "white",
          "plot_bgcolor": "#E5ECF6",
          "polar": {
           "angularaxis": {
            "gridcolor": "white",
            "linecolor": "white",
            "ticks": ""
           },
           "bgcolor": "#E5ECF6",
           "radialaxis": {
            "gridcolor": "white",
            "linecolor": "white",
            "ticks": ""
           }
          },
          "scene": {
           "xaxis": {
            "backgroundcolor": "#E5ECF6",
            "gridcolor": "white",
            "gridwidth": 2,
            "linecolor": "white",
            "showbackground": true,
            "ticks": "",
            "zerolinecolor": "white"
           },
           "yaxis": {
            "backgroundcolor": "#E5ECF6",
            "gridcolor": "white",
            "gridwidth": 2,
            "linecolor": "white",
            "showbackground": true,
            "ticks": "",
            "zerolinecolor": "white"
           },
           "zaxis": {
            "backgroundcolor": "#E5ECF6",
            "gridcolor": "white",
            "gridwidth": 2,
            "linecolor": "white",
            "showbackground": true,
            "ticks": "",
            "zerolinecolor": "white"
           }
          },
          "shapedefaults": {
           "line": {
            "color": "#2a3f5f"
           }
          },
          "ternary": {
           "aaxis": {
            "gridcolor": "white",
            "linecolor": "white",
            "ticks": ""
           },
           "baxis": {
            "gridcolor": "white",
            "linecolor": "white",
            "ticks": ""
           },
           "bgcolor": "#E5ECF6",
           "caxis": {
            "gridcolor": "white",
            "linecolor": "white",
            "ticks": ""
           }
          },
          "title": {
           "x": 0.05
          },
          "xaxis": {
           "automargin": true,
           "gridcolor": "white",
           "linecolor": "white",
           "ticks": "",
           "title": {
            "standoff": 15
           },
           "zerolinecolor": "white",
           "zerolinewidth": 2
          },
          "yaxis": {
           "automargin": true,
           "gridcolor": "white",
           "linecolor": "white",
           "ticks": "",
           "title": {
            "standoff": 15
           },
           "zerolinecolor": "white",
           "zerolinewidth": 2
          }
         }
        },
        "title": {
         "text": "Media categories and articles frequency over time"
        },
        "xaxis": {
         "anchor": "y",
         "domain": [
          0,
          1
         ],
         "title": {
          "text": "date_year"
         }
        },
        "yaxis": {
         "anchor": "x",
         "domain": [
          0,
          1
         ],
         "title": {
          "text": "count"
         }
        }
       }
      },
      "text/html": [
       "<div>                            <div id=\"f6f8c611-c4b1-4dfb-9803-5f7f183609b6\" class=\"plotly-graph-div\" style=\"height:525px; width:100%;\"></div>            <script type=\"text/javascript\">                require([\"plotly\"], function(Plotly) {                    window.PLOTLYENV=window.PLOTLYENV || {};                                    if (document.getElementById(\"f6f8c611-c4b1-4dfb-9803-5f7f183609b6\")) {                    Plotly.newPlot(                        \"f6f8c611-c4b1-4dfb-9803-5f7f183609b6\",                        [{\"hovertemplate\": \"category=national<br>date_year=%{x}<br>count=%{y}<extra></extra>\", \"legendgroup\": \"national\", \"line\": {\"color\": \"#636efa\"}, \"mode\": \"lines\", \"name\": \"national\", \"orientation\": \"v\", \"showlegend\": true, \"stackgroup\": \"1\", \"type\": \"scatter\", \"x\": [2018, 2019, 2017, 2020, 2016, 2015, 2014, 2012, 2011, 2013], \"xaxis\": \"x\", \"y\": [14615, 11138, 9365, 6608, 4447, 2070, 1203, 440, 397, 377], \"yaxis\": \"y\"}, {\"hovertemplate\": \"category=regional<br>date_year=%{x}<br>count=%{y}<extra></extra>\", \"legendgroup\": \"regional\", \"line\": {\"color\": \"#EF553B\"}, \"mode\": \"lines\", \"name\": \"regional\", \"orientation\": \"v\", \"showlegend\": true, \"stackgroup\": \"1\", \"type\": \"scatter\", \"x\": [2019, 2018, 2017, 2020, 2016, 2015, 2014, 2011, 2012, 2013], \"xaxis\": \"x\", \"y\": [8452, 8189, 5926, 4130, 3106, 2741, 1485, 694, 599, 590], \"yaxis\": \"y\"}, {\"hovertemplate\": \"category=international<br>date_year=%{x}<br>count=%{y}<extra></extra>\", \"legendgroup\": \"international\", \"line\": {\"color\": \"#00cc96\"}, \"mode\": \"lines\", \"name\": \"international\", \"orientation\": \"v\", \"showlegend\": true, \"stackgroup\": \"1\", \"type\": \"scatter\", \"x\": [2018, 2017, 2019, 2016, 2020, 2015, 2014, 2012, 2013, 2011], \"xaxis\": \"x\", \"y\": [1984, 1710, 1384, 1176, 812, 596, 411, 155, 126, 120], \"yaxis\": \"y\"}],                        {\"legend\": {\"title\": {\"text\": \"category\"}, \"tracegroupgap\": 0}, \"template\": {\"data\": {\"bar\": [{\"error_x\": {\"color\": \"#2a3f5f\"}, \"error_y\": {\"color\": \"#2a3f5f\"}, \"marker\": {\"line\": {\"color\": \"#E5ECF6\", \"width\": 0.5}}, \"type\": \"bar\"}], \"barpolar\": [{\"marker\": {\"line\": {\"color\": \"#E5ECF6\", \"width\": 0.5}}, \"type\": \"barpolar\"}], \"carpet\": [{\"aaxis\": {\"endlinecolor\": \"#2a3f5f\", \"gridcolor\": \"white\", \"linecolor\": \"white\", \"minorgridcolor\": \"white\", \"startlinecolor\": \"#2a3f5f\"}, \"baxis\": {\"endlinecolor\": \"#2a3f5f\", \"gridcolor\": \"white\", \"linecolor\": \"white\", \"minorgridcolor\": \"white\", \"startlinecolor\": \"#2a3f5f\"}, \"type\": \"carpet\"}], \"choropleth\": [{\"colorbar\": {\"outlinewidth\": 0, \"ticks\": \"\"}, \"type\": \"choropleth\"}], \"contour\": [{\"colorbar\": {\"outlinewidth\": 0, \"ticks\": \"\"}, \"colorscale\": [[0.0, \"#0d0887\"], [0.1111111111111111, \"#46039f\"], [0.2222222222222222, \"#7201a8\"], [0.3333333333333333, \"#9c179e\"], [0.4444444444444444, \"#bd3786\"], [0.5555555555555556, \"#d8576b\"], [0.6666666666666666, \"#ed7953\"], [0.7777777777777778, \"#fb9f3a\"], [0.8888888888888888, \"#fdca26\"], [1.0, \"#f0f921\"]], \"type\": \"contour\"}], \"contourcarpet\": [{\"colorbar\": {\"outlinewidth\": 0, \"ticks\": \"\"}, \"type\": \"contourcarpet\"}], \"heatmap\": [{\"colorbar\": {\"outlinewidth\": 0, \"ticks\": \"\"}, \"colorscale\": [[0.0, \"#0d0887\"], [0.1111111111111111, \"#46039f\"], [0.2222222222222222, \"#7201a8\"], [0.3333333333333333, \"#9c179e\"], [0.4444444444444444, \"#bd3786\"], [0.5555555555555556, \"#d8576b\"], [0.6666666666666666, \"#ed7953\"], [0.7777777777777778, \"#fb9f3a\"], [0.8888888888888888, \"#fdca26\"], [1.0, \"#f0f921\"]], \"type\": \"heatmap\"}], \"heatmapgl\": [{\"colorbar\": {\"outlinewidth\": 0, \"ticks\": \"\"}, \"colorscale\": [[0.0, \"#0d0887\"], [0.1111111111111111, \"#46039f\"], [0.2222222222222222, \"#7201a8\"], [0.3333333333333333, \"#9c179e\"], [0.4444444444444444, \"#bd3786\"], [0.5555555555555556, \"#d8576b\"], [0.6666666666666666, \"#ed7953\"], [0.7777777777777778, \"#fb9f3a\"], [0.8888888888888888, \"#fdca26\"], [1.0, \"#f0f921\"]], \"type\": \"heatmapgl\"}], \"histogram\": [{\"marker\": {\"colorbar\": {\"outlinewidth\": 0, \"ticks\": \"\"}}, \"type\": \"histogram\"}], \"histogram2d\": [{\"colorbar\": {\"outlinewidth\": 0, \"ticks\": \"\"}, \"colorscale\": [[0.0, \"#0d0887\"], [0.1111111111111111, \"#46039f\"], [0.2222222222222222, \"#7201a8\"], [0.3333333333333333, \"#9c179e\"], [0.4444444444444444, \"#bd3786\"], [0.5555555555555556, \"#d8576b\"], [0.6666666666666666, \"#ed7953\"], [0.7777777777777778, \"#fb9f3a\"], [0.8888888888888888, \"#fdca26\"], [1.0, \"#f0f921\"]], \"type\": \"histogram2d\"}], \"histogram2dcontour\": [{\"colorbar\": {\"outlinewidth\": 0, \"ticks\": \"\"}, \"colorscale\": [[0.0, \"#0d0887\"], [0.1111111111111111, \"#46039f\"], [0.2222222222222222, \"#7201a8\"], [0.3333333333333333, \"#9c179e\"], [0.4444444444444444, \"#bd3786\"], [0.5555555555555556, \"#d8576b\"], [0.6666666666666666, \"#ed7953\"], [0.7777777777777778, \"#fb9f3a\"], [0.8888888888888888, \"#fdca26\"], [1.0, \"#f0f921\"]], \"type\": \"histogram2dcontour\"}], \"mesh3d\": [{\"colorbar\": {\"outlinewidth\": 0, \"ticks\": \"\"}, \"type\": \"mesh3d\"}], \"parcoords\": [{\"line\": {\"colorbar\": {\"outlinewidth\": 0, \"ticks\": \"\"}}, \"type\": \"parcoords\"}], \"pie\": [{\"automargin\": true, \"type\": \"pie\"}], \"scatter\": [{\"marker\": {\"colorbar\": {\"outlinewidth\": 0, \"ticks\": \"\"}}, \"type\": \"scatter\"}], \"scatter3d\": [{\"line\": {\"colorbar\": {\"outlinewidth\": 0, \"ticks\": \"\"}}, \"marker\": {\"colorbar\": {\"outlinewidth\": 0, \"ticks\": \"\"}}, \"type\": \"scatter3d\"}], \"scattercarpet\": [{\"marker\": {\"colorbar\": {\"outlinewidth\": 0, \"ticks\": \"\"}}, \"type\": \"scattercarpet\"}], \"scattergeo\": [{\"marker\": {\"colorbar\": {\"outlinewidth\": 0, \"ticks\": \"\"}}, \"type\": \"scattergeo\"}], \"scattergl\": [{\"marker\": {\"colorbar\": {\"outlinewidth\": 0, \"ticks\": \"\"}}, \"type\": \"scattergl\"}], \"scattermapbox\": [{\"marker\": {\"colorbar\": {\"outlinewidth\": 0, \"ticks\": \"\"}}, \"type\": \"scattermapbox\"}], \"scatterpolar\": [{\"marker\": {\"colorbar\": {\"outlinewidth\": 0, \"ticks\": \"\"}}, \"type\": \"scatterpolar\"}], \"scatterpolargl\": [{\"marker\": {\"colorbar\": {\"outlinewidth\": 0, \"ticks\": \"\"}}, \"type\": \"scatterpolargl\"}], \"scatterternary\": [{\"marker\": {\"colorbar\": {\"outlinewidth\": 0, \"ticks\": \"\"}}, \"type\": \"scatterternary\"}], \"surface\": [{\"colorbar\": {\"outlinewidth\": 0, \"ticks\": \"\"}, \"colorscale\": [[0.0, \"#0d0887\"], [0.1111111111111111, \"#46039f\"], [0.2222222222222222, \"#7201a8\"], [0.3333333333333333, \"#9c179e\"], [0.4444444444444444, \"#bd3786\"], [0.5555555555555556, \"#d8576b\"], [0.6666666666666666, \"#ed7953\"], [0.7777777777777778, \"#fb9f3a\"], [0.8888888888888888, \"#fdca26\"], [1.0, \"#f0f921\"]], \"type\": \"surface\"}], \"table\": [{\"cells\": {\"fill\": {\"color\": \"#EBF0F8\"}, \"line\": {\"color\": \"white\"}}, \"header\": {\"fill\": {\"color\": \"#C8D4E3\"}, \"line\": {\"color\": \"white\"}}, \"type\": \"table\"}]}, \"layout\": {\"annotationdefaults\": {\"arrowcolor\": \"#2a3f5f\", \"arrowhead\": 0, \"arrowwidth\": 1}, \"autotypenumbers\": \"strict\", \"coloraxis\": {\"colorbar\": {\"outlinewidth\": 0, \"ticks\": \"\"}}, \"colorscale\": {\"diverging\": [[0, \"#8e0152\"], [0.1, \"#c51b7d\"], [0.2, \"#de77ae\"], [0.3, \"#f1b6da\"], [0.4, \"#fde0ef\"], [0.5, \"#f7f7f7\"], [0.6, \"#e6f5d0\"], [0.7, \"#b8e186\"], [0.8, \"#7fbc41\"], [0.9, \"#4d9221\"], [1, \"#276419\"]], \"sequential\": [[0.0, \"#0d0887\"], [0.1111111111111111, \"#46039f\"], [0.2222222222222222, \"#7201a8\"], [0.3333333333333333, \"#9c179e\"], [0.4444444444444444, \"#bd3786\"], [0.5555555555555556, \"#d8576b\"], [0.6666666666666666, \"#ed7953\"], [0.7777777777777778, \"#fb9f3a\"], [0.8888888888888888, \"#fdca26\"], [1.0, \"#f0f921\"]], \"sequentialminus\": [[0.0, \"#0d0887\"], [0.1111111111111111, \"#46039f\"], [0.2222222222222222, \"#7201a8\"], [0.3333333333333333, \"#9c179e\"], [0.4444444444444444, \"#bd3786\"], [0.5555555555555556, \"#d8576b\"], [0.6666666666666666, \"#ed7953\"], [0.7777777777777778, \"#fb9f3a\"], [0.8888888888888888, \"#fdca26\"], [1.0, \"#f0f921\"]]}, \"colorway\": [\"#636efa\", \"#EF553B\", \"#00cc96\", \"#ab63fa\", \"#FFA15A\", \"#19d3f3\", \"#FF6692\", \"#B6E880\", \"#FF97FF\", \"#FECB52\"], \"font\": {\"color\": \"#2a3f5f\"}, \"geo\": {\"bgcolor\": \"white\", \"lakecolor\": \"white\", \"landcolor\": \"#E5ECF6\", \"showlakes\": true, \"showland\": true, \"subunitcolor\": \"white\"}, \"hoverlabel\": {\"align\": \"left\"}, \"hovermode\": \"closest\", \"mapbox\": {\"style\": \"light\"}, \"paper_bgcolor\": \"white\", \"plot_bgcolor\": \"#E5ECF6\", \"polar\": {\"angularaxis\": {\"gridcolor\": \"white\", \"linecolor\": \"white\", \"ticks\": \"\"}, \"bgcolor\": \"#E5ECF6\", \"radialaxis\": {\"gridcolor\": \"white\", \"linecolor\": \"white\", \"ticks\": \"\"}}, \"scene\": {\"xaxis\": {\"backgroundcolor\": \"#E5ECF6\", \"gridcolor\": \"white\", \"gridwidth\": 2, \"linecolor\": \"white\", \"showbackground\": true, \"ticks\": \"\", \"zerolinecolor\": \"white\"}, \"yaxis\": {\"backgroundcolor\": \"#E5ECF6\", \"gridcolor\": \"white\", \"gridwidth\": 2, \"linecolor\": \"white\", \"showbackground\": true, \"ticks\": \"\", \"zerolinecolor\": \"white\"}, \"zaxis\": {\"backgroundcolor\": \"#E5ECF6\", \"gridcolor\": \"white\", \"gridwidth\": 2, \"linecolor\": \"white\", \"showbackground\": true, \"ticks\": \"\", \"zerolinecolor\": \"white\"}}, \"shapedefaults\": {\"line\": {\"color\": \"#2a3f5f\"}}, \"ternary\": {\"aaxis\": {\"gridcolor\": \"white\", \"linecolor\": \"white\", \"ticks\": \"\"}, \"baxis\": {\"gridcolor\": \"white\", \"linecolor\": \"white\", \"ticks\": \"\"}, \"bgcolor\": \"#E5ECF6\", \"caxis\": {\"gridcolor\": \"white\", \"linecolor\": \"white\", \"ticks\": \"\"}}, \"title\": {\"x\": 0.05}, \"xaxis\": {\"automargin\": true, \"gridcolor\": \"white\", \"linecolor\": \"white\", \"ticks\": \"\", \"title\": {\"standoff\": 15}, \"zerolinecolor\": \"white\", \"zerolinewidth\": 2}, \"yaxis\": {\"automargin\": true, \"gridcolor\": \"white\", \"linecolor\": \"white\", \"ticks\": \"\", \"title\": {\"standoff\": 15}, \"zerolinecolor\": \"white\", \"zerolinewidth\": 2}}}, \"title\": {\"text\": \"Media categories and articles frequency over time\"}, \"xaxis\": {\"anchor\": \"y\", \"domain\": [0.0, 1.0], \"title\": {\"text\": \"date_year\"}}, \"yaxis\": {\"anchor\": \"x\", \"domain\": [0.0, 1.0], \"title\": {\"text\": \"count\"}}},                        {\"responsive\": true}                    ).then(function(){\n",
       "                            \n",
       "var gd = document.getElementById('f6f8c611-c4b1-4dfb-9803-5f7f183609b6');\n",
       "var x = new MutationObserver(function (mutations, observer) {{\n",
       "        var display = window.getComputedStyle(gd).display;\n",
       "        if (!display || display === 'none') {{\n",
       "            console.log([gd, 'removed!']);\n",
       "            Plotly.purge(gd);\n",
       "            observer.disconnect();\n",
       "        }}\n",
       "}});\n",
       "\n",
       "// Listen for the removal of the full notebook cells\n",
       "var notebookContainer = gd.closest('#notebook-container');\n",
       "if (notebookContainer) {{\n",
       "    x.observe(notebookContainer, {childList: true});\n",
       "}}\n",
       "\n",
       "// Listen for the clearing of the current output cell\n",
       "var outputEl = gd.closest('.output');\n",
       "if (outputEl) {{\n",
       "    x.observe(outputEl, {childList: true});\n",
       "}}\n",
       "\n",
       "                        })                };                });            </script>        </div>"
      ]
     },
     "metadata": {},
     "output_type": "display_data"
    }
   ],
   "source": [
    "# Visualization of the distribution\n",
    "fig = px.area(media_cat, x='date_year', y='count', color='category', title='Media categories and articles frequency over time')\n",
    "fig.show()"
   ]
  },
  {
   "cell_type": "code",
   "execution_count": 89,
   "metadata": {},
   "outputs": [
    {
     "data": {
      "application/vnd.plotly.v1+json": {
       "config": {
        "plotlyServerURL": "https://plot.ly"
       },
       "data": [
        {
         "groupnorm": "fraction",
         "hovertemplate": "category=national<br>date_year=%{x}<br>count=%{y}<extra></extra>",
         "legendgroup": "national",
         "line": {
          "color": "#636efa"
         },
         "mode": "lines",
         "name": "national",
         "orientation": "v",
         "showlegend": true,
         "stackgroup": "1",
         "type": "scatter",
         "x": [
          2018,
          2019,
          2017,
          2020,
          2016,
          2015,
          2014,
          2012,
          2011,
          2013
         ],
         "xaxis": "x",
         "y": [
          14615,
          11138,
          9365,
          6608,
          4447,
          2070,
          1203,
          440,
          397,
          377
         ],
         "yaxis": "y"
        },
        {
         "groupnorm": "fraction",
         "hovertemplate": "category=regional<br>date_year=%{x}<br>count=%{y}<extra></extra>",
         "legendgroup": "regional",
         "line": {
          "color": "#EF553B"
         },
         "mode": "lines",
         "name": "regional",
         "orientation": "v",
         "showlegend": true,
         "stackgroup": "1",
         "type": "scatter",
         "x": [
          2019,
          2018,
          2017,
          2020,
          2016,
          2015,
          2014,
          2011,
          2012,
          2013
         ],
         "xaxis": "x",
         "y": [
          8452,
          8189,
          5926,
          4130,
          3106,
          2741,
          1485,
          694,
          599,
          590
         ],
         "yaxis": "y"
        },
        {
         "groupnorm": "fraction",
         "hovertemplate": "category=international<br>date_year=%{x}<br>count=%{y}<extra></extra>",
         "legendgroup": "international",
         "line": {
          "color": "#00cc96"
         },
         "mode": "lines",
         "name": "international",
         "orientation": "v",
         "showlegend": true,
         "stackgroup": "1",
         "type": "scatter",
         "x": [
          2018,
          2017,
          2019,
          2016,
          2020,
          2015,
          2014,
          2012,
          2013,
          2011
         ],
         "xaxis": "x",
         "y": [
          1984,
          1710,
          1384,
          1176,
          812,
          596,
          411,
          155,
          126,
          120
         ],
         "yaxis": "y"
        }
       ],
       "layout": {
        "legend": {
         "title": {
          "text": "category"
         },
         "tracegroupgap": 0
        },
        "template": {
         "data": {
          "bar": [
           {
            "error_x": {
             "color": "#2a3f5f"
            },
            "error_y": {
             "color": "#2a3f5f"
            },
            "marker": {
             "line": {
              "color": "#E5ECF6",
              "width": 0.5
             }
            },
            "type": "bar"
           }
          ],
          "barpolar": [
           {
            "marker": {
             "line": {
              "color": "#E5ECF6",
              "width": 0.5
             }
            },
            "type": "barpolar"
           }
          ],
          "carpet": [
           {
            "aaxis": {
             "endlinecolor": "#2a3f5f",
             "gridcolor": "white",
             "linecolor": "white",
             "minorgridcolor": "white",
             "startlinecolor": "#2a3f5f"
            },
            "baxis": {
             "endlinecolor": "#2a3f5f",
             "gridcolor": "white",
             "linecolor": "white",
             "minorgridcolor": "white",
             "startlinecolor": "#2a3f5f"
            },
            "type": "carpet"
           }
          ],
          "choropleth": [
           {
            "colorbar": {
             "outlinewidth": 0,
             "ticks": ""
            },
            "type": "choropleth"
           }
          ],
          "contour": [
           {
            "colorbar": {
             "outlinewidth": 0,
             "ticks": ""
            },
            "colorscale": [
             [
              0,
              "#0d0887"
             ],
             [
              0.1111111111111111,
              "#46039f"
             ],
             [
              0.2222222222222222,
              "#7201a8"
             ],
             [
              0.3333333333333333,
              "#9c179e"
             ],
             [
              0.4444444444444444,
              "#bd3786"
             ],
             [
              0.5555555555555556,
              "#d8576b"
             ],
             [
              0.6666666666666666,
              "#ed7953"
             ],
             [
              0.7777777777777778,
              "#fb9f3a"
             ],
             [
              0.8888888888888888,
              "#fdca26"
             ],
             [
              1,
              "#f0f921"
             ]
            ],
            "type": "contour"
           }
          ],
          "contourcarpet": [
           {
            "colorbar": {
             "outlinewidth": 0,
             "ticks": ""
            },
            "type": "contourcarpet"
           }
          ],
          "heatmap": [
           {
            "colorbar": {
             "outlinewidth": 0,
             "ticks": ""
            },
            "colorscale": [
             [
              0,
              "#0d0887"
             ],
             [
              0.1111111111111111,
              "#46039f"
             ],
             [
              0.2222222222222222,
              "#7201a8"
             ],
             [
              0.3333333333333333,
              "#9c179e"
             ],
             [
              0.4444444444444444,
              "#bd3786"
             ],
             [
              0.5555555555555556,
              "#d8576b"
             ],
             [
              0.6666666666666666,
              "#ed7953"
             ],
             [
              0.7777777777777778,
              "#fb9f3a"
             ],
             [
              0.8888888888888888,
              "#fdca26"
             ],
             [
              1,
              "#f0f921"
             ]
            ],
            "type": "heatmap"
           }
          ],
          "heatmapgl": [
           {
            "colorbar": {
             "outlinewidth": 0,
             "ticks": ""
            },
            "colorscale": [
             [
              0,
              "#0d0887"
             ],
             [
              0.1111111111111111,
              "#46039f"
             ],
             [
              0.2222222222222222,
              "#7201a8"
             ],
             [
              0.3333333333333333,
              "#9c179e"
             ],
             [
              0.4444444444444444,
              "#bd3786"
             ],
             [
              0.5555555555555556,
              "#d8576b"
             ],
             [
              0.6666666666666666,
              "#ed7953"
             ],
             [
              0.7777777777777778,
              "#fb9f3a"
             ],
             [
              0.8888888888888888,
              "#fdca26"
             ],
             [
              1,
              "#f0f921"
             ]
            ],
            "type": "heatmapgl"
           }
          ],
          "histogram": [
           {
            "marker": {
             "colorbar": {
              "outlinewidth": 0,
              "ticks": ""
             }
            },
            "type": "histogram"
           }
          ],
          "histogram2d": [
           {
            "colorbar": {
             "outlinewidth": 0,
             "ticks": ""
            },
            "colorscale": [
             [
              0,
              "#0d0887"
             ],
             [
              0.1111111111111111,
              "#46039f"
             ],
             [
              0.2222222222222222,
              "#7201a8"
             ],
             [
              0.3333333333333333,
              "#9c179e"
             ],
             [
              0.4444444444444444,
              "#bd3786"
             ],
             [
              0.5555555555555556,
              "#d8576b"
             ],
             [
              0.6666666666666666,
              "#ed7953"
             ],
             [
              0.7777777777777778,
              "#fb9f3a"
             ],
             [
              0.8888888888888888,
              "#fdca26"
             ],
             [
              1,
              "#f0f921"
             ]
            ],
            "type": "histogram2d"
           }
          ],
          "histogram2dcontour": [
           {
            "colorbar": {
             "outlinewidth": 0,
             "ticks": ""
            },
            "colorscale": [
             [
              0,
              "#0d0887"
             ],
             [
              0.1111111111111111,
              "#46039f"
             ],
             [
              0.2222222222222222,
              "#7201a8"
             ],
             [
              0.3333333333333333,
              "#9c179e"
             ],
             [
              0.4444444444444444,
              "#bd3786"
             ],
             [
              0.5555555555555556,
              "#d8576b"
             ],
             [
              0.6666666666666666,
              "#ed7953"
             ],
             [
              0.7777777777777778,
              "#fb9f3a"
             ],
             [
              0.8888888888888888,
              "#fdca26"
             ],
             [
              1,
              "#f0f921"
             ]
            ],
            "type": "histogram2dcontour"
           }
          ],
          "mesh3d": [
           {
            "colorbar": {
             "outlinewidth": 0,
             "ticks": ""
            },
            "type": "mesh3d"
           }
          ],
          "parcoords": [
           {
            "line": {
             "colorbar": {
              "outlinewidth": 0,
              "ticks": ""
             }
            },
            "type": "parcoords"
           }
          ],
          "pie": [
           {
            "automargin": true,
            "type": "pie"
           }
          ],
          "scatter": [
           {
            "marker": {
             "colorbar": {
              "outlinewidth": 0,
              "ticks": ""
             }
            },
            "type": "scatter"
           }
          ],
          "scatter3d": [
           {
            "line": {
             "colorbar": {
              "outlinewidth": 0,
              "ticks": ""
             }
            },
            "marker": {
             "colorbar": {
              "outlinewidth": 0,
              "ticks": ""
             }
            },
            "type": "scatter3d"
           }
          ],
          "scattercarpet": [
           {
            "marker": {
             "colorbar": {
              "outlinewidth": 0,
              "ticks": ""
             }
            },
            "type": "scattercarpet"
           }
          ],
          "scattergeo": [
           {
            "marker": {
             "colorbar": {
              "outlinewidth": 0,
              "ticks": ""
             }
            },
            "type": "scattergeo"
           }
          ],
          "scattergl": [
           {
            "marker": {
             "colorbar": {
              "outlinewidth": 0,
              "ticks": ""
             }
            },
            "type": "scattergl"
           }
          ],
          "scattermapbox": [
           {
            "marker": {
             "colorbar": {
              "outlinewidth": 0,
              "ticks": ""
             }
            },
            "type": "scattermapbox"
           }
          ],
          "scatterpolar": [
           {
            "marker": {
             "colorbar": {
              "outlinewidth": 0,
              "ticks": ""
             }
            },
            "type": "scatterpolar"
           }
          ],
          "scatterpolargl": [
           {
            "marker": {
             "colorbar": {
              "outlinewidth": 0,
              "ticks": ""
             }
            },
            "type": "scatterpolargl"
           }
          ],
          "scatterternary": [
           {
            "marker": {
             "colorbar": {
              "outlinewidth": 0,
              "ticks": ""
             }
            },
            "type": "scatterternary"
           }
          ],
          "surface": [
           {
            "colorbar": {
             "outlinewidth": 0,
             "ticks": ""
            },
            "colorscale": [
             [
              0,
              "#0d0887"
             ],
             [
              0.1111111111111111,
              "#46039f"
             ],
             [
              0.2222222222222222,
              "#7201a8"
             ],
             [
              0.3333333333333333,
              "#9c179e"
             ],
             [
              0.4444444444444444,
              "#bd3786"
             ],
             [
              0.5555555555555556,
              "#d8576b"
             ],
             [
              0.6666666666666666,
              "#ed7953"
             ],
             [
              0.7777777777777778,
              "#fb9f3a"
             ],
             [
              0.8888888888888888,
              "#fdca26"
             ],
             [
              1,
              "#f0f921"
             ]
            ],
            "type": "surface"
           }
          ],
          "table": [
           {
            "cells": {
             "fill": {
              "color": "#EBF0F8"
             },
             "line": {
              "color": "white"
             }
            },
            "header": {
             "fill": {
              "color": "#C8D4E3"
             },
             "line": {
              "color": "white"
             }
            },
            "type": "table"
           }
          ]
         },
         "layout": {
          "annotationdefaults": {
           "arrowcolor": "#2a3f5f",
           "arrowhead": 0,
           "arrowwidth": 1
          },
          "autotypenumbers": "strict",
          "coloraxis": {
           "colorbar": {
            "outlinewidth": 0,
            "ticks": ""
           }
          },
          "colorscale": {
           "diverging": [
            [
             0,
             "#8e0152"
            ],
            [
             0.1,
             "#c51b7d"
            ],
            [
             0.2,
             "#de77ae"
            ],
            [
             0.3,
             "#f1b6da"
            ],
            [
             0.4,
             "#fde0ef"
            ],
            [
             0.5,
             "#f7f7f7"
            ],
            [
             0.6,
             "#e6f5d0"
            ],
            [
             0.7,
             "#b8e186"
            ],
            [
             0.8,
             "#7fbc41"
            ],
            [
             0.9,
             "#4d9221"
            ],
            [
             1,
             "#276419"
            ]
           ],
           "sequential": [
            [
             0,
             "#0d0887"
            ],
            [
             0.1111111111111111,
             "#46039f"
            ],
            [
             0.2222222222222222,
             "#7201a8"
            ],
            [
             0.3333333333333333,
             "#9c179e"
            ],
            [
             0.4444444444444444,
             "#bd3786"
            ],
            [
             0.5555555555555556,
             "#d8576b"
            ],
            [
             0.6666666666666666,
             "#ed7953"
            ],
            [
             0.7777777777777778,
             "#fb9f3a"
            ],
            [
             0.8888888888888888,
             "#fdca26"
            ],
            [
             1,
             "#f0f921"
            ]
           ],
           "sequentialminus": [
            [
             0,
             "#0d0887"
            ],
            [
             0.1111111111111111,
             "#46039f"
            ],
            [
             0.2222222222222222,
             "#7201a8"
            ],
            [
             0.3333333333333333,
             "#9c179e"
            ],
            [
             0.4444444444444444,
             "#bd3786"
            ],
            [
             0.5555555555555556,
             "#d8576b"
            ],
            [
             0.6666666666666666,
             "#ed7953"
            ],
            [
             0.7777777777777778,
             "#fb9f3a"
            ],
            [
             0.8888888888888888,
             "#fdca26"
            ],
            [
             1,
             "#f0f921"
            ]
           ]
          },
          "colorway": [
           "#636efa",
           "#EF553B",
           "#00cc96",
           "#ab63fa",
           "#FFA15A",
           "#19d3f3",
           "#FF6692",
           "#B6E880",
           "#FF97FF",
           "#FECB52"
          ],
          "font": {
           "color": "#2a3f5f"
          },
          "geo": {
           "bgcolor": "white",
           "lakecolor": "white",
           "landcolor": "#E5ECF6",
           "showlakes": true,
           "showland": true,
           "subunitcolor": "white"
          },
          "hoverlabel": {
           "align": "left"
          },
          "hovermode": "closest",
          "mapbox": {
           "style": "light"
          },
          "paper_bgcolor": "white",
          "plot_bgcolor": "#E5ECF6",
          "polar": {
           "angularaxis": {
            "gridcolor": "white",
            "linecolor": "white",
            "ticks": ""
           },
           "bgcolor": "#E5ECF6",
           "radialaxis": {
            "gridcolor": "white",
            "linecolor": "white",
            "ticks": ""
           }
          },
          "scene": {
           "xaxis": {
            "backgroundcolor": "#E5ECF6",
            "gridcolor": "white",
            "gridwidth": 2,
            "linecolor": "white",
            "showbackground": true,
            "ticks": "",
            "zerolinecolor": "white"
           },
           "yaxis": {
            "backgroundcolor": "#E5ECF6",
            "gridcolor": "white",
            "gridwidth": 2,
            "linecolor": "white",
            "showbackground": true,
            "ticks": "",
            "zerolinecolor": "white"
           },
           "zaxis": {
            "backgroundcolor": "#E5ECF6",
            "gridcolor": "white",
            "gridwidth": 2,
            "linecolor": "white",
            "showbackground": true,
            "ticks": "",
            "zerolinecolor": "white"
           }
          },
          "shapedefaults": {
           "line": {
            "color": "#2a3f5f"
           }
          },
          "ternary": {
           "aaxis": {
            "gridcolor": "white",
            "linecolor": "white",
            "ticks": ""
           },
           "baxis": {
            "gridcolor": "white",
            "linecolor": "white",
            "ticks": ""
           },
           "bgcolor": "#E5ECF6",
           "caxis": {
            "gridcolor": "white",
            "linecolor": "white",
            "ticks": ""
           }
          },
          "title": {
           "x": 0.05
          },
          "xaxis": {
           "automargin": true,
           "gridcolor": "white",
           "linecolor": "white",
           "ticks": "",
           "title": {
            "standoff": 15
           },
           "zerolinecolor": "white",
           "zerolinewidth": 2
          },
          "yaxis": {
           "automargin": true,
           "gridcolor": "white",
           "linecolor": "white",
           "ticks": "",
           "title": {
            "standoff": 15
           },
           "zerolinecolor": "white",
           "zerolinewidth": 2
          }
         }
        },
        "title": {
         "text": "Media categories and articles frequency over time"
        },
        "xaxis": {
         "anchor": "y",
         "domain": [
          0,
          1
         ],
         "title": {
          "text": "date_year"
         }
        },
        "yaxis": {
         "anchor": "x",
         "domain": [
          0,
          1
         ],
         "title": {
          "text": "count"
         }
        }
       }
      },
      "text/html": [
       "<div>                            <div id=\"43a7a91b-994c-44b6-8d5d-995720027644\" class=\"plotly-graph-div\" style=\"height:525px; width:100%;\"></div>            <script type=\"text/javascript\">                require([\"plotly\"], function(Plotly) {                    window.PLOTLYENV=window.PLOTLYENV || {};                                    if (document.getElementById(\"43a7a91b-994c-44b6-8d5d-995720027644\")) {                    Plotly.newPlot(                        \"43a7a91b-994c-44b6-8d5d-995720027644\",                        [{\"groupnorm\": \"fraction\", \"hovertemplate\": \"category=national<br>date_year=%{x}<br>count=%{y}<extra></extra>\", \"legendgroup\": \"national\", \"line\": {\"color\": \"#636efa\"}, \"mode\": \"lines\", \"name\": \"national\", \"orientation\": \"v\", \"showlegend\": true, \"stackgroup\": \"1\", \"type\": \"scatter\", \"x\": [2018, 2019, 2017, 2020, 2016, 2015, 2014, 2012, 2011, 2013], \"xaxis\": \"x\", \"y\": [14615, 11138, 9365, 6608, 4447, 2070, 1203, 440, 397, 377], \"yaxis\": \"y\"}, {\"groupnorm\": \"fraction\", \"hovertemplate\": \"category=regional<br>date_year=%{x}<br>count=%{y}<extra></extra>\", \"legendgroup\": \"regional\", \"line\": {\"color\": \"#EF553B\"}, \"mode\": \"lines\", \"name\": \"regional\", \"orientation\": \"v\", \"showlegend\": true, \"stackgroup\": \"1\", \"type\": \"scatter\", \"x\": [2019, 2018, 2017, 2020, 2016, 2015, 2014, 2011, 2012, 2013], \"xaxis\": \"x\", \"y\": [8452, 8189, 5926, 4130, 3106, 2741, 1485, 694, 599, 590], \"yaxis\": \"y\"}, {\"groupnorm\": \"fraction\", \"hovertemplate\": \"category=international<br>date_year=%{x}<br>count=%{y}<extra></extra>\", \"legendgroup\": \"international\", \"line\": {\"color\": \"#00cc96\"}, \"mode\": \"lines\", \"name\": \"international\", \"orientation\": \"v\", \"showlegend\": true, \"stackgroup\": \"1\", \"type\": \"scatter\", \"x\": [2018, 2017, 2019, 2016, 2020, 2015, 2014, 2012, 2013, 2011], \"xaxis\": \"x\", \"y\": [1984, 1710, 1384, 1176, 812, 596, 411, 155, 126, 120], \"yaxis\": \"y\"}],                        {\"legend\": {\"title\": {\"text\": \"category\"}, \"tracegroupgap\": 0}, \"template\": {\"data\": {\"bar\": [{\"error_x\": {\"color\": \"#2a3f5f\"}, \"error_y\": {\"color\": \"#2a3f5f\"}, \"marker\": {\"line\": {\"color\": \"#E5ECF6\", \"width\": 0.5}}, \"type\": \"bar\"}], \"barpolar\": [{\"marker\": {\"line\": {\"color\": \"#E5ECF6\", \"width\": 0.5}}, \"type\": \"barpolar\"}], \"carpet\": [{\"aaxis\": {\"endlinecolor\": \"#2a3f5f\", \"gridcolor\": \"white\", \"linecolor\": \"white\", \"minorgridcolor\": \"white\", \"startlinecolor\": \"#2a3f5f\"}, \"baxis\": {\"endlinecolor\": \"#2a3f5f\", \"gridcolor\": \"white\", \"linecolor\": \"white\", \"minorgridcolor\": \"white\", \"startlinecolor\": \"#2a3f5f\"}, \"type\": \"carpet\"}], \"choropleth\": [{\"colorbar\": {\"outlinewidth\": 0, \"ticks\": \"\"}, \"type\": \"choropleth\"}], \"contour\": [{\"colorbar\": {\"outlinewidth\": 0, \"ticks\": \"\"}, \"colorscale\": [[0.0, \"#0d0887\"], [0.1111111111111111, \"#46039f\"], [0.2222222222222222, \"#7201a8\"], [0.3333333333333333, \"#9c179e\"], [0.4444444444444444, \"#bd3786\"], [0.5555555555555556, \"#d8576b\"], [0.6666666666666666, \"#ed7953\"], [0.7777777777777778, \"#fb9f3a\"], [0.8888888888888888, \"#fdca26\"], [1.0, \"#f0f921\"]], \"type\": \"contour\"}], \"contourcarpet\": [{\"colorbar\": {\"outlinewidth\": 0, \"ticks\": \"\"}, \"type\": \"contourcarpet\"}], \"heatmap\": [{\"colorbar\": {\"outlinewidth\": 0, \"ticks\": \"\"}, \"colorscale\": [[0.0, \"#0d0887\"], [0.1111111111111111, \"#46039f\"], [0.2222222222222222, \"#7201a8\"], [0.3333333333333333, \"#9c179e\"], [0.4444444444444444, \"#bd3786\"], [0.5555555555555556, \"#d8576b\"], [0.6666666666666666, \"#ed7953\"], [0.7777777777777778, \"#fb9f3a\"], [0.8888888888888888, \"#fdca26\"], [1.0, \"#f0f921\"]], \"type\": \"heatmap\"}], \"heatmapgl\": [{\"colorbar\": {\"outlinewidth\": 0, \"ticks\": \"\"}, \"colorscale\": [[0.0, \"#0d0887\"], [0.1111111111111111, \"#46039f\"], [0.2222222222222222, \"#7201a8\"], [0.3333333333333333, \"#9c179e\"], [0.4444444444444444, \"#bd3786\"], [0.5555555555555556, \"#d8576b\"], [0.6666666666666666, \"#ed7953\"], [0.7777777777777778, \"#fb9f3a\"], [0.8888888888888888, \"#fdca26\"], [1.0, \"#f0f921\"]], \"type\": \"heatmapgl\"}], \"histogram\": [{\"marker\": {\"colorbar\": {\"outlinewidth\": 0, \"ticks\": \"\"}}, \"type\": \"histogram\"}], \"histogram2d\": [{\"colorbar\": {\"outlinewidth\": 0, \"ticks\": \"\"}, \"colorscale\": [[0.0, \"#0d0887\"], [0.1111111111111111, \"#46039f\"], [0.2222222222222222, \"#7201a8\"], [0.3333333333333333, \"#9c179e\"], [0.4444444444444444, \"#bd3786\"], [0.5555555555555556, \"#d8576b\"], [0.6666666666666666, \"#ed7953\"], [0.7777777777777778, \"#fb9f3a\"], [0.8888888888888888, \"#fdca26\"], [1.0, \"#f0f921\"]], \"type\": \"histogram2d\"}], \"histogram2dcontour\": [{\"colorbar\": {\"outlinewidth\": 0, \"ticks\": \"\"}, \"colorscale\": [[0.0, \"#0d0887\"], [0.1111111111111111, \"#46039f\"], [0.2222222222222222, \"#7201a8\"], [0.3333333333333333, \"#9c179e\"], [0.4444444444444444, \"#bd3786\"], [0.5555555555555556, \"#d8576b\"], [0.6666666666666666, \"#ed7953\"], [0.7777777777777778, \"#fb9f3a\"], [0.8888888888888888, \"#fdca26\"], [1.0, \"#f0f921\"]], \"type\": \"histogram2dcontour\"}], \"mesh3d\": [{\"colorbar\": {\"outlinewidth\": 0, \"ticks\": \"\"}, \"type\": \"mesh3d\"}], \"parcoords\": [{\"line\": {\"colorbar\": {\"outlinewidth\": 0, \"ticks\": \"\"}}, \"type\": \"parcoords\"}], \"pie\": [{\"automargin\": true, \"type\": \"pie\"}], \"scatter\": [{\"marker\": {\"colorbar\": {\"outlinewidth\": 0, \"ticks\": \"\"}}, \"type\": \"scatter\"}], \"scatter3d\": [{\"line\": {\"colorbar\": {\"outlinewidth\": 0, \"ticks\": \"\"}}, \"marker\": {\"colorbar\": {\"outlinewidth\": 0, \"ticks\": \"\"}}, \"type\": \"scatter3d\"}], \"scattercarpet\": [{\"marker\": {\"colorbar\": {\"outlinewidth\": 0, \"ticks\": \"\"}}, \"type\": \"scattercarpet\"}], \"scattergeo\": [{\"marker\": {\"colorbar\": {\"outlinewidth\": 0, \"ticks\": \"\"}}, \"type\": \"scattergeo\"}], \"scattergl\": [{\"marker\": {\"colorbar\": {\"outlinewidth\": 0, \"ticks\": \"\"}}, \"type\": \"scattergl\"}], \"scattermapbox\": [{\"marker\": {\"colorbar\": {\"outlinewidth\": 0, \"ticks\": \"\"}}, \"type\": \"scattermapbox\"}], \"scatterpolar\": [{\"marker\": {\"colorbar\": {\"outlinewidth\": 0, \"ticks\": \"\"}}, \"type\": \"scatterpolar\"}], \"scatterpolargl\": [{\"marker\": {\"colorbar\": {\"outlinewidth\": 0, \"ticks\": \"\"}}, \"type\": \"scatterpolargl\"}], \"scatterternary\": [{\"marker\": {\"colorbar\": {\"outlinewidth\": 0, \"ticks\": \"\"}}, \"type\": \"scatterternary\"}], \"surface\": [{\"colorbar\": {\"outlinewidth\": 0, \"ticks\": \"\"}, \"colorscale\": [[0.0, \"#0d0887\"], [0.1111111111111111, \"#46039f\"], [0.2222222222222222, \"#7201a8\"], [0.3333333333333333, \"#9c179e\"], [0.4444444444444444, \"#bd3786\"], [0.5555555555555556, \"#d8576b\"], [0.6666666666666666, \"#ed7953\"], [0.7777777777777778, \"#fb9f3a\"], [0.8888888888888888, \"#fdca26\"], [1.0, \"#f0f921\"]], \"type\": \"surface\"}], \"table\": [{\"cells\": {\"fill\": {\"color\": \"#EBF0F8\"}, \"line\": {\"color\": \"white\"}}, \"header\": {\"fill\": {\"color\": \"#C8D4E3\"}, \"line\": {\"color\": \"white\"}}, \"type\": \"table\"}]}, \"layout\": {\"annotationdefaults\": {\"arrowcolor\": \"#2a3f5f\", \"arrowhead\": 0, \"arrowwidth\": 1}, \"autotypenumbers\": \"strict\", \"coloraxis\": {\"colorbar\": {\"outlinewidth\": 0, \"ticks\": \"\"}}, \"colorscale\": {\"diverging\": [[0, \"#8e0152\"], [0.1, \"#c51b7d\"], [0.2, \"#de77ae\"], [0.3, \"#f1b6da\"], [0.4, \"#fde0ef\"], [0.5, \"#f7f7f7\"], [0.6, \"#e6f5d0\"], [0.7, \"#b8e186\"], [0.8, \"#7fbc41\"], [0.9, \"#4d9221\"], [1, \"#276419\"]], \"sequential\": [[0.0, \"#0d0887\"], [0.1111111111111111, \"#46039f\"], [0.2222222222222222, \"#7201a8\"], [0.3333333333333333, \"#9c179e\"], [0.4444444444444444, \"#bd3786\"], [0.5555555555555556, \"#d8576b\"], [0.6666666666666666, \"#ed7953\"], [0.7777777777777778, \"#fb9f3a\"], [0.8888888888888888, \"#fdca26\"], [1.0, \"#f0f921\"]], \"sequentialminus\": [[0.0, \"#0d0887\"], [0.1111111111111111, \"#46039f\"], [0.2222222222222222, \"#7201a8\"], [0.3333333333333333, \"#9c179e\"], [0.4444444444444444, \"#bd3786\"], [0.5555555555555556, \"#d8576b\"], [0.6666666666666666, \"#ed7953\"], [0.7777777777777778, \"#fb9f3a\"], [0.8888888888888888, \"#fdca26\"], [1.0, \"#f0f921\"]]}, \"colorway\": [\"#636efa\", \"#EF553B\", \"#00cc96\", \"#ab63fa\", \"#FFA15A\", \"#19d3f3\", \"#FF6692\", \"#B6E880\", \"#FF97FF\", \"#FECB52\"], \"font\": {\"color\": \"#2a3f5f\"}, \"geo\": {\"bgcolor\": \"white\", \"lakecolor\": \"white\", \"landcolor\": \"#E5ECF6\", \"showlakes\": true, \"showland\": true, \"subunitcolor\": \"white\"}, \"hoverlabel\": {\"align\": \"left\"}, \"hovermode\": \"closest\", \"mapbox\": {\"style\": \"light\"}, \"paper_bgcolor\": \"white\", \"plot_bgcolor\": \"#E5ECF6\", \"polar\": {\"angularaxis\": {\"gridcolor\": \"white\", \"linecolor\": \"white\", \"ticks\": \"\"}, \"bgcolor\": \"#E5ECF6\", \"radialaxis\": {\"gridcolor\": \"white\", \"linecolor\": \"white\", \"ticks\": \"\"}}, \"scene\": {\"xaxis\": {\"backgroundcolor\": \"#E5ECF6\", \"gridcolor\": \"white\", \"gridwidth\": 2, \"linecolor\": \"white\", \"showbackground\": true, \"ticks\": \"\", \"zerolinecolor\": \"white\"}, \"yaxis\": {\"backgroundcolor\": \"#E5ECF6\", \"gridcolor\": \"white\", \"gridwidth\": 2, \"linecolor\": \"white\", \"showbackground\": true, \"ticks\": \"\", \"zerolinecolor\": \"white\"}, \"zaxis\": {\"backgroundcolor\": \"#E5ECF6\", \"gridcolor\": \"white\", \"gridwidth\": 2, \"linecolor\": \"white\", \"showbackground\": true, \"ticks\": \"\", \"zerolinecolor\": \"white\"}}, \"shapedefaults\": {\"line\": {\"color\": \"#2a3f5f\"}}, \"ternary\": {\"aaxis\": {\"gridcolor\": \"white\", \"linecolor\": \"white\", \"ticks\": \"\"}, \"baxis\": {\"gridcolor\": \"white\", \"linecolor\": \"white\", \"ticks\": \"\"}, \"bgcolor\": \"#E5ECF6\", \"caxis\": {\"gridcolor\": \"white\", \"linecolor\": \"white\", \"ticks\": \"\"}}, \"title\": {\"x\": 0.05}, \"xaxis\": {\"automargin\": true, \"gridcolor\": \"white\", \"linecolor\": \"white\", \"ticks\": \"\", \"title\": {\"standoff\": 15}, \"zerolinecolor\": \"white\", \"zerolinewidth\": 2}, \"yaxis\": {\"automargin\": true, \"gridcolor\": \"white\", \"linecolor\": \"white\", \"ticks\": \"\", \"title\": {\"standoff\": 15}, \"zerolinecolor\": \"white\", \"zerolinewidth\": 2}}}, \"title\": {\"text\": \"Media categories and articles frequency over time\"}, \"xaxis\": {\"anchor\": \"y\", \"domain\": [0.0, 1.0], \"title\": {\"text\": \"date_year\"}}, \"yaxis\": {\"anchor\": \"x\", \"domain\": [0.0, 1.0], \"title\": {\"text\": \"count\"}}},                        {\"responsive\": true}                    ).then(function(){\n",
       "                            \n",
       "var gd = document.getElementById('43a7a91b-994c-44b6-8d5d-995720027644');\n",
       "var x = new MutationObserver(function (mutations, observer) {{\n",
       "        var display = window.getComputedStyle(gd).display;\n",
       "        if (!display || display === 'none') {{\n",
       "            console.log([gd, 'removed!']);\n",
       "            Plotly.purge(gd);\n",
       "            observer.disconnect();\n",
       "        }}\n",
       "}});\n",
       "\n",
       "// Listen for the removal of the full notebook cells\n",
       "var notebookContainer = gd.closest('#notebook-container');\n",
       "if (notebookContainer) {{\n",
       "    x.observe(notebookContainer, {childList: true});\n",
       "}}\n",
       "\n",
       "// Listen for the clearing of the current output cell\n",
       "var outputEl = gd.closest('.output');\n",
       "if (outputEl) {{\n",
       "    x.observe(outputEl, {childList: true});\n",
       "}}\n",
       "\n",
       "                        })                };                });            </script>        </div>"
      ]
     },
     "metadata": {},
     "output_type": "display_data"
    }
   ],
   "source": [
    "# Normalized values\n",
    "fig = px.area(media_cat, x='date_year', y='count', color='category', title='Media categories and articles frequency over time', groupnorm='fraction')\n",
    "fig.show()"
   ]
  },
  {
   "cell_type": "markdown",
   "metadata": {},
   "source": [
    "### Cleaning the author column values"
   ]
  },
  {
   "cell_type": "code",
   "execution_count": 90,
   "metadata": {},
   "outputs": [],
   "source": [
    "corpus_complet['author'] = corpus_complet['author'].str.replace(\"-\", ' ')"
   ]
  },
  {
   "cell_type": "code",
   "execution_count": 91,
   "metadata": {},
   "outputs": [
    {
     "data": {
      "text/plain": [
       "8788"
      ]
     },
     "execution_count": 91,
     "metadata": {},
     "output_type": "execute_result"
    }
   ],
   "source": [
    "corpus_complet['author'].nunique()"
   ]
  },
  {
   "cell_type": "code",
   "execution_count": 92,
   "metadata": {},
   "outputs": [],
   "source": [
    "authors_media = corpus_complet.value_counts([\"author\", \"journal\"])\n",
    "authors_media = authors_media.reset_index().rename(columns={'index': 'author', 0:'count'})"
   ]
  },
  {
   "cell_type": "code",
   "execution_count": 93,
   "metadata": {},
   "outputs": [],
   "source": [
    "# Saving the names of the articles authors for the Twitter analysis\n",
    "authors_media.to_excel('media_authors.xlsx', index = False, header=True, encoding='utf-8')"
   ]
  },
  {
   "cell_type": "markdown",
   "metadata": {},
   "source": [
    "### Cleaning the title column values"
   ]
  },
  {
   "cell_type": "code",
   "execution_count": 94,
   "metadata": {},
   "outputs": [
    {
     "data": {
      "text/plain": [
       "198                 IA-contre-DC:-le-match-n’aura-pas-lieu\n",
       "199                     IA-:-comment-la-Chine-veut-briller\n",
       "200      [l'intelligence--artificielle-est-l'ensemble-d...\n",
       "201      L’avocat-sera-t-il-remplacé-par-une--intellige...\n",
       "202      [watson-et-les-banquesL'intelligence--artifici...\n",
       "                               ...                        \n",
       "35623                      Des-subventions-qui-interrogent\n",
       "35624                     Je-vends-(ou-transmets)-mon-bien\n",
       "35625      J’achète-un-logement-pour-l’occuper-ou-le-louer\n",
       "35626            Les-inquiétudes-d’un-ancien-élu-noyantais\n",
       "35627      Les-esclaves-antiques,-ancêtres-de-nos-robots-?\n",
       "Name: title, Length: 47162, dtype: object"
      ]
     },
     "execution_count": 94,
     "metadata": {},
     "output_type": "execute_result"
    }
   ],
   "source": [
    "corpus_complet['title']"
   ]
  },
  {
   "cell_type": "code",
   "execution_count": 95,
   "metadata": {},
   "outputs": [
    {
     "name": "stderr",
     "output_type": "stream",
     "text": [
      "<ipython-input-95-24a0dc1c5f83>:2: FutureWarning:\n",
      "\n",
      "The default value of regex will change from True to False in a future version. In addition, single character regular expressions will*not* be treated as literal strings when regex=True.\n",
      "\n",
      "<ipython-input-95-24a0dc1c5f83>:3: FutureWarning:\n",
      "\n",
      "The default value of regex will change from True to False in a future version. In addition, single character regular expressions will*not* be treated as literal strings when regex=True.\n",
      "\n"
     ]
    }
   ],
   "source": [
    "corpus_complet['title_clean'] = corpus_complet['title'].str.replace(\"-\", ' ')\n",
    "corpus_complet['title_clean'] = corpus_complet['title_clean'].str.replace(\"[\", '')\n",
    "corpus_complet['title_clean'] = corpus_complet['title_clean'].str.replace(\"]\", '')"
   ]
  },
  {
   "cell_type": "code",
   "execution_count": 96,
   "metadata": {},
   "outputs": [
    {
     "data": {
      "text/plain": [
       "198                 IA contre DC: le match n’aura pas lieu\n",
       "199                     IA : comment la Chine veut briller\n",
       "200      l'intelligence  artificielle est l'ensemble de...\n",
       "201      L’avocat sera t il remplacé par une  intellige...\n",
       "202      watson et les banquesL'intelligence  artificie...\n",
       "                               ...                        \n",
       "35623                      Des subventions qui interrogent\n",
       "35624                     Je vends (ou transmets) mon bien\n",
       "35625      J’achète un logement pour l’occuper ou le louer\n",
       "35626            Les inquiétudes d’un ancien élu noyantais\n",
       "35627      Les esclaves antiques, ancêtres de nos robots ?\n",
       "Name: title_clean, Length: 47162, dtype: object"
      ]
     },
     "execution_count": 96,
     "metadata": {},
     "output_type": "execute_result"
    }
   ],
   "source": [
    "corpus_complet['title_clean']"
   ]
  },
  {
   "cell_type": "markdown",
   "metadata": {},
   "source": [
    "### Creating unique ID column"
   ]
  },
  {
   "cell_type": "code",
   "execution_count": 97,
   "metadata": {},
   "outputs": [],
   "source": [
    "n = []\n",
    "for i in corpus_complet.index:\n",
    "    n.append(random.randint(10000,100000))\n",
    "corpus_complet['unique_id'] = n"
   ]
  },
  {
   "cell_type": "markdown",
   "metadata": {},
   "source": [
    "### Creating final dataframe"
   ]
  },
  {
   "cell_type": "code",
   "execution_count": 98,
   "metadata": {},
   "outputs": [],
   "source": [
    "corpus_complet_short = corpus_complet[['unique_id', 'author','journal_clean', 'content', 'date', 'date_month', 'date_year', 'title_clean', 'key_words']]"
   ]
  },
  {
   "cell_type": "code",
   "execution_count": 99,
   "metadata": {},
   "outputs": [
    {
     "name": "stdout",
     "output_type": "stream",
     "text": [
      "Total number of records in the final dataset: (47162, 9)\n"
     ]
    }
   ],
   "source": [
    "print('Total number of records in the final dataset:', corpus_complet_short.shape)"
   ]
  },
  {
   "cell_type": "code",
   "execution_count": 100,
   "metadata": {},
   "outputs": [],
   "source": [
    "# Saving dataset in the csv file\n",
    "corpus_complet_short.to_csv('corpus_FE.csv', index = False, header=True)"
   ]
  },
  {
   "cell_type": "code",
   "execution_count": null,
   "metadata": {},
   "outputs": [],
   "source": []
  }
 ],
 "metadata": {
  "deepnote": {},
  "deepnote_execution_queue": [],
  "deepnote_notebook_id": "da3ad944-47d0-4e1b-9931-f65d4e1f7758",
  "kernelspec": {
   "display_name": "Python 3",
   "language": "python",
   "name": "python3"
  },
  "language_info": {
   "codemirror_mode": {
    "name": "ipython",
    "version": 3
   },
   "file_extension": ".py",
   "mimetype": "text/x-python",
   "name": "python",
   "nbconvert_exporter": "python",
   "pygments_lexer": "ipython3",
   "version": "3.8.5"
  }
 },
 "nbformat": 4,
 "nbformat_minor": 2
}
